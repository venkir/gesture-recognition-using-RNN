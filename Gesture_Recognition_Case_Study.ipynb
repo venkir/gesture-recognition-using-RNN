{
 "cells": [
  {
   "cell_type": "markdown",
   "metadata": {
    "id": "uJ0-igirFQCs"
   },
   "source": [
    "# Google colab related code."
   ]
  },
  {
   "cell_type": "code",
   "execution_count": 1,
   "metadata": {
    "colab": {
     "base_uri": "https://localhost:8080/"
    },
    "id": "Y1Lt6963kY1I",
    "outputId": "7d44755a-b20d-4e88-ab78-ba795a7f45e0"
   },
   "outputs": [],
   "source": [
    "#In case if we are running this code in google colab. We will mount grdive where I have dataset and extracting it.\n",
    "#from google.colab import drive\n",
    "#import os\n",
    "#drive.mount('/content/gdrive')\n",
    "#os.chdir(\"/content/gdrive/MyDrive/Colab Notebooks/Gesture_Recognition_Cast_study\")\n",
    "#!unzip Project_data.zip\n",
    "#!rm -rf model*\n",
    "#!ls"
   ]
  },
  {
   "cell_type": "code",
   "execution_count": 2,
   "metadata": {
    "id": "TF9o4nU9DhRy"
   },
   "outputs": [],
   "source": [
    "#Checking how may folders are there inside train and val folder\n",
    "#!ls Project_data/train | wc -l\n",
    "#!ls Project_data/val | wc -l"
   ]
  },
  {
   "cell_type": "markdown",
   "metadata": {
    "id": "lEg4aLYKRdhu"
   },
   "source": [
    "# JavrisLab related code"
   ]
  },
  {
   "cell_type": "code",
   "execution_count": 2,
   "metadata": {
    "id": "Mm7lvDtaRdhv"
   },
   "outputs": [
    {
     "name": "stdout",
     "output_type": "stream",
     "text": [
      "Collecting pip\n",
      "  Using cached pip-21.2.2-py3-none-any.whl (1.6 MB)\n",
      "Installing collected packages: pip\n",
      "  Attempting uninstall: pip\n",
      "    Found existing installation: pip 20.2.4\n",
      "    Uninstalling pip-20.2.4:\n",
      "      Successfully uninstalled pip-20.2.4\n",
      "Successfully installed pip-21.2.2\n",
      "Collecting keras\n",
      "  Using cached Keras-2.4.3-py2.py3-none-any.whl (36 kB)\n",
      "Requirement already satisfied: pyyaml in /usr/local/lib/python3.6/dist-packages (from keras) (5.3.1)\n",
      "Requirement already satisfied: h5py in /usr/local/lib/python3.6/dist-packages (from keras) (2.10.0)\n",
      "Requirement already satisfied: scipy>=0.14 in /usr/local/lib/python3.6/dist-packages (from keras) (1.4.1)\n",
      "Requirement already satisfied: numpy>=1.9.1 in /usr/local/lib/python3.6/dist-packages (from keras) (1.17.3)\n",
      "Requirement already satisfied: six in /usr/local/lib/python3.6/dist-packages (from h5py->keras) (1.15.0)\n",
      "Installing collected packages: keras\n",
      "Successfully installed keras-2.4.3\n",
      "\u001b[33mWARNING: Running pip as the 'root' user can result in broken permissions and conflicting behaviour with the system package manager. It is recommended to use a virtual environment instead: https://pip.pypa.io/warnings/venv\u001b[0m\n",
      "663\n",
      "100\n"
     ]
    }
   ],
   "source": [
    "#!pip install --upgrade pip\n",
    "#!pip install keras\n",
    "#!ls datasets/Project_data/train | wc -l\n",
    "#!ls datasets/Project_data/val | wc -l"
   ]
  },
  {
   "cell_type": "markdown",
   "metadata": {
    "id": "yuM_czf5Znsc"
   },
   "source": [
    "# Gesture Recognition - Case Study\n",
    "In this group project, you are going to build a 3D Conv model that will be able to predict the 5 gestures correctly. Please import the following libraries to get started.\n",
    "### Problem Statement:\n",
    "Imagine you are working as a data scientist at a home electronics company which manufactures state of the art smart televisions. You want to develop a cool feature in the smart-TV that can recognise five different gestures performed by the user which will help users control the TV without using a remote.\n",
    "\n",
    "The gestures are continuously monitored by the webcam mounted on the TV. Each gesture corresponds to a specific command:\n",
    "\n",
    "- Thumbs up:  Increase the volume\n",
    "- Thumbs down: Decrease the volume\n",
    "- Left swipe: 'Jump' backwards 10 seconds\n",
    "- Right swipe: 'Jump' forward 10 seconds  \n",
    "- Stop: Pause the movie\n",
    "\n",
    "### By:\n",
    "- Venki Ramachandran\n",
    "- Kiran Khairnar(Group Facilitator )"
   ]
  },
  {
   "cell_type": "code",
   "execution_count": 3,
   "metadata": {
    "id": "n1Li8HvOZnsh"
   },
   "outputs": [],
   "source": [
    "import os\n",
    "import datetime\n",
    "import imageio\n",
    "import pathlib\n",
    "import tensorflow as tf\n",
    "import matplotlib.pyplot as plt\n",
    "import seaborn as sns\n",
    "import numpy as np\n",
    "import pandas as pd\n",
    "from glob import glob\n",
    "import PIL\n",
    "import cv2\n",
    "from skimage.transform import rescale, resize, downscale_local_mean\n",
    "from keras.models import Sequential, Model\n",
    "from keras.layers import Dense, GRU, Flatten, TimeDistributed, Flatten, BatchNormalization, Activation, Dropout\n",
    "from keras.layers.convolutional import Conv3D, Conv2D, MaxPooling3D, MaxPooling2D\n",
    "from keras.layers.recurrent import LSTM\n",
    "from keras.callbacks import ModelCheckpoint, ReduceLROnPlateau\n",
    "from keras import optimizers\n",
    "from keras.applications.vgg16 import VGG16\n",
    "from keras.applications import mobilenet\n",
    "from keras.applications.mobilenet_v2 import MobileNetV2\n",
    "import fnmatch\n",
    "from keras import backend as K\n",
    "import random as rn\n",
    "%matplotlib inline\n",
    "import warnings as warnings\n",
    "#Supress warnings\n",
    "warnings.filterwarnings(\"ignore\")"
   ]
  },
  {
   "cell_type": "markdown",
   "metadata": {
    "id": "YhP5glYbZnsm"
   },
   "source": [
    "We set the random seed so that the results don't vary drastically."
   ]
  },
  {
   "cell_type": "code",
   "execution_count": 4,
   "metadata": {
    "id": "2k8p9C8UZnsn"
   },
   "outputs": [],
   "source": [
    "np.random.seed(30)\n",
    "rn.seed(30)\n",
    "tf.random.set_seed(30)"
   ]
  },
  {
   "cell_type": "markdown",
   "metadata": {
    "id": "SV8xyws-Znso"
   },
   "source": [
    "In this block, you read the folder names for training and validation. You also set the `batch_size` here. Note that you set the batch size in such a way that you are able to use the GPU in full capacity. You keep increasing the batch size until the machine throws an error."
   ]
  },
  {
   "cell_type": "code",
   "execution_count": 5,
   "metadata": {
    "id": "gPPeIjS0Znso"
   },
   "outputs": [],
   "source": [
    "#Set root directory for where you have datasets and set the train and val directory paths\n",
    "#ROOT_DIR = 'Project_data' #If using google colab\n",
    "ROOT_DIR = 'datasets/Project_data' #If using JavrisLab\n",
    "train_doc = np.random.permutation(open(ROOT_DIR + '/train.csv').readlines())\n",
    "val_doc = np.random.permutation(open(ROOT_DIR + '/val.csv').readlines())\n",
    "train_path = ROOT_DIR + '/train'\n",
    "val_path = ROOT_DIR + '/val'"
   ]
  },
  {
   "cell_type": "markdown",
   "metadata": {
    "id": "pWVg4DREAiUY"
   },
   "source": [
    "# Undrastanding The Data"
   ]
  },
  {
   "cell_type": "code",
   "execution_count": 6,
   "metadata": {
    "colab": {
     "base_uri": "https://localhost:8080/"
    },
    "id": "4xOq9TyxAohW",
    "outputId": "2efa533d-6b2f-4b3a-9a86-b10f73d9a835"
   },
   "outputs": [
    {
     "name": "stdout",
     "output_type": "stream",
     "text": [
      "19890\n",
      "3000\n"
     ]
    }
   ],
   "source": [
    "#Let's find out how many image frames in total we have in Train & Val datasets\n",
    "data_dir_train = pathlib.Path(train_path)\n",
    "data_dir_val = pathlib.Path(val_path)\n",
    "image_count_train = len(list(data_dir_train.glob('*/*.png')))\n",
    "print(image_count_train)\n",
    "image_count_val = len(list(data_dir_val.glob('*/*.png')))\n",
    "print(image_count_val)"
   ]
  },
  {
   "cell_type": "code",
   "execution_count": 6,
   "metadata": {
    "colab": {
     "base_uri": "https://localhost:8080/"
    },
    "id": "XmznylvCCAX8",
    "outputId": "dbee2680-a75d-4693-9240-5eb4678b5c95"
   },
   "outputs": [
    {
     "name": "stdout",
     "output_type": "stream",
     "text": [
      "Number of subdirectories in Train: 663\n",
      "Number of subdirectories in Val: 100\n"
     ]
    }
   ],
   "source": [
    "print(\"Number of subdirectories in Train:\", len(list(data_dir_train.glob('*'))))\n",
    "print(\"Number of subdirectories in Val:\", len(list(data_dir_val.glob('*'))))"
   ]
  },
  {
   "cell_type": "code",
   "execution_count": 7,
   "metadata": {
    "colab": {
     "base_uri": "https://localhost:8080/",
     "height": 204
    },
    "id": "zyh7daNfE_-U",
    "outputId": "e6a6ef9c-c364-4dae-d54b-23998a3ba18b"
   },
   "outputs": [
    {
     "data": {
      "text/html": [
       "<div>\n",
       "<style scoped>\n",
       "    .dataframe tbody tr th:only-of-type {\n",
       "        vertical-align: middle;\n",
       "    }\n",
       "\n",
       "    .dataframe tbody tr th {\n",
       "        vertical-align: top;\n",
       "    }\n",
       "\n",
       "    .dataframe thead th {\n",
       "        text-align: right;\n",
       "    }\n",
       "</style>\n",
       "<table border=\"1\" class=\"dataframe\">\n",
       "  <thead>\n",
       "    <tr style=\"text-align: right;\">\n",
       "      <th></th>\n",
       "      <th>Folder</th>\n",
       "      <th>Gesture Label</th>\n",
       "      <th>Gesture Class</th>\n",
       "    </tr>\n",
       "  </thead>\n",
       "  <tbody>\n",
       "    <tr>\n",
       "      <th>0</th>\n",
       "      <td>WIN_20180925_17_08_43_Pro_Left_Swipe_new</td>\n",
       "      <td>Left_Swipe_new</td>\n",
       "      <td>0</td>\n",
       "    </tr>\n",
       "    <tr>\n",
       "      <th>1</th>\n",
       "      <td>WIN_20180925_17_18_28_Pro_Left_Swipe_new</td>\n",
       "      <td>Left_Swipe_new</td>\n",
       "      <td>0</td>\n",
       "    </tr>\n",
       "    <tr>\n",
       "      <th>2</th>\n",
       "      <td>WIN_20180925_17_18_56_Pro_Left_Swipe_new</td>\n",
       "      <td>Left_Swipe_new</td>\n",
       "      <td>0</td>\n",
       "    </tr>\n",
       "    <tr>\n",
       "      <th>3</th>\n",
       "      <td>WIN_20180925_17_19_51_Pro_Left_Swipe_new</td>\n",
       "      <td>Left_Swipe_new</td>\n",
       "      <td>0</td>\n",
       "    </tr>\n",
       "    <tr>\n",
       "      <th>4</th>\n",
       "      <td>WIN_20180925_17_20_14_Pro_Left_Swipe_new</td>\n",
       "      <td>Left_Swipe_new</td>\n",
       "      <td>0</td>\n",
       "    </tr>\n",
       "  </tbody>\n",
       "</table>\n",
       "</div>"
      ],
      "text/plain": [
       "                                     Folder   Gesture Label  Gesture Class\n",
       "0  WIN_20180925_17_08_43_Pro_Left_Swipe_new  Left_Swipe_new              0\n",
       "1  WIN_20180925_17_18_28_Pro_Left_Swipe_new  Left_Swipe_new              0\n",
       "2  WIN_20180925_17_18_56_Pro_Left_Swipe_new  Left_Swipe_new              0\n",
       "3  WIN_20180925_17_19_51_Pro_Left_Swipe_new  Left_Swipe_new              0\n",
       "4  WIN_20180925_17_20_14_Pro_Left_Swipe_new  Left_Swipe_new              0"
      ]
     },
     "execution_count": 7,
     "metadata": {},
     "output_type": "execute_result"
    }
   ],
   "source": [
    "df = pd.read_csv(ROOT_DIR + '/train.csv', sep=';', header=None)\n",
    "df = df.rename(columns={0:'Folder', 1: 'Gesture Label', 2: 'Gesture Class'})\n",
    "df.head()"
   ]
  },
  {
   "cell_type": "code",
   "execution_count": 8,
   "metadata": {
    "colab": {
     "base_uri": "https://localhost:8080/"
    },
    "id": "tp8R5r15Ifp2",
    "outputId": "46b639a0-e406-4327-f404-ae3f3d20461e"
   },
   "outputs": [
    {
     "data": {
      "text/plain": [
       "array([0, 1, 2, 3, 4])"
      ]
     },
     "execution_count": 8,
     "metadata": {},
     "output_type": "execute_result"
    }
   ],
   "source": [
    "#Lets check how many gestures are there in dataset\n",
    "df['Gesture Class'].unique()"
   ]
  },
  {
   "cell_type": "code",
   "execution_count": 11,
   "metadata": {
    "colab": {
     "base_uri": "https://localhost:8080/",
     "height": 204
    },
    "id": "oQcVWfpTI7Jf",
    "outputId": "8fe2b64d-d369-4207-a35c-7172dca151fd"
   },
   "outputs": [
    {
     "data": {
      "text/html": [
       "<div>\n",
       "<style scoped>\n",
       "    .dataframe tbody tr th:only-of-type {\n",
       "        vertical-align: middle;\n",
       "    }\n",
       "\n",
       "    .dataframe tbody tr th {\n",
       "        vertical-align: top;\n",
       "    }\n",
       "\n",
       "    .dataframe thead th {\n",
       "        text-align: right;\n",
       "    }\n",
       "</style>\n",
       "<table border=\"1\" class=\"dataframe\">\n",
       "  <thead>\n",
       "    <tr style=\"text-align: right;\">\n",
       "      <th></th>\n",
       "      <th>Gesture Label</th>\n",
       "      <th>Gesture Class</th>\n",
       "    </tr>\n",
       "  </thead>\n",
       "  <tbody>\n",
       "    <tr>\n",
       "      <th>0</th>\n",
       "      <td>Left_Swipe_new</td>\n",
       "      <td>0</td>\n",
       "    </tr>\n",
       "    <tr>\n",
       "      <th>96</th>\n",
       "      <td>Right_Swipe_new</td>\n",
       "      <td>1</td>\n",
       "    </tr>\n",
       "    <tr>\n",
       "      <th>199</th>\n",
       "      <td>Stop_new</td>\n",
       "      <td>2</td>\n",
       "    </tr>\n",
       "    <tr>\n",
       "      <th>292</th>\n",
       "      <td>Thumbs_Down_new</td>\n",
       "      <td>3</td>\n",
       "    </tr>\n",
       "    <tr>\n",
       "      <th>392</th>\n",
       "      <td>Thumbs_Up_new</td>\n",
       "      <td>4</td>\n",
       "    </tr>\n",
       "  </tbody>\n",
       "</table>\n",
       "</div>"
      ],
      "text/plain": [
       "       Gesture Label  Gesture Class\n",
       "0     Left_Swipe_new              0\n",
       "96   Right_Swipe_new              1\n",
       "199         Stop_new              2\n",
       "292  Thumbs_Down_new              3\n",
       "392    Thumbs_Up_new              4"
      ]
     },
     "execution_count": 11,
     "metadata": {},
     "output_type": "execute_result"
    }
   ],
   "source": [
    "#Lets check the gesture label and class\n",
    "df.groupby('Gesture Class')['Gesture Label', 'Gesture Class'].head(1)"
   ]
  },
  {
   "cell_type": "markdown",
   "metadata": {
    "id": "X3010GaoZnsp"
   },
   "source": [
    "## Generator\n",
    "This is one of the most important part of the code. The overall structure of the generator has been given. In the generator, you are going to preprocess the images as you have images of 2 different dimensions as well as create a batch of video frames. You have to experiment with `img_idx`, `y`,`z` and normalization such that you get high accuracy."
   ]
  },
  {
   "cell_type": "code",
   "execution_count": 7,
   "metadata": {
    "id": "1Rw7wK6Rgwn8"
   },
   "outputs": [],
   "source": [
    "#Initialize Global variables\n",
    "num_train_sequences = len(train_doc)\n",
    "num_val_sequences = len(val_doc)\n",
    "curr_dt_time = datetime.datetime.now()\n",
    "num_epochs = 0\n",
    "batch_size = 0\n",
    "img_idx = []\n",
    "x = len(img_idx) # Number of video frames needs to be used,\n",
    "y = 0 # size of the input image frames of the videos(heigh), \n",
    "z = 0 # size of the input image frames of the videos(width)\n",
    "augment = False #Enable True if want to do image augmentation"
   ]
  },
  {
   "cell_type": "code",
   "execution_count": 8,
   "metadata": {
    "id": "dxg61XQjZnst"
   },
   "outputs": [],
   "source": [
    "def print_input_summary():\n",
    "    print('# Time =', curr_dt_time)\n",
    "    print('# training sequences =', num_train_sequences)\n",
    "    print('# validation sequences =', num_val_sequences)\n",
    "    print('# epochs =', num_epochs)\n",
    "    print('# Image Index  = ', img_idx)\n",
    "    print('# Number of Video Frames = ', x)\n",
    "    print('# Image Size = ', (y,z))\n",
    "    print('# batch size =', batch_size)\n",
    "    print('# Augmentation =', augment)"
   ]
  },
  {
   "cell_type": "markdown",
   "metadata": {},
   "source": [
    "### Plot accuracy graph"
   ]
  },
  {
   "cell_type": "code",
   "execution_count": 9,
   "metadata": {},
   "outputs": [],
   "source": [
    "def plot_accuracy(history):\n",
    "    fig, axes = plt.subplots(nrows=1, ncols=2, figsize=(15,4))\n",
    "    axes[0].plot(history.history['loss'])   \n",
    "    axes[0].plot(history.history['val_loss'])\n",
    "    axes[0].legend(['train_loss','val_loss'])\n",
    "    plt.ylabel('Loss')\n",
    "    plt.xlabel('Epoch')\n",
    "    axes[1].plot(history.history['categorical_accuracy'])   \n",
    "    axes[1].plot(history.history['val_categorical_accuracy'])\n",
    "    axes[1].legend(['Training Accuracy','Validation Accuracy'])\n",
    "    plt.ylabel('Accuracy')\n",
    "    plt.xlabel('Epoch')\n",
    "    plt.show()"
   ]
  },
  {
   "cell_type": "markdown",
   "metadata": {
    "id": "rX8pBTMzpSBV"
   },
   "source": [
    "### Cropping image to center square"
   ]
  },
  {
   "cell_type": "code",
   "execution_count": 10,
   "metadata": {
    "id": "o8JAZW5lnLxI"
   },
   "outputs": [],
   "source": [
    "def crop_center_square(frame):\n",
    "    y_, x_ = frame.shape[0:2]\n",
    "    min_dim = min(y_, x_)\n",
    "    start_x = (x_ // 2) - (min_dim // 2)\n",
    "    start_y = (y_ // 2) - (min_dim // 2)\n",
    "    return frame[start_y : start_y + min_dim, start_x : start_x + min_dim]"
   ]
  },
  {
   "cell_type": "code",
   "execution_count": 9,
   "metadata": {},
   "outputs": [],
   "source": [
    "def generator(source_path, folder_list, batch_size):\n",
    "    print('# Source path = ', source_path)\n",
    "    print('# batch size =', batch_size)\n",
    "    print('# Augmentation =', augment)\n",
    "    while True:\n",
    "        t = np.random.permutation(folder_list)\n",
    "        num_batches = int(len(t)//batch_size)\n",
    "        for batch in range(num_batches):\n",
    "    \n",
    "            batch_data = np.zeros((batch_size,len(img_idx),y,z,3)) \n",
    "            batch_labels = np.zeros((batch_size,5)) \n",
    "\n",
    "            if (augment): batch_data_aug = np.zeros((batch_size,len(img_idx),y,z,3))\n",
    "\n",
    "            for folder in range(batch_size): \n",
    "                imgs = os.listdir(source_path+'/'+ t[folder + (batch*batch_size)].split(';')[0]) \n",
    "                for idx,item in enumerate(img_idx):\n",
    "                    #performing image reading and resizing\n",
    "                    image = imageio.imread(source_path+'/'+ t[folder + (batch*batch_size)].strip().split(';')[0]+'/'+imgs[item]).astype(np.float32)\n",
    "                    image_resized = resize(image,(y,z,3))\n",
    "                    if (augment):\n",
    "                        #normalizing the images\n",
    "                        batch_data[folder,idx,:,:,0] = (image_resized[:,:,0])/255\n",
    "                        batch_data[folder,idx,:,:,1] = (image_resized[:,:,1])/255\n",
    "                        batch_data[folder,idx,:,:,2] = (image_resized[:,:,2])/255\n",
    "                        \n",
    "                        shifted = cv2.warpAffine(image, \n",
    "                                                 np.float32([[1, 0, np.random.randint(-30,30)],[0, 1, np.random.randint(-30,30)]]), \n",
    "                                                (image.shape[1], image.shape[0]))\n",
    "\n",
    "                        gray = cv2.cvtColor(shifted,cv2.COLOR_BGR2GRAY)\n",
    "\n",
    "                        x0, y0 = np.argwhere(gray > 0).min(axis=0)\n",
    "                        x1, y1 = np.argwhere(gray > 0).max(axis=0) \n",
    "                        # cropping the images to have the targeted gestures and remove the noise from the images.\n",
    "                        cropped=shifted[x0:x1,y0:y1,:]\n",
    "\n",
    "                        image_resized=resize(cropped,(y,z,3))\n",
    "\n",
    "                        batch_data_aug[folder,idx,:,:,0] = (image_resized[:,:,0])/255\n",
    "                        batch_data_aug[folder,idx,:,:,1] = (image_resized[:,:,1])/255\n",
    "                        batch_data_aug[folder,idx,:,:,2] = (image_resized[:,:,2])/255\n",
    "                    else:\n",
    "                        if (image.shape[0] == 120 and image.shape[1] == 160):\n",
    "                            image_resized = resize(image[:,20:140,:],(y,z,3))\n",
    "                        else:\n",
    "                            image_resized = resize(image,(y,z,3))\n",
    "                        #normalizing the images\n",
    "                        batch_data[folder,idx,:,:,0] = (image_resized[:,:,0])/255\n",
    "                        batch_data[folder,idx,:,:,1] = (image_resized[:,:,1])/255\n",
    "                        batch_data[folder,idx,:,:,2] = (image_resized[:,:,2])/255\n",
    "\n",
    "\n",
    "                batch_labels[folder, int(t[folder + (batch*batch_size)].strip().split(';')[2])] = 1\n",
    "            if (augment):\n",
    "                    batch_data=np.concatenate([batch_data,batch_data_aug])\n",
    "                    batch_labels=np.concatenate([batch_labels,batch_labels])\n",
    "\n",
    "            yield batch_data,batch_labels\n",
    "        \n",
    "        remaining_seq=len(t)%batch_size\n",
    "        if (remaining_seq != 0):\n",
    "            seq_len = remaining_seq if remaining_seq else batch_size\n",
    "            batch_data = np.zeros((seq_len,len(img_idx),y,z,3)) \n",
    "            batch_labels = np.zeros((seq_len,5)) \n",
    "            if (augment): batch_data_aug = np.zeros((seq_len,len(img_idx),y,z,3))\n",
    "            for folder in range(seq_len):\n",
    "                imgs = os.listdir(source_path+'/'+ t[folder + (batch*batch_size)].split(';')[0])\n",
    "                for idx,item in enumerate(img_idx):\n",
    "                    #performing image reading and resizing\n",
    "                    image = imageio.imread(source_path+'/'+ t[folder + (batch*batch_size)].strip().split(';')[0]+'/'+imgs[item]).astype(np.float32)\n",
    "                    image_resized = resize(image,(y,z,3))\n",
    "                    if (augment):\n",
    "                        #normalizing the images\n",
    "                        batch_data[folder,idx,:,:,0] = (image_resized[:,:,0])/255\n",
    "                        batch_data[folder,idx,:,:,1] = (image_resized[:,:,1])/255\n",
    "                        batch_data[folder,idx,:,:,2] = (image_resized[:,:,2])/255\n",
    "                        \n",
    "                        shifted = cv2.warpAffine(image, \n",
    "                                                 np.float32([[1, 0, np.random.randint(-30,30)],[0, 1, np.random.randint(-30,30)]]), \n",
    "                                                (image.shape[1], image.shape[0]))\n",
    "\n",
    "                        gray = cv2.cvtColor(shifted,cv2.COLOR_BGR2GRAY)\n",
    "\n",
    "                        x0, y0 = np.argwhere(gray > 0).min(axis=0)\n",
    "                        x1, y1 = np.argwhere(gray > 0).max(axis=0) \n",
    "                        # cropping the images to have the targeted gestures and remove the noise from the images.\n",
    "                        cropped=shifted[x0:x1,y0:y1,:]\n",
    "\n",
    "                        image_resized=resize(cropped,(y,z,3))\n",
    "\n",
    "                        batch_data_aug[folder,idx,:,:,0] = (image_resized[:,:,0])/255\n",
    "                        batch_data_aug[folder,idx,:,:,1] = (image_resized[:,:,1])/255\n",
    "                        batch_data_aug[folder,idx,:,:,2] = (image_resized[:,:,2])/255\n",
    "                    else:\n",
    "                        if (image.shape[0] == 120 and image.shape[1] == 160):\n",
    "                            image_resized = resize(image[:,20:140,:],(y,z,3))\n",
    "                        else:\n",
    "                            image_resized = resize(image,(y,z,3))\n",
    "                        #normalizing the images\n",
    "                        batch_data[folder,idx,:,:,0] = (image_resized[:,:,0])/255\n",
    "                        batch_data[folder,idx,:,:,1] = (image_resized[:,:,1])/255\n",
    "                        batch_data[folder,idx,:,:,2] = (image_resized[:,:,2])/255\n",
    "                            \n",
    "                batch_labels[folder, int(t[folder + (batch*batch_size)].strip().split(';')[2])] = 1\n",
    "            if (augment):\n",
    "                batch_data=np.concatenate([batch_data,batch_data_aug])\n",
    "                batch_labels=np.concatenate([batch_labels,batch_labels])\n",
    "            yield batch_data,batch_labels                        "
   ]
  },
  {
   "cell_type": "markdown",
   "metadata": {
    "id": "vM3YnW6BZnss"
   },
   "source": [
    "Note here that a video is represented above in the generator as (number of images, height, width, number of channels). Take this into consideration while creating the model architecture."
   ]
  },
  {
   "cell_type": "markdown",
   "metadata": {
    "id": "vMKFekoUZnst"
   },
   "source": [
    "## Model-1: CNN Model\n",
    "### Experiment 1: Generator function image resize\n",
    "Here you make the model using different functionalities that Keras provides. Remember to use `Conv3D` and `MaxPooling3D` and not `Conv2D` and `Maxpooling2D` for a 3D convolution model. You would want to use `TimeDistributed` while building a Conv2D + RNN model. Also remember that the last layer is the softmax. Design the network in such a way that the model is able to give good accuracy on the least number of parameters so that it can fit in the memory of the webcam.\n",
    "### Decision:\n",
    "-\tWill use first 10 image frames from each video. \n",
    "-\tWe will not crop any image, will just resize the images to size 180x180. \n"
   ]
  },
  {
   "cell_type": "code",
   "execution_count": 14,
   "metadata": {
    "colab": {
     "base_uri": "https://localhost:8080/"
    },
    "id": "ULnB53ELZq0e",
    "outputId": "1bc25fc6-d900-4a75-aca3-24f1b3188f5b"
   },
   "outputs": [
    {
     "name": "stdout",
     "output_type": "stream",
     "text": [
      "# Time = 2021-08-01 19:33:32.857160\n",
      "# training sequences = 663\n",
      "# validation sequences = 100\n",
      "# epochs = 10\n",
      "# Image Index  =  [0, 1, 2, 3, 4, 5, 6, 7, 8, 9]\n",
      "# Number of Video Frames =  10\n",
      "# Image Size =  (180, 180)\n",
      "# batch size = 32\n",
      "# Augmentation = False\n"
     ]
    }
   ],
   "source": [
    "#Set the global parameters\n",
    "#!rm -rf model*\n",
    "curr_dt_time = datetime.datetime.now()\n",
    "num_train_sequences = len(train_doc)\n",
    "num_val_sequences = len(val_doc)\n",
    "num_epochs = 10\n",
    "batch_size = 32\n",
    "img_idx = [0,1,2,3,4,5,6,7,8,9]\n",
    "x = len(img_idx) # Number of video frames needs to be used\n",
    "y = 180 # size of the input image frames of the videos(heigh)\n",
    "z = 180 # size of the input image frames of the videos(width)\n",
    "augment = False #Enable True if want to do image augmentation\n",
    "print_input_summary()"
   ]
  },
  {
   "cell_type": "code",
   "execution_count": 15,
   "metadata": {
    "id": "Y747SyemZnst"
   },
   "outputs": [],
   "source": [
    "model = Sequential()\n",
    "model.add(Conv3D(64, (3,3,3), strides=(1,1,1), padding='same', input_shape=(x,y,z,3)))\n",
    "model.add(BatchNormalization())\n",
    "model.add(Activation('relu'))\n",
    "model.add(MaxPooling3D(pool_size=(1,2,2), strides=(1,2,2), padding='same'))\n",
    "\n",
    "model.add(Conv3D(128, (3,3,3), strides=(1,1,1), padding='same'))\n",
    "model.add(BatchNormalization())\n",
    "model.add(Activation('relu'))\n",
    "model.add(MaxPooling3D(pool_size=(2,2,2), strides=(2,2,2), padding='same'))\n",
    "\n",
    "model.add(Conv3D(256, (3,3,3), strides=(1,1,1), padding='same'))\n",
    "model.add(Conv3D(256, (3,3,3), strides=(1,1,1), padding='same'))\n",
    "model.add(BatchNormalization())\n",
    "model.add(Activation('relu'))\n",
    "\n",
    "model.add(Flatten())\n",
    "model.add(Dropout(0.5))\n",
    "model.add(Dense(128, activation='relu'))\n",
    "model.add(Dropout(0.5))\n",
    "model.add(Dense(5, activation='softmax'))"
   ]
  },
  {
   "cell_type": "markdown",
   "metadata": {
    "id": "7OjWhBJ-Znsu"
   },
   "source": [
    "Now that you have written the model, the next step is to `compile` the model. When you print the `summary` of the model, you'll see the total number of parameters you have to train."
   ]
  },
  {
   "cell_type": "code",
   "execution_count": 19,
   "metadata": {
    "colab": {
     "base_uri": "https://localhost:8080/"
    },
    "id": "2XsLNQaAZnsw",
    "outputId": "805b49f5-4034-4cca-b6b5-8e489d0201de",
    "scrolled": true
   },
   "outputs": [
    {
     "name": "stdout",
     "output_type": "stream",
     "text": [
      "Model: \"sequential\"\n",
      "_________________________________________________________________\n",
      "Layer (type)                 Output Shape              Param #   \n",
      "=================================================================\n",
      "conv3d (Conv3D)              (None, 10, 180, 180, 64)  5248      \n",
      "_________________________________________________________________\n",
      "batch_normalization (BatchNo (None, 10, 180, 180, 64)  256       \n",
      "_________________________________________________________________\n",
      "activation (Activation)      (None, 10, 180, 180, 64)  0         \n",
      "_________________________________________________________________\n",
      "max_pooling3d (MaxPooling3D) (None, 10, 90, 90, 64)    0         \n",
      "_________________________________________________________________\n",
      "conv3d_1 (Conv3D)            (None, 10, 90, 90, 128)   221312    \n",
      "_________________________________________________________________\n",
      "batch_normalization_1 (Batch (None, 10, 90, 90, 128)   512       \n",
      "_________________________________________________________________\n",
      "activation_1 (Activation)    (None, 10, 90, 90, 128)   0         \n",
      "_________________________________________________________________\n",
      "max_pooling3d_1 (MaxPooling3 (None, 5, 45, 45, 128)    0         \n",
      "_________________________________________________________________\n",
      "conv3d_2 (Conv3D)            (None, 5, 45, 45, 256)    884992    \n",
      "_________________________________________________________________\n",
      "conv3d_3 (Conv3D)            (None, 5, 45, 45, 256)    1769728   \n",
      "_________________________________________________________________\n",
      "batch_normalization_2 (Batch (None, 5, 45, 45, 256)    1024      \n",
      "_________________________________________________________________\n",
      "activation_2 (Activation)    (None, 5, 45, 45, 256)    0         \n",
      "_________________________________________________________________\n",
      "flatten (Flatten)            (None, 2592000)           0         \n",
      "_________________________________________________________________\n",
      "dropout (Dropout)            (None, 2592000)           0         \n",
      "_________________________________________________________________\n",
      "dense (Dense)                (None, 128)               331776128 \n",
      "_________________________________________________________________\n",
      "dropout_1 (Dropout)          (None, 128)               0         \n",
      "_________________________________________________________________\n",
      "dense_1 (Dense)              (None, 5)                 645       \n",
      "=================================================================\n",
      "Total params: 334,659,845\n",
      "Trainable params: 334,658,949\n",
      "Non-trainable params: 896\n",
      "_________________________________________________________________\n",
      "None\n"
     ]
    }
   ],
   "source": [
    "optimiser = optimizers.SGD(lr=0.001, decay=1e-6, momentum=0.7, nesterov=True)\n",
    "model.compile(optimizer=optimiser, loss='categorical_crossentropy', metrics=['categorical_accuracy'])\n",
    "print (model.summary())"
   ]
  },
  {
   "cell_type": "markdown",
   "metadata": {
    "id": "EuYHA-Llgivp"
   },
   "source": [
    "Let us create the `train_generator` and the `val_generator` which will be used in `.fit_generator`."
   ]
  },
  {
   "cell_type": "code",
   "execution_count": 20,
   "metadata": {
    "id": "NpHjorDtgK8b"
   },
   "outputs": [],
   "source": [
    "train_generator = generator(train_path, train_doc, batch_size)\n",
    "val_generator = generator(val_path, val_doc, batch_size)"
   ]
  },
  {
   "cell_type": "code",
   "execution_count": 21,
   "metadata": {
    "id": "zZLsswm0gNj5"
   },
   "outputs": [],
   "source": [
    "model_name = 'model_init' + '_' + str(curr_dt_time).replace(' ','').replace(':','_') + '/'\n",
    "    \n",
    "if not os.path.exists(model_name):\n",
    "    os.mkdir(model_name)\n",
    "        \n",
    "filepath = model_name + 'model-{epoch:05d}-{loss:.5f}-{categorical_accuracy:.5f}-{val_loss:.5f}-{val_categorical_accuracy:.5f}.h5'\n",
    "\n",
    "checkpoint = ModelCheckpoint(filepath, monitor='val_loss', verbose=1, save_best_only=False, save_weights_only=False, mode='auto', save_freq='epoch')\n",
    "\n",
    "LR = ReduceLROnPlateau(monitor='val_loss', factor=0.5, patience=2, verbose=1, mode='min', min_delta=0.0001, cooldown=0, min_lr=0.00001)\n",
    "callbacks_list = [checkpoint, LR]"
   ]
  },
  {
   "cell_type": "markdown",
   "metadata": {
    "id": "-qg6itv9gbFO"
   },
   "source": [
    "The `steps_per_epoch` and `validation_steps` are used by `fit_generator` to decide the number of next() calls it need to make."
   ]
  },
  {
   "cell_type": "code",
   "execution_count": 22,
   "metadata": {
    "id": "snOOmxqcgStr"
   },
   "outputs": [],
   "source": [
    "if (num_train_sequences%batch_size) == 0:\n",
    "    steps_per_epoch = int(num_train_sequences/batch_size)\n",
    "else:\n",
    "    steps_per_epoch = (num_train_sequences//batch_size) + 1\n",
    "\n",
    "if (num_val_sequences%batch_size) == 0:\n",
    "    validation_steps = int(num_val_sequences/batch_size)\n",
    "else:\n",
    "    validation_steps = (num_val_sequences//batch_size) + 1"
   ]
  },
  {
   "cell_type": "markdown",
   "metadata": {
    "id": "8hAt-nTOgvtR"
   },
   "source": [
    "Let us now fit the model. This will start training the model and with the help of the checkpoints, you'll be able to save the model at the end of each epoch."
   ]
  },
  {
   "cell_type": "code",
   "execution_count": 23,
   "metadata": {
    "colab": {
     "base_uri": "https://localhost:8080/",
     "height": 52
    },
    "id": "dJZMTP0cgn59",
    "outputId": "5be53f54-7363-4d3c-b3c5-dfe365654b37"
   },
   "outputs": [
    {
     "data": {
      "text/plain": [
       "'\\nmodel.fit_generator(train_generator, steps_per_epoch=steps_per_epoch, epochs=num_epochs, verbose=1,\\n                    callbacks=callbacks_list, validation_data=val_generator, \\n                    validation_steps=validation_steps, class_weight=None, workers=1, initial_epoch=0)\\n'"
      ]
     },
     "execution_count": 23,
     "metadata": {},
     "output_type": "execute_result"
    }
   ],
   "source": [
    "#Throwing OOM error as lot of parameters in the model. So, function is commented below.\n",
    "'''\n",
    "model.fit_generator(train_generator, steps_per_epoch=steps_per_epoch, epochs=num_epochs, verbose=1,\n",
    "                    callbacks=callbacks_list, validation_data=val_generator, \n",
    "                    validation_steps=validation_steps, class_weight=None, workers=1, initial_epoch=0)\n",
    "'''"
   ]
  },
  {
   "cell_type": "markdown",
   "metadata": {
    "id": "HnPpr_ZCdStn"
   },
   "source": [
    "## Model-2: CNN Model\n",
    "### Experiment 2: Generator function image resize & crop\n",
    "### Decision:\n",
    "-\tWill use first 10 image frames from each video. \n",
    "-\tPer problem statement there are 2 dimensions of images present in data. 360x360 and 120x160.\n",
    "-\tWe will crop 120x160 image to 120x120 to make it first symmetric in dimensions. \n",
    "-\tResize all input images to 80x80. As Conv3D is prone to error with different shapes in data.\n",
    "- Reducing the size of images to avoid GPU OOM error\n",
    "- We will augment the image cropping to center square"
   ]
  },
  {
   "cell_type": "code",
   "execution_count": 24,
   "metadata": {
    "colab": {
     "base_uri": "https://localhost:8080/"
    },
    "id": "Czc9IoILczEi",
    "outputId": "98f65565-bd8a-4868-ace7-e8268309c225"
   },
   "outputs": [
    {
     "name": "stdout",
     "output_type": "stream",
     "text": [
      "# Time = 2021-08-01 16:02:29.435639\n",
      "# training sequences = 663\n",
      "# validation sequences = 100\n",
      "# epochs = 10\n",
      "# Image Index  =  [0, 1, 2, 3, 4, 5, 6, 7, 8, 9]\n",
      "# Number of Video Frames =  10\n",
      "# Image Size =  (80, 80)\n",
      "# batch size = 32\n",
      "# Augmentation = False\n"
     ]
    }
   ],
   "source": [
    "#Set the global parameters\n",
    "#!rm -rf model*\n",
    "curr_dt_time = datetime.datetime.now()\n",
    "num_train_sequences = len(train_doc)\n",
    "num_val_sequences = len(val_doc)\n",
    "num_epochs = 10\n",
    "batch_size = 32\n",
    "img_idx = [0,1,2,3,4,5,6,7,8,9]\n",
    "x = len(img_idx) # Number of video frames needs to be used\n",
    "y = 80 # size of the input image frames of the videos(heigh)\n",
    "z = 80 # size of the input image frames of the videos(width)\n",
    "augment = False #Enable True if want to do image augmentation\n",
    "print_input_summary()"
   ]
  },
  {
   "cell_type": "code",
   "execution_count": 25,
   "metadata": {
    "id": "AfiwMR-FcykU"
   },
   "outputs": [],
   "source": [
    "model = Sequential()\n",
    "model.add(Conv3D(64, (3,3,3), strides=(1,1,1), padding='same', input_shape=(x,y,z,3)))\n",
    "model.add(BatchNormalization())\n",
    "model.add(Activation('relu'))\n",
    "model.add(MaxPooling3D(pool_size=(1,2,2), strides=(1,2,2), padding='same'))\n",
    "\n",
    "model.add(Conv3D(128, (3,3,3), strides=(1,1,1), padding='same'))\n",
    "model.add(BatchNormalization())\n",
    "model.add(Activation('relu'))\n",
    "model.add(MaxPooling3D(pool_size=(2,2,2), strides=(2,2,2), padding='same'))\n",
    "\n",
    "model.add(Conv3D(256, (3,3,3), strides=(1,1,1), padding='same'))\n",
    "model.add(Conv3D(256, (3,3,3), strides=(1,1,1), padding='same'))\n",
    "model.add(BatchNormalization())\n",
    "model.add(Activation('relu'))\n",
    "\n",
    "model.add(Flatten())\n",
    "model.add(Dropout(0.5))\n",
    "model.add(Dense(512, activation='relu'))\n",
    "model.add(Dropout(0.5))\n",
    "model.add(Dense(5, activation='softmax'))"
   ]
  },
  {
   "cell_type": "code",
   "execution_count": 26,
   "metadata": {
    "colab": {
     "base_uri": "https://localhost:8080/"
    },
    "id": "_sVtHsavc2Q9",
    "outputId": "ae9e11ae-f937-402b-dce8-a77b74d08165"
   },
   "outputs": [
    {
     "name": "stdout",
     "output_type": "stream",
     "text": [
      "Model: \"sequential_1\"\n",
      "_________________________________________________________________\n",
      "Layer (type)                 Output Shape              Param #   \n",
      "=================================================================\n",
      "conv3d_4 (Conv3D)            (None, 10, 80, 80, 64)    5248      \n",
      "_________________________________________________________________\n",
      "batch_normalization_3 (Batch (None, 10, 80, 80, 64)    256       \n",
      "_________________________________________________________________\n",
      "activation_3 (Activation)    (None, 10, 80, 80, 64)    0         \n",
      "_________________________________________________________________\n",
      "max_pooling3d_2 (MaxPooling3 (None, 10, 40, 40, 64)    0         \n",
      "_________________________________________________________________\n",
      "conv3d_5 (Conv3D)            (None, 10, 40, 40, 128)   221312    \n",
      "_________________________________________________________________\n",
      "batch_normalization_4 (Batch (None, 10, 40, 40, 128)   512       \n",
      "_________________________________________________________________\n",
      "activation_4 (Activation)    (None, 10, 40, 40, 128)   0         \n",
      "_________________________________________________________________\n",
      "max_pooling3d_3 (MaxPooling3 (None, 5, 20, 20, 128)    0         \n",
      "_________________________________________________________________\n",
      "conv3d_6 (Conv3D)            (None, 5, 20, 20, 256)    884992    \n",
      "_________________________________________________________________\n",
      "conv3d_7 (Conv3D)            (None, 5, 20, 20, 256)    1769728   \n",
      "_________________________________________________________________\n",
      "batch_normalization_5 (Batch (None, 5, 20, 20, 256)    1024      \n",
      "_________________________________________________________________\n",
      "activation_5 (Activation)    (None, 5, 20, 20, 256)    0         \n",
      "_________________________________________________________________\n",
      "flatten_1 (Flatten)          (None, 512000)            0         \n",
      "_________________________________________________________________\n",
      "dropout_2 (Dropout)          (None, 512000)            0         \n",
      "_________________________________________________________________\n",
      "dense_2 (Dense)              (None, 512)               262144512 \n",
      "_________________________________________________________________\n",
      "dropout_3 (Dropout)          (None, 512)               0         \n",
      "_________________________________________________________________\n",
      "dense_3 (Dense)              (None, 5)                 2565      \n",
      "=================================================================\n",
      "Total params: 265,030,149\n",
      "Trainable params: 265,029,253\n",
      "Non-trainable params: 896\n",
      "_________________________________________________________________\n",
      "None\n"
     ]
    }
   ],
   "source": [
    "optimiser = optimizers.SGD(lr=0.001, decay=1e-6, momentum=0.7, nesterov=True)\n",
    "model.compile(optimizer=optimiser, loss='categorical_crossentropy', metrics=['categorical_accuracy'])\n",
    "print (model.summary())"
   ]
  },
  {
   "cell_type": "markdown",
   "metadata": {
    "id": "mBdsO7SeZnsy"
   },
   "source": [
    "Let us create the `train_generator` and the `val_generator` which will be used in `.fit_generator`."
   ]
  },
  {
   "cell_type": "code",
   "execution_count": 27,
   "metadata": {
    "id": "1t-xZRFnZnsy"
   },
   "outputs": [],
   "source": [
    "train_generator = generator(train_path, train_doc, batch_size)\n",
    "val_generator = generator(val_path, val_doc, batch_size)"
   ]
  },
  {
   "cell_type": "code",
   "execution_count": 28,
   "metadata": {
    "id": "iK5nCp2tZnsz"
   },
   "outputs": [],
   "source": [
    "model_name = 'model_init' + '_' + str(curr_dt_time).replace(' ','').replace(':','_') + '/'\n",
    "    \n",
    "if not os.path.exists(model_name):\n",
    "    os.mkdir(model_name)\n",
    "        \n",
    "filepath = model_name + 'model-{epoch:05d}-{loss:.5f}-{categorical_accuracy:.5f}-{val_loss:.5f}-{val_categorical_accuracy:.5f}.h5'\n",
    "\n",
    "checkpoint = ModelCheckpoint(filepath, monitor='val_loss', verbose=1, save_best_only=False, save_weights_only=False, mode='auto', save_freq='epoch')\n",
    "\n",
    "LR = ReduceLROnPlateau(monitor='val_loss', factor=0.5, patience=2, verbose=1, mode='min', min_delta=0.0001, cooldown=0, min_lr=0.00001)\n",
    "callbacks_list = [checkpoint, LR]"
   ]
  },
  {
   "cell_type": "markdown",
   "metadata": {
    "id": "fau_p_I5Znsz"
   },
   "source": [
    "The `steps_per_epoch` and `validation_steps` are used by `fit_generator` to decide the number of next() calls it need to make."
   ]
  },
  {
   "cell_type": "code",
   "execution_count": 29,
   "metadata": {
    "id": "4BlaQ_NpZnsz"
   },
   "outputs": [],
   "source": [
    "if (num_train_sequences%batch_size) == 0:\n",
    "    steps_per_epoch = int(num_train_sequences/batch_size)\n",
    "else:\n",
    "    steps_per_epoch = (num_train_sequences//batch_size) + 1\n",
    "\n",
    "if (num_val_sequences%batch_size) == 0:\n",
    "    validation_steps = int(num_val_sequences/batch_size)\n",
    "else:\n",
    "    validation_steps = (num_val_sequences//batch_size) + 1"
   ]
  },
  {
   "cell_type": "markdown",
   "metadata": {
    "id": "RTDPAZ8VZnsz"
   },
   "source": [
    "Let us now fit the model. This will start training the model and with the help of the checkpoints, you'll be able to save the model at the end of each epoch."
   ]
  },
  {
   "cell_type": "code",
   "execution_count": 30,
   "metadata": {
    "colab": {
     "base_uri": "https://localhost:8080/"
    },
    "id": "L7x_gBTVZns0",
    "outputId": "a39121e9-3309-466d-d550-41cdf9ab8bea"
   },
   "outputs": [
    {
     "name": "stdout",
     "output_type": "stream",
     "text": [
      "WARNING:tensorflow:From <ipython-input-30-6d0df56f3fde>:3: Model.fit_generator (from tensorflow.python.keras.engine.training) is deprecated and will be removed in a future version.\n",
      "Instructions for updating:\n",
      "Please use Model.fit, which supports generators.\n",
      "# Source path =  datasets/Project_data/train\n",
      "# batch size = 32\n",
      "# Augmentation = False\n",
      "Epoch 1/10\n",
      "21/21 [==============================] - ETA: 0s - loss: 5.6082 - categorical_accuracy: 0.3062# Source path =  datasets/Project_data/val\n",
      "# batch size = 32\n",
      "# Augmentation = False\n",
      "\n",
      "Epoch 00001: saving model to model_init_2021-08-0116_02_29.435639/model-00001-5.60824-0.30618-1.57723-0.28000.h5\n",
      "21/21 [==============================] - 79s 4s/step - loss: 5.6082 - categorical_accuracy: 0.3062 - val_loss: 1.5772 - val_categorical_accuracy: 0.2800\n",
      "Epoch 2/10\n",
      "21/21 [==============================] - ETA: 0s - loss: 1.2791 - categorical_accuracy: 0.4480\n",
      "Epoch 00002: saving model to model_init_2021-08-0116_02_29.435639/model-00002-1.27909-0.44796-1.60533-0.24000.h5\n",
      "21/21 [==============================] - 82s 4s/step - loss: 1.2791 - categorical_accuracy: 0.4480 - val_loss: 1.6053 - val_categorical_accuracy: 0.2400\n",
      "Epoch 3/10\n",
      "21/21 [==============================] - ETA: 0s - loss: 1.1050 - categorical_accuracy: 0.5460\n",
      "Epoch 00003: saving model to model_init_2021-08-0116_02_29.435639/model-00003-1.10499-0.54600-1.84293-0.20000.h5\n",
      "\n",
      "Epoch 00003: ReduceLROnPlateau reducing learning rate to 0.0005000000237487257.\n",
      "21/21 [==============================] - 80s 4s/step - loss: 1.1050 - categorical_accuracy: 0.5460 - val_loss: 1.8429 - val_categorical_accuracy: 0.2000\n",
      "Epoch 4/10\n",
      "21/21 [==============================] - ETA: 0s - loss: 0.9359 - categorical_accuracy: 0.6154\n",
      "Epoch 00004: saving model to model_init_2021-08-0116_02_29.435639/model-00004-0.93592-0.61538-2.03589-0.20000.h5\n",
      "21/21 [==============================] - 78s 4s/step - loss: 0.9359 - categorical_accuracy: 0.6154 - val_loss: 2.0359 - val_categorical_accuracy: 0.2000\n",
      "Epoch 5/10\n",
      "21/21 [==============================] - ETA: 0s - loss: 0.8954 - categorical_accuracy: 0.6244\n",
      "Epoch 00005: saving model to model_init_2021-08-0116_02_29.435639/model-00005-0.89537-0.62443-2.25097-0.24000.h5\n",
      "\n",
      "Epoch 00005: ReduceLROnPlateau reducing learning rate to 0.0002500000118743628.\n",
      "21/21 [==============================] - 82s 4s/step - loss: 0.8954 - categorical_accuracy: 0.6244 - val_loss: 2.2510 - val_categorical_accuracy: 0.2400\n",
      "Epoch 6/10\n",
      "21/21 [==============================] - ETA: 0s - loss: 0.7731 - categorical_accuracy: 0.7044\n",
      "Epoch 00006: saving model to model_init_2021-08-0116_02_29.435639/model-00006-0.77308-0.70437-2.59980-0.22000.h5\n",
      "21/21 [==============================] - 84s 4s/step - loss: 0.7731 - categorical_accuracy: 0.7044 - val_loss: 2.5998 - val_categorical_accuracy: 0.2200\n",
      "Epoch 7/10\n",
      "21/21 [==============================] - ETA: 0s - loss: 0.7244 - categorical_accuracy: 0.7179\n",
      "Epoch 00007: saving model to model_init_2021-08-0116_02_29.435639/model-00007-0.72440-0.71795-2.94732-0.19000.h5\n",
      "\n",
      "Epoch 00007: ReduceLROnPlateau reducing learning rate to 0.0001250000059371814.\n",
      "21/21 [==============================] - 84s 4s/step - loss: 0.7244 - categorical_accuracy: 0.7179 - val_loss: 2.9473 - val_categorical_accuracy: 0.1900\n",
      "Epoch 8/10\n",
      "21/21 [==============================] - ETA: 0s - loss: 0.7057 - categorical_accuracy: 0.7104\n",
      "Epoch 00008: saving model to model_init_2021-08-0116_02_29.435639/model-00008-0.70568-0.71041-3.09047-0.20000.h5\n",
      "21/21 [==============================] - 80s 4s/step - loss: 0.7057 - categorical_accuracy: 0.7104 - val_loss: 3.0905 - val_categorical_accuracy: 0.2000\n",
      "Epoch 9/10\n",
      "21/21 [==============================] - ETA: 0s - loss: 0.6583 - categorical_accuracy: 0.7466\n",
      "Epoch 00009: saving model to model_init_2021-08-0116_02_29.435639/model-00009-0.65825-0.74661-3.12559-0.20000.h5\n",
      "\n",
      "Epoch 00009: ReduceLROnPlateau reducing learning rate to 6.25000029685907e-05.\n",
      "21/21 [==============================] - 82s 4s/step - loss: 0.6583 - categorical_accuracy: 0.7466 - val_loss: 3.1256 - val_categorical_accuracy: 0.2000\n",
      "Epoch 10/10\n",
      "21/21 [==============================] - ETA: 0s - loss: 0.6193 - categorical_accuracy: 0.7813\n",
      "Epoch 00010: saving model to model_init_2021-08-0116_02_29.435639/model-00010-0.61932-0.78130-3.30707-0.23000.h5\n",
      "21/21 [==============================] - 84s 4s/step - loss: 0.6193 - categorical_accuracy: 0.7813 - val_loss: 3.3071 - val_categorical_accuracy: 0.2300\n"
     ]
    },
    {
     "data": {
      "text/plain": [
       "<tensorflow.python.keras.callbacks.History at 0x7fbf06d9a400>"
      ]
     },
     "execution_count": 30,
     "metadata": {},
     "output_type": "execute_result"
    }
   ],
   "source": [
    "model.fit_generator(train_generator, steps_per_epoch=steps_per_epoch, epochs=num_epochs, verbose=1,\n",
    "                    callbacks=callbacks_list, validation_data=val_generator, \n",
    "                    validation_steps=validation_steps, class_weight=None, workers=1, initial_epoch=0)"
   ]
  },
  {
   "cell_type": "markdown",
   "metadata": {
    "id": "O07TfghBiIzQ"
   },
   "source": [
    "## Model-3: CNN Model\n",
    "### Experiment 3: Generator function increase number of images in input & reduce filters in model\n",
    "\n",
    "### Decision\n",
    "-\tWill use 18 image frames from each video. \n",
    "-\tVideo has total 30 image frames. We divided these 30 images into 3 slots each 10 images. slot1 [0:9], slot2 [10:19], slot3 [20:29] In each slot we will take 6 images will select 2 images in beginning 2 images in ending and 2 images in middle so that in each slot we will have 6 so total 18 images. \n",
    "-\tReduce filters in Conv3D layers. \n"
   ]
  },
  {
   "cell_type": "code",
   "execution_count": 31,
   "metadata": {
    "id": "4m7xkJ7wjVnG"
   },
   "outputs": [
    {
     "name": "stdout",
     "output_type": "stream",
     "text": [
      "# Time = 2021-08-01 16:21:52.361343\n",
      "# training sequences = 663\n",
      "# validation sequences = 100\n",
      "# epochs = 10\n",
      "# Image Index  =  [0, 1, 4, 5, 8, 9, 10, 11, 14, 15, 18, 19, 20, 21, 24, 25, 28, 29]\n",
      "# Number of Video Frames =  18\n",
      "# Image Size =  (80, 80)\n",
      "# batch size = 32\n",
      "# Augmentation = False\n"
     ]
    }
   ],
   "source": [
    "#Set the global parameters\n",
    "!rm -rf model*\n",
    "curr_dt_time = datetime.datetime.now()\n",
    "num_train_sequences = len(train_doc)\n",
    "num_val_sequences = len(val_doc)\n",
    "num_epochs = 10\n",
    "batch_size = 32\n",
    "img_idx = [0,1,4,5,8,9,10,11,14,15,18,19,20,21,24,25,28,29]\n",
    "x = len(img_idx) # Number of video frames needs to be used\n",
    "y = 80 # size of the input image frames of the videos(heigh)\n",
    "z = 80 # size of the input image frames of the videos(width)\n",
    "augment = False #Enable True if want to do image augmentation\n",
    "print_input_summary()"
   ]
  },
  {
   "cell_type": "code",
   "execution_count": 32,
   "metadata": {
    "id": "4c6irLe8ioQX"
   },
   "outputs": [],
   "source": [
    "model = Sequential()\n",
    "model.add(Conv3D(32, (3,3,3), strides=(1,1,1), padding='same', input_shape=(x,y,z,3)))\n",
    "model.add(BatchNormalization())\n",
    "model.add(Activation('relu'))\n",
    "model.add(MaxPooling3D(pool_size=(1,2,2), strides=(1,2,2), padding='same'))\n",
    "\n",
    "model.add(Conv3D(64, (3,3,3), strides=(1,1,1), padding='same'))\n",
    "model.add(BatchNormalization())\n",
    "model.add(Activation('relu'))\n",
    "model.add(MaxPooling3D(pool_size=(2,2,2), strides=(2,2,2), padding='same'))\n",
    "\n",
    "model.add(Conv3D(128, (3,3,3), strides=(1,1,1), padding='same'))\n",
    "model.add(Conv3D(256, (3,3,3), strides=(1,1,1), padding='same'))\n",
    "model.add(BatchNormalization())\n",
    "model.add(Activation('relu'))\n",
    "\n",
    "model.add(Flatten())\n",
    "model.add(Dropout(0.5))\n",
    "model.add(Dense(512, activation='relu'))\n",
    "model.add(Dropout(0.5))\n",
    "model.add(Dense(5, activation='softmax'))"
   ]
  },
  {
   "cell_type": "markdown",
   "metadata": {
    "id": "CPjY-PL2iyz0"
   },
   "source": [
    "Now that you have written the model, the next step is to compile the model. When you print the summary of the model, you'll see the total number of parameters you have to train."
   ]
  },
  {
   "cell_type": "code",
   "execution_count": 33,
   "metadata": {
    "id": "AdtAMvhTixp_"
   },
   "outputs": [
    {
     "name": "stdout",
     "output_type": "stream",
     "text": [
      "Model: \"sequential_2\"\n",
      "_________________________________________________________________\n",
      "Layer (type)                 Output Shape              Param #   \n",
      "=================================================================\n",
      "conv3d_8 (Conv3D)            (None, 18, 80, 80, 32)    2624      \n",
      "_________________________________________________________________\n",
      "batch_normalization_6 (Batch (None, 18, 80, 80, 32)    128       \n",
      "_________________________________________________________________\n",
      "activation_6 (Activation)    (None, 18, 80, 80, 32)    0         \n",
      "_________________________________________________________________\n",
      "max_pooling3d_4 (MaxPooling3 (None, 18, 40, 40, 32)    0         \n",
      "_________________________________________________________________\n",
      "conv3d_9 (Conv3D)            (None, 18, 40, 40, 64)    55360     \n",
      "_________________________________________________________________\n",
      "batch_normalization_7 (Batch (None, 18, 40, 40, 64)    256       \n",
      "_________________________________________________________________\n",
      "activation_7 (Activation)    (None, 18, 40, 40, 64)    0         \n",
      "_________________________________________________________________\n",
      "max_pooling3d_5 (MaxPooling3 (None, 9, 20, 20, 64)     0         \n",
      "_________________________________________________________________\n",
      "conv3d_10 (Conv3D)           (None, 9, 20, 20, 128)    221312    \n",
      "_________________________________________________________________\n",
      "conv3d_11 (Conv3D)           (None, 9, 20, 20, 256)    884992    \n",
      "_________________________________________________________________\n",
      "batch_normalization_8 (Batch (None, 9, 20, 20, 256)    1024      \n",
      "_________________________________________________________________\n",
      "activation_8 (Activation)    (None, 9, 20, 20, 256)    0         \n",
      "_________________________________________________________________\n",
      "flatten_2 (Flatten)          (None, 921600)            0         \n",
      "_________________________________________________________________\n",
      "dropout_4 (Dropout)          (None, 921600)            0         \n",
      "_________________________________________________________________\n",
      "dense_4 (Dense)              (None, 512)               471859712 \n",
      "_________________________________________________________________\n",
      "dropout_5 (Dropout)          (None, 512)               0         \n",
      "_________________________________________________________________\n",
      "dense_5 (Dense)              (None, 5)                 2565      \n",
      "=================================================================\n",
      "Total params: 473,027,973\n",
      "Trainable params: 473,027,269\n",
      "Non-trainable params: 704\n",
      "_________________________________________________________________\n",
      "None\n"
     ]
    }
   ],
   "source": [
    "optimiser = optimizers.SGD(lr=0.001, decay=1e-6, momentum=0.7, nesterov=True)\n",
    "model.compile(optimizer=optimiser, loss='categorical_crossentropy', metrics=['categorical_accuracy'])\n",
    "print (model.summary())"
   ]
  },
  {
   "cell_type": "markdown",
   "metadata": {
    "id": "Z6apbVQieEUs"
   },
   "source": [
    "Let us create the `train_generator` and the `val_generator` which will be used in `.fit_generator`."
   ]
  },
  {
   "cell_type": "code",
   "execution_count": 34,
   "metadata": {
    "id": "DEnt9sv2d-hp"
   },
   "outputs": [],
   "source": [
    "train_generator = generator(train_path, train_doc, batch_size)\n",
    "val_generator = generator(val_path, val_doc, batch_size)"
   ]
  },
  {
   "cell_type": "code",
   "execution_count": 35,
   "metadata": {
    "id": "ARAa6Bxb2No9"
   },
   "outputs": [],
   "source": [
    "model_name = 'model_init' + '_' + str(curr_dt_time).replace(' ','').replace(':','_') + '/'\n",
    "    \n",
    "if not os.path.exists(model_name):\n",
    "    os.mkdir(model_name)\n",
    "        \n",
    "filepath = model_name + 'model-{epoch:05d}-{loss:.5f}-{categorical_accuracy:.5f}-{val_loss:.5f}-{val_categorical_accuracy:.5f}.h5'\n",
    "\n",
    "checkpoint = ModelCheckpoint(filepath, monitor='val_loss', verbose=1, save_best_only=False, save_weights_only=False, mode='auto', save_freq='epoch')\n",
    "\n",
    "LR = ReduceLROnPlateau(monitor='val_loss', factor=0.5, patience=2, verbose=1, mode='min', min_delta=0.0001, cooldown=0, min_lr=0.00001)\n",
    "callbacks_list = [checkpoint, LR]"
   ]
  },
  {
   "cell_type": "code",
   "execution_count": 36,
   "metadata": {
    "id": "5TbHSfr2hcgD"
   },
   "outputs": [],
   "source": [
    "if (num_train_sequences%batch_size) == 0:\n",
    "    steps_per_epoch = int(num_train_sequences/batch_size)\n",
    "else:\n",
    "    steps_per_epoch = (num_train_sequences//batch_size) + 1\n",
    "\n",
    "if (num_val_sequences%batch_size) == 0:\n",
    "    validation_steps = int(num_val_sequences/batch_size)\n",
    "else:\n",
    "    validation_steps = (num_val_sequences//batch_size) + 1"
   ]
  },
  {
   "cell_type": "markdown",
   "metadata": {
    "id": "C88PeGAgfCTl"
   },
   "source": [
    "Let us now fit the model with new generator parameters. This will start training the model and with the help of the checkpoints, you'll be able to save the model at the end of each epoch."
   ]
  },
  {
   "cell_type": "code",
   "execution_count": 37,
   "metadata": {
    "id": "r8TER8vKeHxn"
   },
   "outputs": [
    {
     "data": {
      "text/plain": [
       "'\\nmodel.fit_generator(train_generator, steps_per_epoch=steps_per_epoch, epochs=num_epochs, verbose=1,\\n                    callbacks=callbacks_list, validation_data=val_generator, \\n                    validation_steps=validation_steps, class_weight=None, workers=1, initial_epoch=0)\\n'"
      ]
     },
     "execution_count": 37,
     "metadata": {},
     "output_type": "execute_result"
    }
   ],
   "source": [
    "'''\n",
    "model.fit_generator(train_generator, steps_per_epoch=steps_per_epoch, epochs=num_epochs, verbose=1,\n",
    "                    callbacks=callbacks_list, validation_data=val_generator, \n",
    "                    validation_steps=validation_steps, class_weight=None, workers=1, initial_epoch=0)\n",
    "'''"
   ]
  },
  {
   "cell_type": "markdown",
   "metadata": {
    "id": "AMiR1lQMRdiX"
   },
   "source": [
    "# Model-4: CNN Model\n",
    "## Experiment 4: Generator function increase number of images in input , reduce the image size & increased filters in model\n",
    "Decision:\n",
    "-\tWill use 18 image frames from each video. \n",
    "-\tVideo has total 30 image frames. We divided these 30 images into 3 slots each 10 images. slot1 [0:9], slot2 [10:19], slot3 [20:29] In each slot we will take 6 images will select 2 images in beginning 2 images in ending and 2 images in middle so that in each slot we will have 6 so total 18 images. \n",
    "-\tReduce the image size from 80x80 to 60x60\n",
    "-\tIncrease filters in Conv3D layers. \n",
    "- Number of Epochs will be 30\n",
    "- Will do image cropping here"
   ]
  },
  {
   "cell_type": "code",
   "execution_count": 66,
   "metadata": {
    "id": "H6wm2DqfRdiY"
   },
   "outputs": [
    {
     "name": "stdout",
     "output_type": "stream",
     "text": [
      "# Time = 2021-08-01 17:39:43.271001\n",
      "# training sequences = 663\n",
      "# validation sequences = 100\n",
      "# epochs = 30\n",
      "# Image Index  =  [0, 1, 4, 5, 8, 9, 10, 11, 14, 15, 18, 19, 20, 21, 24, 25, 28, 29]\n",
      "# Number of Video Frames =  18\n",
      "# Image Size =  (60, 60)\n",
      "# batch size = 64\n",
      "# Augmentation = False\n"
     ]
    }
   ],
   "source": [
    "#Set the global parameters\n",
    "#!rm -rf model*\n",
    "curr_dt_time = datetime.datetime.now()\n",
    "num_train_sequences = len(train_doc)\n",
    "num_val_sequences = len(val_doc)\n",
    "num_epochs = 30\n",
    "batch_size = 64\n",
    "img_idx = [0,1,4,5,8,9,10,11,14,15,18,19,20,21,24,25,28,29]\n",
    "x = len(img_idx) # Number of video frames needs to be used\n",
    "y = 60 # size of the input image frames of the videos(heigh)\n",
    "z = 60 # size of the input image frames of the videos(width)\n",
    "augment = False #Enable True if want to do image augmentation\n",
    "print_input_summary()"
   ]
  },
  {
   "cell_type": "code",
   "execution_count": 67,
   "metadata": {
    "id": "0zvMcfUQRdiY"
   },
   "outputs": [],
   "source": [
    "model = Sequential()\n",
    "model.add(Conv3D(64, (3,3,3), strides=(1,1,1), padding='same', input_shape=(x,y,z,3)))\n",
    "model.add(BatchNormalization())\n",
    "model.add(Activation('relu'))\n",
    "model.add(MaxPooling3D(pool_size=(1,2,2), strides=(1,2,2), padding='same'))\n",
    "\n",
    "model.add(Conv3D(128, (3,3,3), strides=(1,1,1), padding='same'))\n",
    "model.add(BatchNormalization())\n",
    "model.add(Activation('relu'))\n",
    "model.add(MaxPooling3D(pool_size=(2,2,2), strides=(2,2,2), padding='same'))\n",
    "\n",
    "model.add(Conv3D(256, (3,3,3), strides=(1,1,1), padding='same'))\n",
    "model.add(Conv3D(256, (3,3,3), strides=(1,1,1), padding='same'))\n",
    "model.add(BatchNormalization())\n",
    "model.add(Activation('relu'))\n",
    "\n",
    "model.add(Flatten())\n",
    "model.add(Dropout(0.5))\n",
    "model.add(Dense(512, activation='relu'))\n",
    "model.add(Dropout(0.5))\n",
    "model.add(Dense(5, activation='softmax'))"
   ]
  },
  {
   "cell_type": "code",
   "execution_count": 68,
   "metadata": {
    "id": "y7mh-ikJRdiZ"
   },
   "outputs": [
    {
     "name": "stdout",
     "output_type": "stream",
     "text": [
      "Model: \"sequential_9\"\n",
      "_________________________________________________________________\n",
      "Layer (type)                 Output Shape              Param #   \n",
      "=================================================================\n",
      "conv3d_36 (Conv3D)           (None, 18, 60, 60, 64)    5248      \n",
      "_________________________________________________________________\n",
      "batch_normalization_27 (Batc (None, 18, 60, 60, 64)    256       \n",
      "_________________________________________________________________\n",
      "activation_27 (Activation)   (None, 18, 60, 60, 64)    0         \n",
      "_________________________________________________________________\n",
      "max_pooling3d_18 (MaxPooling (None, 18, 30, 30, 64)    0         \n",
      "_________________________________________________________________\n",
      "conv3d_37 (Conv3D)           (None, 18, 30, 30, 128)   221312    \n",
      "_________________________________________________________________\n",
      "batch_normalization_28 (Batc (None, 18, 30, 30, 128)   512       \n",
      "_________________________________________________________________\n",
      "activation_28 (Activation)   (None, 18, 30, 30, 128)   0         \n",
      "_________________________________________________________________\n",
      "max_pooling3d_19 (MaxPooling (None, 9, 15, 15, 128)    0         \n",
      "_________________________________________________________________\n",
      "conv3d_38 (Conv3D)           (None, 9, 15, 15, 256)    884992    \n",
      "_________________________________________________________________\n",
      "conv3d_39 (Conv3D)           (None, 9, 15, 15, 256)    1769728   \n",
      "_________________________________________________________________\n",
      "batch_normalization_29 (Batc (None, 9, 15, 15, 256)    1024      \n",
      "_________________________________________________________________\n",
      "activation_29 (Activation)   (None, 9, 15, 15, 256)    0         \n",
      "_________________________________________________________________\n",
      "flatten_9 (Flatten)          (None, 518400)            0         \n",
      "_________________________________________________________________\n",
      "dropout_16 (Dropout)         (None, 518400)            0         \n",
      "_________________________________________________________________\n",
      "dense_16 (Dense)             (None, 512)               265421312 \n",
      "_________________________________________________________________\n",
      "dropout_17 (Dropout)         (None, 512)               0         \n",
      "_________________________________________________________________\n",
      "dense_17 (Dense)             (None, 5)                 2565      \n",
      "=================================================================\n",
      "Total params: 268,306,949\n",
      "Trainable params: 268,306,053\n",
      "Non-trainable params: 896\n",
      "_________________________________________________________________\n",
      "None\n"
     ]
    }
   ],
   "source": [
    "optimiser = optimizers.SGD(lr=0.001, decay=1e-6, momentum=0.7, nesterov=True)\n",
    "model.compile(optimizer=optimiser, loss='categorical_crossentropy', metrics=['categorical_accuracy'])\n",
    "print (model.summary())"
   ]
  },
  {
   "cell_type": "code",
   "execution_count": 69,
   "metadata": {
    "id": "O0t8s3jJRdiZ"
   },
   "outputs": [],
   "source": [
    "train_generator = generator(train_path, train_doc, batch_size)\n",
    "val_generator = generator(val_path, val_doc, batch_size)"
   ]
  },
  {
   "cell_type": "code",
   "execution_count": 70,
   "metadata": {
    "id": "B9d23yCGRdiZ"
   },
   "outputs": [],
   "source": [
    "model_name = 'model_init' + '_' + str(curr_dt_time).replace(' ','').replace(':','_') + '/'\n",
    "    \n",
    "if not os.path.exists(model_name):\n",
    "    os.mkdir(model_name)\n",
    "        \n",
    "filepath = model_name + 'model-{epoch:05d}-{loss:.5f}-{categorical_accuracy:.5f}-{val_loss:.5f}-{val_categorical_accuracy:.5f}.h5'\n",
    "\n",
    "checkpoint = ModelCheckpoint(filepath, monitor='val_loss', verbose=1, save_best_only=False, save_weights_only=False, mode='auto', save_freq='epoch')\n",
    "\n",
    "LR = ReduceLROnPlateau(monitor='val_loss', factor=0.5, patience=2, verbose=1, mode='min', min_delta=0.0001, cooldown=0, min_lr=0.00001)\n",
    "callbacks_list = [checkpoint, LR]"
   ]
  },
  {
   "cell_type": "code",
   "execution_count": 71,
   "metadata": {
    "id": "3E0OwR0PRdia"
   },
   "outputs": [],
   "source": [
    "if (num_train_sequences%batch_size) == 0:\n",
    "    steps_per_epoch = int(num_train_sequences/batch_size)\n",
    "else:\n",
    "    steps_per_epoch = (num_train_sequences//batch_size) + 1\n",
    "\n",
    "if (num_val_sequences%batch_size) == 0:\n",
    "    validation_steps = int(num_val_sequences/batch_size)\n",
    "else:\n",
    "    validation_steps = (num_val_sequences//batch_size) + 1"
   ]
  },
  {
   "cell_type": "code",
   "execution_count": 73,
   "metadata": {
    "id": "oRFPYCZhRdia"
   },
   "outputs": [
    {
     "data": {
      "text/plain": [
       "'\\nmodel.fit_generator(train_generator, steps_per_epoch=steps_per_epoch, epochs=num_epochs, verbose=1,\\n                    callbacks=callbacks_list, validation_data=val_generator, \\n                    validation_steps=validation_steps, class_weight=None, workers=1, initial_epoch=0)\\n'"
      ]
     },
     "execution_count": 73,
     "metadata": {},
     "output_type": "execute_result"
    }
   ],
   "source": [
    "'''\n",
    "model.fit_generator(train_generator, steps_per_epoch=steps_per_epoch, epochs=num_epochs, verbose=1,\n",
    "                    callbacks=callbacks_list, validation_data=val_generator, \n",
    "                    validation_steps=validation_steps, class_weight=None, workers=1, initial_epoch=0)\n",
    "'''"
   ]
  },
  {
   "cell_type": "markdown",
   "metadata": {
    "id": "Zxh4cGKaJvsW"
   },
   "source": [
    "## Model-5: CNN Model\n",
    "### Experiment 5a: Generator function maximize batch size such way that we are able use GPU to full capacity. \n",
    "### Experiment 5b: Generator function use batch size greater than 32 and less than 96 and also reduced the filters in Conv3D layers. \n",
    "-\tWill use 15 image frames from each video. \n",
    "-\tVideo has total 30 image frames. We will use alternate image from 30 images. \n",
    "-\tIncrease batch size to 128 and then 96\n",
    "- After setting the batch size 128 or 96 we gets the error. Hence we will set batch size to 64 & Epoch to 30\n",
    "- Will keep image size same 60x60\n"
   ]
  },
  {
   "cell_type": "code",
   "execution_count": 63,
   "metadata": {
    "id": "R-YX3liQKVkq"
   },
   "outputs": [
    {
     "name": "stdout",
     "output_type": "stream",
     "text": [
      "# Time = 2021-08-01 17:39:00.853990\n",
      "# training sequences = 663\n",
      "# validation sequences = 100\n",
      "# epochs = 30\n",
      "# Image Index  =  [0, 2, 4, 6, 8, 10, 12, 14, 16, 18, 20, 22, 24, 26, 28]\n",
      "# Number of Video Frames =  15\n",
      "# Image Size =  (60, 60)\n",
      "# batch size = 64\n",
      "# Augmentation = False\n"
     ]
    }
   ],
   "source": [
    "#Set the global parameters\n",
    "#!rm -rf model*\n",
    "curr_dt_time = datetime.datetime.now()\n",
    "num_train_sequences = len(train_doc)\n",
    "num_val_sequences = len(val_doc)\n",
    "num_epochs = 30\n",
    "batch_size = 64\n",
    "img_idx = [0,2,4,6,8,10,12,14,16,18,20,22,24,26,28]\n",
    "x = len(img_idx) # Number of video frames needs to be used\n",
    "y = 60 # size of the input image frames of the videos(heigh)\n",
    "z = 60 # size of the input image frames of the videos(width)\n",
    "augment = False #Enable True if want to do image augmentation\n",
    "print_input_summary()"
   ]
  },
  {
   "cell_type": "code",
   "execution_count": 64,
   "metadata": {
    "id": "fhVkQQoxKfW9"
   },
   "outputs": [],
   "source": [
    "model = Sequential()\n",
    "model.add(Conv3D(32, (3,3,3), strides=(1,1,1), padding='same', input_shape=(x,y,z,3)))\n",
    "model.add(BatchNormalization())\n",
    "model.add(Activation('relu'))\n",
    "model.add(MaxPooling3D(pool_size=(1,2,2), strides=(1,2,2), padding='same'))\n",
    "\n",
    "model.add(Conv3D(64, (3,3,3), strides=(1,1,1), padding='same'))\n",
    "model.add(BatchNormalization())\n",
    "model.add(Activation('relu'))\n",
    "model.add(MaxPooling3D(pool_size=(2,2,2), strides=(2,2,2), padding='same'))\n",
    "\n",
    "model.add(Conv3D(128, (3,3,3), strides=(1,1,1), padding='same'))\n",
    "model.add(Conv3D(128, (3,3,3), strides=(1,1,1), padding='same'))\n",
    "model.add(BatchNormalization())\n",
    "model.add(Activation('relu'))\n",
    "\n",
    "model.add(Flatten())\n",
    "model.add(Dropout(0.5))\n",
    "model.add(Dense(256, activation='relu'))\n",
    "model.add(Dropout(0.5))\n",
    "model.add(Dense(5, activation='softmax'))"
   ]
  },
  {
   "cell_type": "code",
   "execution_count": 65,
   "metadata": {
    "id": "JJl4yE6KKmOk"
   },
   "outputs": [
    {
     "name": "stdout",
     "output_type": "stream",
     "text": [
      "Model: \"sequential_8\"\n",
      "_________________________________________________________________\n",
      "Layer (type)                 Output Shape              Param #   \n",
      "=================================================================\n",
      "conv3d_32 (Conv3D)           (None, 15, 60, 60, 32)    2624      \n",
      "_________________________________________________________________\n",
      "batch_normalization_24 (Batc (None, 15, 60, 60, 32)    128       \n",
      "_________________________________________________________________\n",
      "activation_24 (Activation)   (None, 15, 60, 60, 32)    0         \n",
      "_________________________________________________________________\n",
      "max_pooling3d_16 (MaxPooling (None, 15, 30, 30, 32)    0         \n",
      "_________________________________________________________________\n",
      "conv3d_33 (Conv3D)           (None, 15, 30, 30, 64)    55360     \n",
      "_________________________________________________________________\n",
      "batch_normalization_25 (Batc (None, 15, 30, 30, 64)    256       \n",
      "_________________________________________________________________\n",
      "activation_25 (Activation)   (None, 15, 30, 30, 64)    0         \n",
      "_________________________________________________________________\n",
      "max_pooling3d_17 (MaxPooling (None, 8, 15, 15, 64)     0         \n",
      "_________________________________________________________________\n",
      "conv3d_34 (Conv3D)           (None, 8, 15, 15, 128)    221312    \n",
      "_________________________________________________________________\n",
      "conv3d_35 (Conv3D)           (None, 8, 15, 15, 128)    442496    \n",
      "_________________________________________________________________\n",
      "batch_normalization_26 (Batc (None, 8, 15, 15, 128)    512       \n",
      "_________________________________________________________________\n",
      "activation_26 (Activation)   (None, 8, 15, 15, 128)    0         \n",
      "_________________________________________________________________\n",
      "flatten_8 (Flatten)          (None, 230400)            0         \n",
      "_________________________________________________________________\n",
      "dropout_14 (Dropout)         (None, 230400)            0         \n",
      "_________________________________________________________________\n",
      "dense_14 (Dense)             (None, 256)               58982656  \n",
      "_________________________________________________________________\n",
      "dropout_15 (Dropout)         (None, 256)               0         \n",
      "_________________________________________________________________\n",
      "dense_15 (Dense)             (None, 5)                 1285      \n",
      "=================================================================\n",
      "Total params: 59,706,629\n",
      "Trainable params: 59,706,181\n",
      "Non-trainable params: 448\n",
      "_________________________________________________________________\n",
      "None\n"
     ]
    }
   ],
   "source": [
    "optimiser = optimizers.SGD(lr=0.001, decay=1e-6, momentum=0.7, nesterov=True)\n",
    "model.compile(optimizer=optimiser, loss='categorical_crossentropy', metrics=['categorical_accuracy'])\n",
    "print (model.summary())"
   ]
  },
  {
   "cell_type": "code",
   "execution_count": 59,
   "metadata": {
    "id": "WPCLuqBhKncH"
   },
   "outputs": [],
   "source": [
    "train_generator = generator(train_path, train_doc, batch_size)\n",
    "val_generator = generator(val_path, val_doc, batch_size)"
   ]
  },
  {
   "cell_type": "code",
   "execution_count": 60,
   "metadata": {
    "id": "8lFwbqmy2RIT"
   },
   "outputs": [],
   "source": [
    "model_name = 'model_init' + '_' + str(curr_dt_time).replace(' ','').replace(':','_') + '/'\n",
    "    \n",
    "if not os.path.exists(model_name):\n",
    "    os.mkdir(model_name)\n",
    "        \n",
    "filepath = model_name + 'model-{epoch:05d}-{loss:.5f}-{categorical_accuracy:.5f}-{val_loss:.5f}-{val_categorical_accuracy:.5f}.h5'\n",
    "\n",
    "checkpoint = ModelCheckpoint(filepath, monitor='val_loss', verbose=1, save_best_only=False, save_weights_only=False, mode='auto', save_freq='epoch')\n",
    "\n",
    "LR = ReduceLROnPlateau(monitor='val_loss', factor=0.5, patience=2, verbose=1, mode='min', min_delta=0.0001, cooldown=0, min_lr=0.00001)\n",
    "callbacks_list = [checkpoint, LR]"
   ]
  },
  {
   "cell_type": "code",
   "execution_count": 61,
   "metadata": {
    "id": "LZRkxdcYK88b"
   },
   "outputs": [],
   "source": [
    "if (num_train_sequences%batch_size) == 0:\n",
    "    steps_per_epoch = int(num_train_sequences/batch_size)\n",
    "else:\n",
    "    steps_per_epoch = (num_train_sequences//batch_size) + 1\n",
    "\n",
    "if (num_val_sequences%batch_size) == 0:\n",
    "    validation_steps = int(num_val_sequences/batch_size)\n",
    "else:\n",
    "    validation_steps = (num_val_sequences//batch_size) + 1"
   ]
  },
  {
   "cell_type": "code",
   "execution_count": 62,
   "metadata": {
    "id": "lKYw769QK_jc"
   },
   "outputs": [
    {
     "name": "stdout",
     "output_type": "stream",
     "text": [
      "# Source path =  datasets/Project_data/train\n",
      "# batch size = 64\n",
      "# Augmentation = False\n",
      "Epoch 1/30\n",
      "11/11 [==============================] - ETA: 0s - loss: 3.1424 - categorical_accuracy: 0.3002# Source path =  datasets/Project_data/val\n",
      "# batch size = 64\n",
      "# Augmentation = False\n",
      "\n",
      "Epoch 00001: saving model to model_init_2021-08-0116_32_44.458744/model-00001-3.14239-0.30015-1.60260-0.21000.h5\n",
      "11/11 [==============================] - 137s 12s/step - loss: 3.1424 - categorical_accuracy: 0.3002 - val_loss: 1.6026 - val_categorical_accuracy: 0.2100\n",
      "Epoch 2/30\n",
      "11/11 [==============================] - ETA: 0s - loss: 1.3151 - categorical_accuracy: 0.4299\n",
      "Epoch 00002: saving model to model_init_2021-08-0116_32_44.458744/model-00002-1.31515-0.42986-1.56016-0.31000.h5\n",
      "11/11 [==============================] - 136s 12s/step - loss: 1.3151 - categorical_accuracy: 0.4299 - val_loss: 1.5602 - val_categorical_accuracy: 0.3100\n",
      "Epoch 3/30\n",
      "11/11 [==============================] - ETA: 0s - loss: 1.1277 - categorical_accuracy: 0.5083\n",
      "Epoch 00003: saving model to model_init_2021-08-0116_32_44.458744/model-00003-1.12771-0.50830-1.61191-0.27000.h5\n",
      "11/11 [==============================] - 139s 13s/step - loss: 1.1277 - categorical_accuracy: 0.5083 - val_loss: 1.6119 - val_categorical_accuracy: 0.2700\n",
      "Epoch 4/30\n",
      "11/11 [==============================] - ETA: 0s - loss: 0.9366 - categorical_accuracy: 0.6184 \n",
      "Epoch 00004: saving model to model_init_2021-08-0116_32_44.458744/model-00004-0.93660-0.61840-1.73746-0.24000.h5\n",
      "\n",
      "Epoch 00004: ReduceLROnPlateau reducing learning rate to 0.0005000000237487257.\n",
      "11/11 [==============================] - 136s 12s/step - loss: 0.9366 - categorical_accuracy: 0.6184 - val_loss: 1.7375 - val_categorical_accuracy: 0.2400\n",
      "Epoch 5/30\n",
      "11/11 [==============================] - ETA: 0s - loss: 0.8090 - categorical_accuracy: 0.6968\n",
      "Epoch 00005: saving model to model_init_2021-08-0116_32_44.458744/model-00005-0.80898-0.69683-1.80453-0.24000.h5\n",
      "11/11 [==============================] - 141s 13s/step - loss: 0.8090 - categorical_accuracy: 0.6968 - val_loss: 1.8045 - val_categorical_accuracy: 0.2400\n",
      "Epoch 6/30\n",
      "11/11 [==============================] - ETA: 0s - loss: 0.7434 - categorical_accuracy: 0.7195 \n",
      "Epoch 00006: saving model to model_init_2021-08-0116_32_44.458744/model-00006-0.74344-0.71946-2.13332-0.20000.h5\n",
      "\n",
      "Epoch 00006: ReduceLROnPlateau reducing learning rate to 0.0002500000118743628.\n",
      "11/11 [==============================] - 144s 13s/step - loss: 0.7434 - categorical_accuracy: 0.7195 - val_loss: 2.1333 - val_categorical_accuracy: 0.2000\n",
      "Epoch 7/30\n",
      "11/11 [==============================] - ETA: 0s - loss: 0.6825 - categorical_accuracy: 0.7345 \n",
      "Epoch 00007: saving model to model_init_2021-08-0116_32_44.458744/model-00007-0.68254-0.73454-2.28152-0.18000.h5\n",
      "11/11 [==============================] - 150s 14s/step - loss: 0.6825 - categorical_accuracy: 0.7345 - val_loss: 2.2815 - val_categorical_accuracy: 0.1800\n",
      "Epoch 8/30\n",
      "11/11 [==============================] - ETA: 0s - loss: 0.6486 - categorical_accuracy: 0.7360\n",
      "Epoch 00008: saving model to model_init_2021-08-0116_32_44.458744/model-00008-0.64861-0.73605-2.22397-0.23000.h5\n",
      "\n",
      "Epoch 00008: ReduceLROnPlateau reducing learning rate to 0.0001250000059371814.\n",
      "11/11 [==============================] - 122s 11s/step - loss: 0.6486 - categorical_accuracy: 0.7360 - val_loss: 2.2240 - val_categorical_accuracy: 0.2300\n",
      "Epoch 9/30\n",
      "11/11 [==============================] - ETA: 0s - loss: 0.6088 - categorical_accuracy: 0.7753\n",
      "Epoch 00009: saving model to model_init_2021-08-0116_32_44.458744/model-00009-0.60876-0.77526-2.50310-0.16000.h5\n",
      "11/11 [==============================] - 133s 12s/step - loss: 0.6088 - categorical_accuracy: 0.7753 - val_loss: 2.5031 - val_categorical_accuracy: 0.1600\n",
      "Epoch 10/30\n",
      "11/11 [==============================] - ETA: 0s - loss: 0.5834 - categorical_accuracy: 0.7828\n",
      "Epoch 00010: saving model to model_init_2021-08-0116_32_44.458744/model-00010-0.58343-0.78281-2.58853-0.26000.h5\n",
      "\n",
      "Epoch 00010: ReduceLROnPlateau reducing learning rate to 6.25000029685907e-05.\n",
      "11/11 [==============================] - 121s 11s/step - loss: 0.5834 - categorical_accuracy: 0.7828 - val_loss: 2.5885 - val_categorical_accuracy: 0.2600\n",
      "Epoch 11/30\n",
      "11/11 [==============================] - ETA: 0s - loss: 0.5638 - categorical_accuracy: 0.7843\n",
      "Epoch 00011: saving model to model_init_2021-08-0116_32_44.458744/model-00011-0.56384-0.78431-2.80899-0.23000.h5\n",
      "11/11 [==============================] - 130s 12s/step - loss: 0.5638 - categorical_accuracy: 0.7843 - val_loss: 2.8090 - val_categorical_accuracy: 0.2300\n",
      "Epoch 12/30\n",
      "11/11 [==============================] - ETA: 0s - loss: 0.5808 - categorical_accuracy: 0.7662\n",
      "Epoch 00012: saving model to model_init_2021-08-0116_32_44.458744/model-00012-0.58076-0.76621-2.79468-0.23000.h5\n",
      "\n",
      "Epoch 00012: ReduceLROnPlateau reducing learning rate to 3.125000148429535e-05.\n",
      "11/11 [==============================] - 122s 11s/step - loss: 0.5808 - categorical_accuracy: 0.7662 - val_loss: 2.7947 - val_categorical_accuracy: 0.2300\n",
      "Epoch 13/30\n",
      "11/11 [==============================] - ETA: 0s - loss: 0.5599 - categorical_accuracy: 0.7979\n",
      "Epoch 00013: saving model to model_init_2021-08-0116_32_44.458744/model-00013-0.55988-0.79789-2.67968-0.26000.h5\n",
      "11/11 [==============================] - 125s 11s/step - loss: 0.5599 - categorical_accuracy: 0.7979 - val_loss: 2.6797 - val_categorical_accuracy: 0.2600\n",
      "Epoch 14/30\n",
      "11/11 [==============================] - ETA: 0s - loss: 0.5790 - categorical_accuracy: 0.7798\n",
      "Epoch 00014: saving model to model_init_2021-08-0116_32_44.458744/model-00014-0.57901-0.77979-3.18230-0.21000.h5\n",
      "\n",
      "Epoch 00014: ReduceLROnPlateau reducing learning rate to 1.5625000742147677e-05.\n",
      "11/11 [==============================] - 126s 11s/step - loss: 0.5790 - categorical_accuracy: 0.7798 - val_loss: 3.1823 - val_categorical_accuracy: 0.2100\n",
      "Epoch 15/30\n",
      "11/11 [==============================] - ETA: 0s - loss: 0.5967 - categorical_accuracy: 0.7828\n",
      "Epoch 00015: saving model to model_init_2021-08-0116_32_44.458744/model-00015-0.59665-0.78281-3.06960-0.23000.h5\n",
      "11/11 [==============================] - 133s 12s/step - loss: 0.5967 - categorical_accuracy: 0.7828 - val_loss: 3.0696 - val_categorical_accuracy: 0.2300\n",
      "Epoch 16/30\n",
      "11/11 [==============================] - ETA: 0s - loss: 0.5919 - categorical_accuracy: 0.7873\n",
      "Epoch 00016: saving model to model_init_2021-08-0116_32_44.458744/model-00016-0.59193-0.78733-3.25384-0.19000.h5\n",
      "\n",
      "Epoch 00016: ReduceLROnPlateau reducing learning rate to 1e-05.\n",
      "11/11 [==============================] - 127s 12s/step - loss: 0.5919 - categorical_accuracy: 0.7873 - val_loss: 3.2538 - val_categorical_accuracy: 0.1900\n",
      "Epoch 17/30\n",
      "11/11 [==============================] - ETA: 0s - loss: 0.5618 - categorical_accuracy: 0.7964\n",
      "Epoch 00017: saving model to model_init_2021-08-0116_32_44.458744/model-00017-0.56176-0.79638-3.16659-0.26000.h5\n",
      "11/11 [==============================] - 131s 12s/step - loss: 0.5618 - categorical_accuracy: 0.7964 - val_loss: 3.1666 - val_categorical_accuracy: 0.2600\n",
      "Epoch 18/30\n",
      "11/11 [==============================] - ETA: 0s - loss: 0.5582 - categorical_accuracy: 0.7903\n",
      "Epoch 00018: saving model to model_init_2021-08-0116_32_44.458744/model-00018-0.55819-0.79035-3.25540-0.22000.h5\n",
      "11/11 [==============================] - 118s 11s/step - loss: 0.5582 - categorical_accuracy: 0.7903 - val_loss: 3.2554 - val_categorical_accuracy: 0.2200\n",
      "Epoch 19/30\n",
      "11/11 [==============================] - ETA: 0s - loss: 0.5786 - categorical_accuracy: 0.7949\n",
      "Epoch 00019: saving model to model_init_2021-08-0116_32_44.458744/model-00019-0.57863-0.79487-2.97876-0.23000.h5\n",
      "11/11 [==============================] - 128s 12s/step - loss: 0.5786 - categorical_accuracy: 0.7949 - val_loss: 2.9788 - val_categorical_accuracy: 0.2300\n",
      "Epoch 20/30\n",
      "11/11 [==============================] - ETA: 0s - loss: 0.5484 - categorical_accuracy: 0.7934\n",
      "Epoch 00020: saving model to model_init_2021-08-0116_32_44.458744/model-00020-0.54845-0.79336-3.47904-0.25000.h5\n",
      "11/11 [==============================] - 126s 11s/step - loss: 0.5484 - categorical_accuracy: 0.7934 - val_loss: 3.4790 - val_categorical_accuracy: 0.2500\n",
      "Epoch 21/30\n",
      "11/11 [==============================] - ETA: 0s - loss: 0.6110 - categorical_accuracy: 0.7587\n",
      "Epoch 00021: saving model to model_init_2021-08-0116_32_44.458744/model-00021-0.61100-0.75867-3.33455-0.24000.h5\n",
      "11/11 [==============================] - 127s 12s/step - loss: 0.6110 - categorical_accuracy: 0.7587 - val_loss: 3.3346 - val_categorical_accuracy: 0.2400\n",
      "Epoch 22/30\n",
      "11/11 [==============================] - ETA: 0s - loss: 0.5782 - categorical_accuracy: 0.7934\n",
      "Epoch 00022: saving model to model_init_2021-08-0116_32_44.458744/model-00022-0.57821-0.79336-3.33445-0.27000.h5\n",
      "11/11 [==============================] - 121s 11s/step - loss: 0.5782 - categorical_accuracy: 0.7934 - val_loss: 3.3344 - val_categorical_accuracy: 0.2700\n",
      "Epoch 23/30\n",
      "11/11 [==============================] - ETA: 0s - loss: 0.5672 - categorical_accuracy: 0.7919\n",
      "Epoch 00023: saving model to model_init_2021-08-0116_32_44.458744/model-00023-0.56720-0.79186-3.87231-0.21000.h5\n",
      "11/11 [==============================] - 128s 12s/step - loss: 0.5672 - categorical_accuracy: 0.7919 - val_loss: 3.8723 - val_categorical_accuracy: 0.2100\n",
      "Epoch 24/30\n",
      "11/11 [==============================] - ETA: 0s - loss: 0.5645 - categorical_accuracy: 0.7994\n",
      "Epoch 00024: saving model to model_init_2021-08-0116_32_44.458744/model-00024-0.56448-0.79940-3.38403-0.28000.h5\n",
      "11/11 [==============================] - 121s 11s/step - loss: 0.5645 - categorical_accuracy: 0.7994 - val_loss: 3.3840 - val_categorical_accuracy: 0.2800\n",
      "Epoch 25/30\n",
      "11/11 [==============================] - ETA: 0s - loss: 0.5520 - categorical_accuracy: 0.7798\n",
      "Epoch 00025: saving model to model_init_2021-08-0116_32_44.458744/model-00025-0.55201-0.77979-3.25541-0.30000.h5\n",
      "11/11 [==============================] - 129s 12s/step - loss: 0.5520 - categorical_accuracy: 0.7798 - val_loss: 3.2554 - val_categorical_accuracy: 0.3000\n",
      "Epoch 26/30\n",
      "11/11 [==============================] - ETA: 0s - loss: 0.5568 - categorical_accuracy: 0.7994\n",
      "Epoch 00026: saving model to model_init_2021-08-0116_32_44.458744/model-00026-0.55684-0.79940-3.33473-0.24000.h5\n",
      "11/11 [==============================] - 127s 12s/step - loss: 0.5568 - categorical_accuracy: 0.7994 - val_loss: 3.3347 - val_categorical_accuracy: 0.2400\n",
      "Epoch 27/30\n",
      "11/11 [==============================] - ETA: 0s - loss: 0.5478 - categorical_accuracy: 0.8115\n",
      "Epoch 00027: saving model to model_init_2021-08-0116_32_44.458744/model-00027-0.54781-0.81146-3.39128-0.27000.h5\n",
      "11/11 [==============================] - 132s 12s/step - loss: 0.5478 - categorical_accuracy: 0.8115 - val_loss: 3.3913 - val_categorical_accuracy: 0.2700\n",
      "Epoch 28/30\n",
      "11/11 [==============================] - ETA: 0s - loss: 0.5342 - categorical_accuracy: 0.8115\n",
      "Epoch 00028: saving model to model_init_2021-08-0116_32_44.458744/model-00028-0.53420-0.81146-3.14533-0.29000.h5\n",
      "11/11 [==============================] - 122s 11s/step - loss: 0.5342 - categorical_accuracy: 0.8115 - val_loss: 3.1453 - val_categorical_accuracy: 0.2900\n",
      "Epoch 29/30\n",
      "11/11 [==============================] - ETA: 0s - loss: 0.5598 - categorical_accuracy: 0.7964\n",
      "Epoch 00029: saving model to model_init_2021-08-0116_32_44.458744/model-00029-0.55980-0.79638-3.12719-0.33000.h5\n",
      "11/11 [==============================] - 125s 11s/step - loss: 0.5598 - categorical_accuracy: 0.7964 - val_loss: 3.1272 - val_categorical_accuracy: 0.3300\n",
      "Epoch 30/30\n",
      "11/11 [==============================] - ETA: 0s - loss: 0.5267 - categorical_accuracy: 0.8220\n",
      "Epoch 00030: saving model to model_init_2021-08-0116_32_44.458744/model-00030-0.52667-0.82202-3.15187-0.32000.h5\n",
      "11/11 [==============================] - 122s 11s/step - loss: 0.5267 - categorical_accuracy: 0.8220 - val_loss: 3.1519 - val_categorical_accuracy: 0.3200\n"
     ]
    },
    {
     "data": {
      "text/plain": [
       "<tensorflow.python.keras.callbacks.History at 0x7fc09f89a518>"
      ]
     },
     "execution_count": 62,
     "metadata": {},
     "output_type": "execute_result"
    }
   ],
   "source": [
    "model.fit_generator(train_generator, steps_per_epoch=steps_per_epoch, epochs=num_epochs, verbose=1,\n",
    "                    callbacks=callbacks_list, validation_data=val_generator, \n",
    "                    validation_steps=validation_steps, class_weight=None, workers=1, initial_epoch=0)"
   ]
  },
  {
   "cell_type": "markdown",
   "metadata": {
    "id": "F3KzWC2ptXCa"
   },
   "source": [
    "## Model-6: CNN + RNN Modle with LSTM\n",
    "### Experiment 6: CCN + RNN Model with LSTM. \n",
    "### Decision:\n",
    "-\tWill use 15 image frames from each video. \n",
    "-\tVideo has total 30 image frames. We will use alternate image from 30 images. \n",
    "-\tWill keep image size to 60x60\n",
    "-\tbatch size will be 64. \n",
    "-\tThe recurrent connections often offer advantages. They make every unit to use their context information and especially in image recognition tasks this is very helpful. As the time steps increase, the unit gets influenced by larger and larger neighborhood. With that information recurrent networks can watch large regions in the input space. In CNN this ability is limited to units in higher layers.\n",
    "-\tRecurrent connections yield to an ability of handling sequential data.\n",
    "-\tWe will be using LSTM to solve vanishing gradient problem or exploding gradient problem. "
   ]
  },
  {
   "cell_type": "code",
   "execution_count": 74,
   "metadata": {
    "colab": {
     "base_uri": "https://localhost:8080/"
    },
    "id": "3dNFYjolueSr",
    "outputId": "8fa22703-2e6f-41d1-a9a2-a93323708dfa"
   },
   "outputs": [
    {
     "name": "stdout",
     "output_type": "stream",
     "text": [
      "# Time = 2021-08-01 17:45:04.390579\n",
      "# training sequences = 663\n",
      "# validation sequences = 100\n",
      "# epochs = 30\n",
      "# Image Index  =  [0, 2, 4, 6, 8, 10, 12, 14, 16, 18, 20, 22, 24, 26, 28]\n",
      "# Number of Video Frames =  15\n",
      "# Image Size =  (60, 60)\n",
      "# batch size = 64\n",
      "# Augmentation = False\n"
     ]
    }
   ],
   "source": [
    "#Set the global parameters\n",
    "#!rm -rf model*\n",
    "curr_dt_time = datetime.datetime.now()\n",
    "num_train_sequences = len(train_doc)\n",
    "num_val_sequences = len(val_doc)\n",
    "num_epochs = 30\n",
    "batch_size = 64\n",
    "img_idx = [0,2,4,6,8,10,12,14,16,18,20,22,24,26,28]\n",
    "x = len(img_idx) # Number of video frames needs to be used\n",
    "y = 60 # size of the input image frames of the videos(heigh)\n",
    "z = 60 # size of the input image frames of the videos(width)\n",
    "augment = False #Enable True if want to do image augmentation\n",
    "print_input_summary()"
   ]
  },
  {
   "cell_type": "code",
   "execution_count": 75,
   "metadata": {
    "id": "ezywbdWNk6zR"
   },
   "outputs": [],
   "source": [
    "# Define some more local variables\n",
    "lstm_cells=64\n",
    "dense_neurons=64\n",
    "dropout=0.25\n",
    "num_classes=5\n",
    "\n",
    "model = Sequential()\n",
    "\n",
    "model.add(\n",
    "    TimeDistributed(\n",
    "        Conv2D(16, (3, 3) , padding='same', activation='relu'), \n",
    "        input_shape=(x,y,z,3)\n",
    "        ))\n",
    "model.add(TimeDistributed(BatchNormalization()))\n",
    "model.add(TimeDistributed(MaxPooling2D((2, 2))))\n",
    "\n",
    "model.add(TimeDistributed(Conv2D(32, (3, 3) , padding='same', activation='relu')))\n",
    "model.add(TimeDistributed(BatchNormalization()))\n",
    "model.add(TimeDistributed(MaxPooling2D((2, 2))))\n",
    "\n",
    "model.add(TimeDistributed(Conv2D(64, (3, 3) , padding='same', activation='relu')))\n",
    "model.add(TimeDistributed(BatchNormalization()))\n",
    "model.add(TimeDistributed(MaxPooling2D((2, 2))))\n",
    "\n",
    "model.add(TimeDistributed(Conv2D(128, (3, 3) , padding='same', activation='relu')))\n",
    "model.add(TimeDistributed(BatchNormalization()))\n",
    "model.add(TimeDistributed(MaxPooling2D((2, 2))))\n",
    "\n",
    "model.add(TimeDistributed(Flatten()))\n",
    "\n",
    "model.add(LSTM(lstm_cells))\n",
    "model.add(Dropout(dropout))\n",
    "\n",
    "model.add(Dense(dense_neurons,activation='relu'))\n",
    "model.add(Dropout(dropout))\n",
    "\n",
    "model.add(Dense(num_classes, activation='softmax'))"
   ]
  },
  {
   "cell_type": "code",
   "execution_count": 76,
   "metadata": {
    "colab": {
     "base_uri": "https://localhost:8080/"
    },
    "id": "3NlhLbnEzjfU",
    "outputId": "669beee8-245e-43b7-82e7-29d6f80204f8"
   },
   "outputs": [
    {
     "name": "stdout",
     "output_type": "stream",
     "text": [
      "Model: \"sequential_10\"\n",
      "_________________________________________________________________\n",
      "Layer (type)                 Output Shape              Param #   \n",
      "=================================================================\n",
      "time_distributed (TimeDistri (None, 15, 60, 60, 16)    448       \n",
      "_________________________________________________________________\n",
      "time_distributed_1 (TimeDist (None, 15, 60, 60, 16)    64        \n",
      "_________________________________________________________________\n",
      "time_distributed_2 (TimeDist (None, 15, 30, 30, 16)    0         \n",
      "_________________________________________________________________\n",
      "time_distributed_3 (TimeDist (None, 15, 30, 30, 32)    4640      \n",
      "_________________________________________________________________\n",
      "time_distributed_4 (TimeDist (None, 15, 30, 30, 32)    128       \n",
      "_________________________________________________________________\n",
      "time_distributed_5 (TimeDist (None, 15, 15, 15, 32)    0         \n",
      "_________________________________________________________________\n",
      "time_distributed_6 (TimeDist (None, 15, 15, 15, 64)    18496     \n",
      "_________________________________________________________________\n",
      "time_distributed_7 (TimeDist (None, 15, 15, 15, 64)    256       \n",
      "_________________________________________________________________\n",
      "time_distributed_8 (TimeDist (None, 15, 7, 7, 64)      0         \n",
      "_________________________________________________________________\n",
      "time_distributed_9 (TimeDist (None, 15, 7, 7, 128)     73856     \n",
      "_________________________________________________________________\n",
      "time_distributed_10 (TimeDis (None, 15, 7, 7, 128)     512       \n",
      "_________________________________________________________________\n",
      "time_distributed_11 (TimeDis (None, 15, 3, 3, 128)     0         \n",
      "_________________________________________________________________\n",
      "time_distributed_12 (TimeDis (None, 15, 1152)          0         \n",
      "_________________________________________________________________\n",
      "lstm (LSTM)                  (None, 64)                311552    \n",
      "_________________________________________________________________\n",
      "dropout_18 (Dropout)         (None, 64)                0         \n",
      "_________________________________________________________________\n",
      "dense_18 (Dense)             (None, 64)                4160      \n",
      "_________________________________________________________________\n",
      "dropout_19 (Dropout)         (None, 64)                0         \n",
      "_________________________________________________________________\n",
      "dense_19 (Dense)             (None, 5)                 325       \n",
      "=================================================================\n",
      "Total params: 414,437\n",
      "Trainable params: 413,957\n",
      "Non-trainable params: 480\n",
      "_________________________________________________________________\n",
      "None\n"
     ]
    }
   ],
   "source": [
    "optimiser = optimizers.SGD(lr=0.001, decay=1e-6, momentum=0.7, nesterov=True)\n",
    "model.compile(optimizer=optimiser, loss='categorical_crossentropy', metrics=['categorical_accuracy'])\n",
    "print (model.summary())"
   ]
  },
  {
   "cell_type": "code",
   "execution_count": 77,
   "metadata": {
    "id": "ku_YNb7hzm8l"
   },
   "outputs": [],
   "source": [
    "train_generator = generator(train_path, train_doc, batch_size)\n",
    "val_generator = generator(val_path, val_doc, batch_size)"
   ]
  },
  {
   "cell_type": "code",
   "execution_count": 78,
   "metadata": {
    "id": "zP-4wRrYzp-h"
   },
   "outputs": [],
   "source": [
    "model_name = 'model_init' + '_' + str(curr_dt_time).replace(' ','').replace(':','_') + '/'\n",
    "    \n",
    "if not os.path.exists(model_name):\n",
    "    os.mkdir(model_name)\n",
    "        \n",
    "filepath = model_name + 'model-{epoch:05d}-{loss:.5f}-{categorical_accuracy:.5f}-{val_loss:.5f}-{val_categorical_accuracy:.5f}.h5'\n",
    "\n",
    "checkpoint = ModelCheckpoint(filepath, monitor='val_loss', verbose=1, save_best_only=False, save_weights_only=False, mode='auto', save_freq='epoch')\n",
    "\n",
    "LR = ReduceLROnPlateau(monitor='val_loss', factor=0.5, patience=2, verbose=1, mode='min', min_delta=0.0001, cooldown=0, min_lr=0.00001)\n",
    "callbacks_list = [checkpoint, LR]"
   ]
  },
  {
   "cell_type": "code",
   "execution_count": 79,
   "metadata": {
    "id": "H_u6et6Hzp1Q"
   },
   "outputs": [],
   "source": [
    "if (num_train_sequences%batch_size) == 0:\n",
    "    steps_per_epoch = int(num_train_sequences/batch_size)\n",
    "else:\n",
    "    steps_per_epoch = (num_train_sequences//batch_size) + 1\n",
    "\n",
    "if (num_val_sequences%batch_size) == 0:\n",
    "    validation_steps = int(num_val_sequences/batch_size)\n",
    "else:\n",
    "    validation_steps = (num_val_sequences//batch_size) + 1"
   ]
  },
  {
   "cell_type": "code",
   "execution_count": 80,
   "metadata": {
    "colab": {
     "base_uri": "https://localhost:8080/"
    },
    "id": "9qZU8wKgzprI",
    "outputId": "d489c123-6f4a-40b1-fa16-be1265bfa003"
   },
   "outputs": [
    {
     "name": "stdout",
     "output_type": "stream",
     "text": [
      "# Source path =  datasets/Project_data/train\n",
      "# batch size = 64\n",
      "# Augmentation = False\n",
      "Epoch 1/30\n",
      "11/11 [==============================] - ETA: 0s - loss: 1.7317 - categorical_accuracy: 0.1780# Source path =  datasets/Project_data/val\n",
      "# batch size = 64\n",
      "# Augmentation = False\n",
      "\n",
      "Epoch 00001: saving model to model_init_2021-08-0117_45_04.390579/model-00001-1.73173-0.17798-1.62377-0.19000.h5\n",
      "11/11 [==============================] - 127s 12s/step - loss: 1.7317 - categorical_accuracy: 0.1780 - val_loss: 1.6238 - val_categorical_accuracy: 0.1900\n",
      "Epoch 2/30\n",
      "11/11 [==============================] - ETA: 0s - loss: 1.6320 - categorical_accuracy: 0.2474\n",
      "Epoch 00002: saving model to model_init_2021-08-0117_45_04.390579/model-00002-1.63200-0.24736-1.62795-0.22000.h5\n",
      "11/11 [==============================] - 119s 11s/step - loss: 1.6320 - categorical_accuracy: 0.2474 - val_loss: 1.6279 - val_categorical_accuracy: 0.2200\n",
      "Epoch 3/30\n",
      "11/11 [==============================] - ETA: 0s - loss: 1.5757 - categorical_accuracy: 0.2866\n",
      "Epoch 00003: saving model to model_init_2021-08-0117_45_04.390579/model-00003-1.57574-0.28658-1.63064-0.20000.h5\n",
      "\n",
      "Epoch 00003: ReduceLROnPlateau reducing learning rate to 0.0005000000237487257.\n",
      "11/11 [==============================] - 129s 12s/step - loss: 1.5757 - categorical_accuracy: 0.2866 - val_loss: 1.6306 - val_categorical_accuracy: 0.2000\n",
      "Epoch 4/30\n",
      "11/11 [==============================] - ETA: 0s - loss: 1.5520 - categorical_accuracy: 0.3243\n",
      "Epoch 00004: saving model to model_init_2021-08-0117_45_04.390579/model-00004-1.55201-0.32428-1.63482-0.22000.h5\n",
      "11/11 [==============================] - 121s 11s/step - loss: 1.5520 - categorical_accuracy: 0.3243 - val_loss: 1.6348 - val_categorical_accuracy: 0.2200\n",
      "Epoch 5/30\n",
      "11/11 [==============================] - ETA: 0s - loss: 1.4991 - categorical_accuracy: 0.3363\n",
      "Epoch 00005: saving model to model_init_2021-08-0117_45_04.390579/model-00005-1.49910-0.33635-1.63691-0.18000.h5\n",
      "\n",
      "Epoch 00005: ReduceLROnPlateau reducing learning rate to 0.0002500000118743628.\n",
      "11/11 [==============================] - 124s 11s/step - loss: 1.4991 - categorical_accuracy: 0.3363 - val_loss: 1.6369 - val_categorical_accuracy: 0.1800\n",
      "Epoch 6/30\n",
      "11/11 [==============================] - ETA: 0s - loss: 1.4660 - categorical_accuracy: 0.3650\n",
      "Epoch 00006: saving model to model_init_2021-08-0117_45_04.390579/model-00006-1.46597-0.36501-1.65578-0.12000.h5\n",
      "11/11 [==============================] - 121s 11s/step - loss: 1.4660 - categorical_accuracy: 0.3650 - val_loss: 1.6558 - val_categorical_accuracy: 0.1200\n",
      "Epoch 7/30\n",
      "11/11 [==============================] - ETA: 0s - loss: 1.4616 - categorical_accuracy: 0.3891\n",
      "Epoch 00007: saving model to model_init_2021-08-0117_45_04.390579/model-00007-1.46156-0.38914-1.66071-0.17000.h5\n",
      "\n",
      "Epoch 00007: ReduceLROnPlateau reducing learning rate to 0.0001250000059371814.\n",
      "11/11 [==============================] - 126s 11s/step - loss: 1.4616 - categorical_accuracy: 0.3891 - val_loss: 1.6607 - val_categorical_accuracy: 0.1700\n",
      "Epoch 8/30\n",
      "11/11 [==============================] - ETA: 0s - loss: 1.4271 - categorical_accuracy: 0.4133\n",
      "Epoch 00008: saving model to model_init_2021-08-0117_45_04.390579/model-00008-1.42712-0.41327-1.67773-0.13000.h5\n",
      "11/11 [==============================] - 117s 11s/step - loss: 1.4271 - categorical_accuracy: 0.4133 - val_loss: 1.6777 - val_categorical_accuracy: 0.1300\n",
      "Epoch 9/30\n",
      "11/11 [==============================] - ETA: 0s - loss: 1.4254 - categorical_accuracy: 0.3801\n",
      "Epoch 00009: saving model to model_init_2021-08-0117_45_04.390579/model-00009-1.42544-0.38009-1.64115-0.17000.h5\n",
      "\n",
      "Epoch 00009: ReduceLROnPlateau reducing learning rate to 6.25000029685907e-05.\n",
      "11/11 [==============================] - 122s 11s/step - loss: 1.4254 - categorical_accuracy: 0.3801 - val_loss: 1.6411 - val_categorical_accuracy: 0.1700\n",
      "Epoch 10/30\n",
      "11/11 [==============================] - ETA: 0s - loss: 1.4146 - categorical_accuracy: 0.4284\n",
      "Epoch 00010: saving model to model_init_2021-08-0117_45_04.390579/model-00010-1.41463-0.42836-1.62955-0.15000.h5\n",
      "11/11 [==============================] - 120s 11s/step - loss: 1.4146 - categorical_accuracy: 0.4284 - val_loss: 1.6295 - val_categorical_accuracy: 0.1500\n",
      "Epoch 11/30\n",
      "11/11 [==============================] - ETA: 0s - loss: 1.4049 - categorical_accuracy: 0.4419\n",
      "Epoch 00011: saving model to model_init_2021-08-0117_45_04.390579/model-00011-1.40486-0.44193-1.68681-0.10000.h5\n",
      "\n",
      "Epoch 00011: ReduceLROnPlateau reducing learning rate to 3.125000148429535e-05.\n",
      "11/11 [==============================] - 126s 11s/step - loss: 1.4049 - categorical_accuracy: 0.4419 - val_loss: 1.6868 - val_categorical_accuracy: 0.1000\n",
      "Epoch 12/30\n",
      "11/11 [==============================] - ETA: 0s - loss: 1.4408 - categorical_accuracy: 0.3922\n",
      "Epoch 00012: saving model to model_init_2021-08-0117_45_04.390579/model-00012-1.44078-0.39216-1.64641-0.14000.h5\n",
      "11/11 [==============================] - 116s 11s/step - loss: 1.4408 - categorical_accuracy: 0.3922 - val_loss: 1.6464 - val_categorical_accuracy: 0.1400\n",
      "Epoch 13/30\n",
      "11/11 [==============================] - ETA: 0s - loss: 1.4383 - categorical_accuracy: 0.4148\n",
      "Epoch 00013: saving model to model_init_2021-08-0117_45_04.390579/model-00013-1.43834-0.41478-1.65521-0.13000.h5\n",
      "\n",
      "Epoch 00013: ReduceLROnPlateau reducing learning rate to 1.5625000742147677e-05.\n",
      "11/11 [==============================] - 126s 11s/step - loss: 1.4383 - categorical_accuracy: 0.4148 - val_loss: 1.6552 - val_categorical_accuracy: 0.1300\n",
      "Epoch 14/30\n",
      "11/11 [==============================] - ETA: 0s - loss: 1.4193 - categorical_accuracy: 0.4072\n",
      "Epoch 00014: saving model to model_init_2021-08-0117_45_04.390579/model-00014-1.41935-0.40724-1.65185-0.20000.h5\n",
      "11/11 [==============================] - 130s 12s/step - loss: 1.4193 - categorical_accuracy: 0.4072 - val_loss: 1.6518 - val_categorical_accuracy: 0.2000\n",
      "Epoch 15/30\n",
      "11/11 [==============================] - ETA: 0s - loss: 1.4098 - categorical_accuracy: 0.4208\n",
      "Epoch 00015: saving model to model_init_2021-08-0117_45_04.390579/model-00015-1.40978-0.42081-1.69890-0.08000.h5\n",
      "\n",
      "Epoch 00015: ReduceLROnPlateau reducing learning rate to 1e-05.\n",
      "11/11 [==============================] - 134s 12s/step - loss: 1.4098 - categorical_accuracy: 0.4208 - val_loss: 1.6989 - val_categorical_accuracy: 0.0800\n",
      "Epoch 16/30\n",
      "11/11 [==============================] - ETA: 0s - loss: 1.4143 - categorical_accuracy: 0.4193\n",
      "Epoch 00016: saving model to model_init_2021-08-0117_45_04.390579/model-00016-1.41431-0.41931-1.64970-0.18000.h5\n",
      "11/11 [==============================] - 122s 11s/step - loss: 1.4143 - categorical_accuracy: 0.4193 - val_loss: 1.6497 - val_categorical_accuracy: 0.1800\n",
      "Epoch 17/30\n",
      "11/11 [==============================] - ETA: 0s - loss: 1.4104 - categorical_accuracy: 0.4193\n",
      "Epoch 00017: saving model to model_init_2021-08-0117_45_04.390579/model-00017-1.41037-0.41931-1.65109-0.16000.h5\n",
      "11/11 [==============================] - 135s 12s/step - loss: 1.4104 - categorical_accuracy: 0.4193 - val_loss: 1.6511 - val_categorical_accuracy: 0.1600\n",
      "Epoch 18/30\n",
      "11/11 [==============================] - ETA: 0s - loss: 1.3811 - categorical_accuracy: 0.4555\n",
      "Epoch 00018: saving model to model_init_2021-08-0117_45_04.390579/model-00018-1.38111-0.45551-1.66379-0.15000.h5\n",
      "11/11 [==============================] - 133s 12s/step - loss: 1.3811 - categorical_accuracy: 0.4555 - val_loss: 1.6638 - val_categorical_accuracy: 0.1500\n",
      "Epoch 19/30\n",
      "11/11 [==============================] - ETA: 0s - loss: 1.4061 - categorical_accuracy: 0.4238\n",
      "Epoch 00019: saving model to model_init_2021-08-0117_45_04.390579/model-00019-1.40605-0.42383-1.65236-0.19000.h5\n",
      "11/11 [==============================] - 135s 12s/step - loss: 1.4061 - categorical_accuracy: 0.4238 - val_loss: 1.6524 - val_categorical_accuracy: 0.1900\n",
      "Epoch 20/30\n",
      "11/11 [==============================] - ETA: 0s - loss: 1.4070 - categorical_accuracy: 0.4163\n",
      "Epoch 00020: saving model to model_init_2021-08-0117_45_04.390579/model-00020-1.40705-0.41629-1.66421-0.17000.h5\n",
      "11/11 [==============================] - 124s 11s/step - loss: 1.4070 - categorical_accuracy: 0.4163 - val_loss: 1.6642 - val_categorical_accuracy: 0.1700\n",
      "Epoch 21/30\n",
      "11/11 [==============================] - ETA: 0s - loss: 1.4150 - categorical_accuracy: 0.4223\n",
      "Epoch 00021: saving model to model_init_2021-08-0117_45_04.390579/model-00021-1.41499-0.42232-1.67896-0.16000.h5\n",
      "11/11 [==============================] - 133s 12s/step - loss: 1.4150 - categorical_accuracy: 0.4223 - val_loss: 1.6790 - val_categorical_accuracy: 0.1600\n",
      "Epoch 22/30\n",
      "11/11 [==============================] - ETA: 0s - loss: 1.4036 - categorical_accuracy: 0.4419\n",
      "Epoch 00022: saving model to model_init_2021-08-0117_45_04.390579/model-00022-1.40359-0.44193-1.68357-0.13000.h5\n",
      "11/11 [==============================] - 132s 12s/step - loss: 1.4036 - categorical_accuracy: 0.4419 - val_loss: 1.6836 - val_categorical_accuracy: 0.1300\n",
      "Epoch 23/30\n",
      "11/11 [==============================] - ETA: 0s - loss: 1.3869 - categorical_accuracy: 0.4540\n",
      "Epoch 00023: saving model to model_init_2021-08-0117_45_04.390579/model-00023-1.38692-0.45400-1.67582-0.20000.h5\n",
      "11/11 [==============================] - 135s 12s/step - loss: 1.3869 - categorical_accuracy: 0.4540 - val_loss: 1.6758 - val_categorical_accuracy: 0.2000\n",
      "Epoch 24/30\n",
      "11/11 [==============================] - ETA: 0s - loss: 1.4110 - categorical_accuracy: 0.4148\n",
      "Epoch 00024: saving model to model_init_2021-08-0117_45_04.390579/model-00024-1.41104-0.41478-1.70700-0.13000.h5\n",
      "11/11 [==============================] - 118s 11s/step - loss: 1.4110 - categorical_accuracy: 0.4148 - val_loss: 1.7070 - val_categorical_accuracy: 0.1300\n",
      "Epoch 25/30\n",
      "11/11 [==============================] - ETA: 0s - loss: 1.4226 - categorical_accuracy: 0.4072\n",
      "Epoch 00025: saving model to model_init_2021-08-0117_45_04.390579/model-00025-1.42259-0.40724-1.67855-0.16000.h5\n",
      "11/11 [==============================] - 125s 11s/step - loss: 1.4226 - categorical_accuracy: 0.4072 - val_loss: 1.6786 - val_categorical_accuracy: 0.1600\n",
      "Epoch 26/30\n",
      "11/11 [==============================] - ETA: 0s - loss: 1.3976 - categorical_accuracy: 0.4253\n",
      "Epoch 00026: saving model to model_init_2021-08-0117_45_04.390579/model-00026-1.39763-0.42534-1.70347-0.18000.h5\n",
      "11/11 [==============================] - 120s 11s/step - loss: 1.3976 - categorical_accuracy: 0.4253 - val_loss: 1.7035 - val_categorical_accuracy: 0.1800\n",
      "Epoch 27/30\n",
      "11/11 [==============================] - ETA: 0s - loss: 1.4261 - categorical_accuracy: 0.3967\n",
      "Epoch 00027: saving model to model_init_2021-08-0117_45_04.390579/model-00027-1.42615-0.39668-1.66407-0.17000.h5\n",
      "11/11 [==============================] - 135s 12s/step - loss: 1.4261 - categorical_accuracy: 0.3967 - val_loss: 1.6641 - val_categorical_accuracy: 0.1700\n",
      "Epoch 28/30\n",
      "11/11 [==============================] - ETA: 0s - loss: 1.4178 - categorical_accuracy: 0.4223 \n",
      "Epoch 00028: saving model to model_init_2021-08-0117_45_04.390579/model-00028-1.41777-0.42232-1.68822-0.18000.h5\n",
      "11/11 [==============================] - 136s 12s/step - loss: 1.4178 - categorical_accuracy: 0.4223 - val_loss: 1.6882 - val_categorical_accuracy: 0.1800\n",
      "Epoch 29/30\n",
      "11/11 [==============================] - ETA: 0s - loss: 1.3827 - categorical_accuracy: 0.4540\n",
      "Epoch 00029: saving model to model_init_2021-08-0117_45_04.390579/model-00029-1.38270-0.45400-1.68460-0.17000.h5\n",
      "11/11 [==============================] - 123s 11s/step - loss: 1.3827 - categorical_accuracy: 0.4540 - val_loss: 1.6846 - val_categorical_accuracy: 0.1700\n",
      "Epoch 30/30\n",
      "11/11 [==============================] - ETA: 0s - loss: 1.4012 - categorical_accuracy: 0.4238 \n",
      "Epoch 00030: saving model to model_init_2021-08-0117_45_04.390579/model-00030-1.40118-0.42383-1.67388-0.18000.h5\n",
      "11/11 [==============================] - 156s 14s/step - loss: 1.4012 - categorical_accuracy: 0.4238 - val_loss: 1.6739 - val_categorical_accuracy: 0.1800\n"
     ]
    }
   ],
   "source": [
    "model_history = model.fit_generator(train_generator, steps_per_epoch=steps_per_epoch, epochs=num_epochs, verbose=1,\n",
    "                    callbacks=callbacks_list, validation_data=val_generator, \n",
    "                    validation_steps=validation_steps, class_weight=None, workers=1, initial_epoch=0)"
   ]
  },
  {
   "cell_type": "code",
   "execution_count": 82,
   "metadata": {
    "id": "4KMyQ5TK0Lwk"
   },
   "outputs": [
    {
     "data": {
      "image/png": "[encoded data removed]",
      "text/plain": [
       "<Figure size 1080x288 with 2 Axes>"
      ]
     },
     "metadata": {
      "needs_background": "light"
     },
     "output_type": "display_data"
    }
   ],
   "source": [
    "#Plot the accuracy of model. \n",
    "plot_accuracy(model_history)"
   ]
  },
  {
   "cell_type": "markdown",
   "metadata": {},
   "source": [
    "## Model-7: CNN + RNN with LSTM\n",
    "### Experiment 7: CNN + RNN Model(LSTM) with increased image size.\n",
    "### Decision:\n",
    "-\tWill use 15 image frames from each video. \n",
    "-\tVideo has total 30 image frames. We will use alternate image from 30 images. \n",
    "-\tWill increase image size to 80x80\n",
    "-\tbatch size will be 64. \n",
    "-\tWe will use LSTM in this model like experiment 6. "
   ]
  },
  {
   "cell_type": "code",
   "execution_count": 16,
   "metadata": {},
   "outputs": [
    {
     "name": "stdout",
     "output_type": "stream",
     "text": [
      "# Time = 2021-08-01 19:33:51.827980\n",
      "# training sequences = 663\n",
      "# validation sequences = 100\n",
      "# epochs = 30\n",
      "# Image Index  =  [0, 2, 4, 6, 8, 10, 12, 14, 16, 18, 20, 22, 24, 26, 28]\n",
      "# Number of Video Frames =  15\n",
      "# Image Size =  (80, 80)\n",
      "# batch size = 64\n",
      "# Augmentation = False\n"
     ]
    }
   ],
   "source": [
    "#Set the global parameters\n",
    "#!rm -rf model*\n",
    "curr_dt_time = datetime.datetime.now()\n",
    "num_train_sequences = len(train_doc)\n",
    "num_val_sequences = len(val_doc)\n",
    "num_epochs = 30 # only two in crease for final run\n",
    "batch_size = 64\n",
    "img_idx = [0,2,4,6,8,10,12,14,16,18,20,22,24,26,28] # reducing thsi also to speed it up\n",
    "x = len(img_idx) # Number of video frames needs to be used\n",
    "y = 80 # size of the input image frames of the videos(heigh)\n",
    "z = 80 # size of the input image frames of the videos(width)\n",
    "augment = False #Enable True if want to do image augmentation\n",
    "print_input_summary()"
   ]
  },
  {
   "cell_type": "code",
   "execution_count": 17,
   "metadata": {},
   "outputs": [],
   "source": [
    "# Define some more local variables\n",
    "lstm_cells=64\n",
    "dense_neurons=64\n",
    "dropout=0.25\n",
    "num_classes=5\n",
    "\n",
    "model = Sequential()\n",
    "\n",
    "model.add(\n",
    "    TimeDistributed(\n",
    "        Conv2D(16, (3, 3) , padding='same', activation='relu'), \n",
    "        input_shape=(x,y,z,3)\n",
    "        ))\n",
    "model.add(TimeDistributed(BatchNormalization()))\n",
    "model.add(TimeDistributed(MaxPooling2D((2, 2))))\n",
    "\n",
    "model.add(TimeDistributed(Conv2D(32, (3, 3) , padding='same', activation='relu')))\n",
    "model.add(TimeDistributed(BatchNormalization()))\n",
    "model.add(TimeDistributed(MaxPooling2D((2, 2))))\n",
    "\n",
    "model.add(TimeDistributed(Conv2D(64, (3, 3) , padding='same', activation='relu')))\n",
    "model.add(TimeDistributed(BatchNormalization()))\n",
    "model.add(TimeDistributed(MaxPooling2D((2, 2))))\n",
    "\n",
    "model.add(TimeDistributed(Conv2D(128, (3, 3) , padding='same', activation='relu')))\n",
    "model.add(TimeDistributed(BatchNormalization()))\n",
    "model.add(TimeDistributed(MaxPooling2D((2, 2))))\n",
    "\n",
    "model.add(TimeDistributed(Flatten()))\n",
    "\n",
    "model.add(LSTM(lstm_cells))\n",
    "model.add(Dropout(dropout))\n",
    "\n",
    "model.add(Dense(dense_neurons,activation='relu'))\n",
    "model.add(Dropout(dropout))\n",
    "\n",
    "model.add(Dense(num_classes, activation='softmax'))"
   ]
  },
  {
   "cell_type": "code",
   "execution_count": 18,
   "metadata": {},
   "outputs": [
    {
     "name": "stdout",
     "output_type": "stream",
     "text": [
      "Model: \"sequential_1\"\n",
      "_________________________________________________________________\n",
      "Layer (type)                 Output Shape              Param #   \n",
      "=================================================================\n",
      "time_distributed (TimeDistri (None, 15, 80, 80, 16)    448       \n",
      "_________________________________________________________________\n",
      "time_distributed_1 (TimeDist (None, 15, 80, 80, 16)    64        \n",
      "_________________________________________________________________\n",
      "time_distributed_2 (TimeDist (None, 15, 40, 40, 16)    0         \n",
      "_________________________________________________________________\n",
      "time_distributed_3 (TimeDist (None, 15, 40, 40, 32)    4640      \n",
      "_________________________________________________________________\n",
      "time_distributed_4 (TimeDist (None, 15, 40, 40, 32)    128       \n",
      "_________________________________________________________________\n",
      "time_distributed_5 (TimeDist (None, 15, 20, 20, 32)    0         \n",
      "_________________________________________________________________\n",
      "time_distributed_6 (TimeDist (None, 15, 20, 20, 64)    18496     \n",
      "_________________________________________________________________\n",
      "time_distributed_7 (TimeDist (None, 15, 20, 20, 64)    256       \n",
      "_________________________________________________________________\n",
      "time_distributed_8 (TimeDist (None, 15, 10, 10, 64)    0         \n",
      "_________________________________________________________________\n",
      "time_distributed_9 (TimeDist (None, 15, 10, 10, 128)   73856     \n",
      "_________________________________________________________________\n",
      "time_distributed_10 (TimeDis (None, 15, 10, 10, 128)   512       \n",
      "_________________________________________________________________\n",
      "time_distributed_11 (TimeDis (None, 15, 5, 5, 128)     0         \n",
      "_________________________________________________________________\n",
      "time_distributed_12 (TimeDis (None, 15, 3200)          0         \n",
      "_________________________________________________________________\n",
      "lstm (LSTM)                  (None, 64)                835840    \n",
      "_________________________________________________________________\n",
      "dropout_2 (Dropout)          (None, 64)                0         \n",
      "_________________________________________________________________\n",
      "dense_2 (Dense)              (None, 64)                4160      \n",
      "_________________________________________________________________\n",
      "dropout_3 (Dropout)          (None, 64)                0         \n",
      "_________________________________________________________________\n",
      "dense_3 (Dense)              (None, 5)                 325       \n",
      "=================================================================\n",
      "Total params: 938,725\n",
      "Trainable params: 938,245\n",
      "Non-trainable params: 480\n",
      "_________________________________________________________________\n",
      "None\n"
     ]
    }
   ],
   "source": [
    "optimiser = optimizers.SGD(lr=0.001, decay=1e-6, momentum=0.7, nesterov=True)\n",
    "model.compile(optimizer=optimiser, loss='categorical_crossentropy', metrics=['categorical_accuracy'])\n",
    "print (model.summary())"
   ]
  },
  {
   "cell_type": "code",
   "execution_count": 19,
   "metadata": {},
   "outputs": [],
   "source": [
    "train_generator = generator(train_path, train_doc, batch_size)\n",
    "val_generator = generator(val_path, val_doc, batch_size)"
   ]
  },
  {
   "cell_type": "code",
   "execution_count": 20,
   "metadata": {},
   "outputs": [],
   "source": [
    "model_name = 'model_init' + '_' + str(curr_dt_time).replace(' ','').replace(':','_') + '/'\n",
    "    \n",
    "if not os.path.exists(model_name):\n",
    "    os.mkdir(model_name)\n",
    "        \n",
    "filepath = model_name + 'model-{epoch:05d}-{loss:.5f}-{categorical_accuracy:.5f}-{val_loss:.5f}-{val_categorical_accuracy:.5f}.h5'\n",
    "\n",
    "checkpoint = ModelCheckpoint(filepath, monitor='val_loss', verbose=1, save_best_only=False, save_weights_only=False, mode='auto', save_freq='epoch')\n",
    "\n",
    "LR = ReduceLROnPlateau(monitor='val_loss', factor=0.5, patience=2, verbose=1, mode='min', min_delta=0.0001, cooldown=0, min_lr=0.00001)\n",
    "callbacks_list = [checkpoint, LR]"
   ]
  },
  {
   "cell_type": "code",
   "execution_count": 21,
   "metadata": {},
   "outputs": [],
   "source": [
    "if (num_train_sequences%batch_size) == 0:\n",
    "    steps_per_epoch = int(num_train_sequences/batch_size)\n",
    "else:\n",
    "    steps_per_epoch = (num_train_sequences//batch_size) + 1\n",
    "\n",
    "if (num_val_sequences%batch_size) == 0:\n",
    "    validation_steps = int(num_val_sequences/batch_size)\n",
    "else:\n",
    "    validation_steps = (num_val_sequences//batch_size) + 1"
   ]
  },
  {
   "cell_type": "code",
   "execution_count": 22,
   "metadata": {},
   "outputs": [
    {
     "name": "stdout",
     "output_type": "stream",
     "text": [
      "WARNING:tensorflow:From <ipython-input-22-09d6bf762e4d>:3: Model.fit_generator (from tensorflow.python.keras.engine.training) is deprecated and will be removed in a future version.\n",
      "Instructions for updating:\n",
      "Please use Model.fit, which supports generators.\n",
      "# Source path =  datasets/Project_data/train\n",
      "# batch size = 64\n",
      "# Augmentation = False\n",
      "Epoch 1/30\n",
      "11/11 [==============================] - ETA: 0s - loss: 1.6803 - categorical_accuracy: 0.2172# Source path =  datasets/Project_data/val\n",
      "# batch size = 64\n",
      "# Augmentation = False\n",
      "\n",
      "Epoch 00001: saving model to model_init_2021-08-0119_33_51.827980/model-00001-1.68032-0.21719-1.60537-0.25000.h5\n",
      "11/11 [==============================] - 134s 12s/step - loss: 1.6803 - categorical_accuracy: 0.2172 - val_loss: 1.6054 - val_categorical_accuracy: 0.2500\n",
      "Epoch 2/30\n",
      "11/11 [==============================] - ETA: 0s - loss: 1.5962 - categorical_accuracy: 0.2790\n",
      "Epoch 00002: saving model to model_init_2021-08-0119_33_51.827980/model-00002-1.59619-0.27903-1.61109-0.22000.h5\n",
      "11/11 [==============================] - 128s 12s/step - loss: 1.5962 - categorical_accuracy: 0.2790 - val_loss: 1.6111 - val_categorical_accuracy: 0.2200\n",
      "Epoch 3/30\n",
      "11/11 [==============================] - ETA: 0s - loss: 1.5086 - categorical_accuracy: 0.3394\n",
      "Epoch 00003: saving model to model_init_2021-08-0119_33_51.827980/model-00003-1.50864-0.33937-1.61072-0.23000.h5\n",
      "\n",
      "Epoch 00003: ReduceLROnPlateau reducing learning rate to 0.0005000000237487257.\n",
      "11/11 [==============================] - 136s 12s/step - loss: 1.5086 - categorical_accuracy: 0.3394 - val_loss: 1.6107 - val_categorical_accuracy: 0.2300\n",
      "Epoch 4/30\n",
      "11/11 [==============================] - ETA: 0s - loss: 1.4643 - categorical_accuracy: 0.3861\n",
      "Epoch 00004: saving model to model_init_2021-08-0119_33_51.827980/model-00004-1.46434-0.38612-1.62248-0.19000.h5\n",
      "11/11 [==============================] - 132s 12s/step - loss: 1.4643 - categorical_accuracy: 0.3861 - val_loss: 1.6225 - val_categorical_accuracy: 0.1900\n",
      "Epoch 5/30\n",
      "11/11 [==============================] - ETA: 0s - loss: 1.4095 - categorical_accuracy: 0.4057\n",
      "Epoch 00005: saving model to model_init_2021-08-0119_33_51.827980/model-00005-1.40953-0.40573-1.59828-0.17000.h5\n",
      "11/11 [==============================] - 140s 13s/step - loss: 1.4095 - categorical_accuracy: 0.4057 - val_loss: 1.5983 - val_categorical_accuracy: 0.1700\n",
      "Epoch 6/30\n",
      "11/11 [==============================] - ETA: 0s - loss: 1.3861 - categorical_accuracy: 0.4359\n",
      "Epoch 00006: saving model to model_init_2021-08-0119_33_51.827980/model-00006-1.38612-0.43590-1.62236-0.17000.h5\n",
      "11/11 [==============================] - 139s 13s/step - loss: 1.3861 - categorical_accuracy: 0.4359 - val_loss: 1.6224 - val_categorical_accuracy: 0.1700\n",
      "Epoch 7/30\n",
      "11/11 [==============================] - ETA: 0s - loss: 1.3388 - categorical_accuracy: 0.4947\n",
      "Epoch 00007: saving model to model_init_2021-08-0119_33_51.827980/model-00007-1.33881-0.49472-1.65229-0.21000.h5\n",
      "\n",
      "Epoch 00007: ReduceLROnPlateau reducing learning rate to 0.0002500000118743628.\n",
      "11/11 [==============================] - 124s 11s/step - loss: 1.3388 - categorical_accuracy: 0.4947 - val_loss: 1.6523 - val_categorical_accuracy: 0.2100\n",
      "Epoch 8/30\n",
      "11/11 [==============================] - ETA: 0s - loss: 1.3226 - categorical_accuracy: 0.4932 \n",
      "Epoch 00008: saving model to model_init_2021-08-0119_33_51.827980/model-00008-1.32259-0.49321-1.62869-0.19000.h5\n",
      "11/11 [==============================] - 145s 13s/step - loss: 1.3226 - categorical_accuracy: 0.4932 - val_loss: 1.6287 - val_categorical_accuracy: 0.1900\n",
      "Epoch 9/30\n",
      "11/11 [==============================] - ETA: 0s - loss: 1.3230 - categorical_accuracy: 0.5008 \n",
      "Epoch 00009: saving model to model_init_2021-08-0119_33_51.827980/model-00009-1.32295-0.50075-1.63350-0.17000.h5\n",
      "\n",
      "Epoch 00009: ReduceLROnPlateau reducing learning rate to 0.0001250000059371814.\n",
      "11/11 [==============================] - 155s 14s/step - loss: 1.3230 - categorical_accuracy: 0.5008 - val_loss: 1.6335 - val_categorical_accuracy: 0.1700\n",
      "Epoch 10/30\n",
      "11/11 [==============================] - ETA: 0s - loss: 1.2961 - categorical_accuracy: 0.4902 \n",
      "Epoch 00010: saving model to model_init_2021-08-0119_33_51.827980/model-00010-1.29611-0.49020-1.59621-0.27000.h5\n",
      "11/11 [==============================] - 162s 15s/step - loss: 1.2961 - categorical_accuracy: 0.4902 - val_loss: 1.5962 - val_categorical_accuracy: 0.2700\n",
      "Epoch 11/30\n",
      "11/11 [==============================] - ETA: 0s - loss: 1.3020 - categorical_accuracy: 0.5189 \n",
      "Epoch 00011: saving model to model_init_2021-08-0119_33_51.827980/model-00011-1.30203-0.51885-1.61674-0.20000.h5\n",
      "11/11 [==============================] - 162s 15s/step - loss: 1.3020 - categorical_accuracy: 0.5189 - val_loss: 1.6167 - val_categorical_accuracy: 0.2000\n",
      "Epoch 12/30\n",
      "11/11 [==============================] - ETA: 0s - loss: 1.3016 - categorical_accuracy: 0.4962\n",
      "Epoch 00012: saving model to model_init_2021-08-0119_33_51.827980/model-00012-1.30162-0.49623-1.60391-0.22000.h5\n",
      "\n",
      "Epoch 00012: ReduceLROnPlateau reducing learning rate to 6.25000029685907e-05.\n",
      "11/11 [==============================] - 113s 10s/step - loss: 1.3016 - categorical_accuracy: 0.4962 - val_loss: 1.6039 - val_categorical_accuracy: 0.2200\n",
      "Epoch 13/30\n",
      "11/11 [==============================] - ETA: 0s - loss: 1.2856 - categorical_accuracy: 0.5204\n",
      "Epoch 00013: saving model to model_init_2021-08-0119_33_51.827980/model-00013-1.28559-0.52036-1.56774-0.27000.h5\n",
      "11/11 [==============================] - 126s 11s/step - loss: 1.2856 - categorical_accuracy: 0.5204 - val_loss: 1.5677 - val_categorical_accuracy: 0.2700\n",
      "Epoch 14/30\n",
      "11/11 [==============================] - ETA: 0s - loss: 1.2811 - categorical_accuracy: 0.5264\n",
      "Epoch 00014: saving model to model_init_2021-08-0119_33_51.827980/model-00014-1.28112-0.52640-1.61789-0.25000.h5\n",
      "11/11 [==============================] - 122s 11s/step - loss: 1.2811 - categorical_accuracy: 0.5264 - val_loss: 1.6179 - val_categorical_accuracy: 0.2500\n",
      "Epoch 15/30\n",
      "11/11 [==============================] - ETA: 0s - loss: 1.2563 - categorical_accuracy: 0.5505\n",
      "Epoch 00015: saving model to model_init_2021-08-0119_33_51.827980/model-00015-1.25630-0.55053-1.62705-0.23000.h5\n",
      "\n",
      "Epoch 00015: ReduceLROnPlateau reducing learning rate to 3.125000148429535e-05.\n",
      "11/11 [==============================] - 116s 11s/step - loss: 1.2563 - categorical_accuracy: 0.5505 - val_loss: 1.6271 - val_categorical_accuracy: 0.2300\n",
      "Epoch 16/30\n",
      "11/11 [==============================] - ETA: 0s - loss: 1.2874 - categorical_accuracy: 0.5324\n",
      "Epoch 00016: saving model to model_init_2021-08-0119_33_51.827980/model-00016-1.28735-0.53243-1.59664-0.25000.h5\n",
      "11/11 [==============================] - 108s 10s/step - loss: 1.2874 - categorical_accuracy: 0.5324 - val_loss: 1.5966 - val_categorical_accuracy: 0.2500\n",
      "Epoch 17/30\n",
      "11/11 [==============================] - ETA: 0s - loss: 1.2543 - categorical_accuracy: 0.5535\n",
      "Epoch 00017: saving model to model_init_2021-08-0119_33_51.827980/model-00017-1.25426-0.55354-1.59672-0.28000.h5\n",
      "\n",
      "Epoch 00017: ReduceLROnPlateau reducing learning rate to 1.5625000742147677e-05.\n",
      "11/11 [==============================] - 113s 10s/step - loss: 1.2543 - categorical_accuracy: 0.5535 - val_loss: 1.5967 - val_categorical_accuracy: 0.2800\n",
      "Epoch 18/30\n",
      "11/11 [==============================] - ETA: 0s - loss: 1.2619 - categorical_accuracy: 0.5460\n",
      "Epoch 00018: saving model to model_init_2021-08-0119_33_51.827980/model-00018-1.26189-0.54600-1.60585-0.28000.h5\n",
      "11/11 [==============================] - 109s 10s/step - loss: 1.2619 - categorical_accuracy: 0.5460 - val_loss: 1.6059 - val_categorical_accuracy: 0.2800\n",
      "Epoch 19/30\n",
      "11/11 [==============================] - ETA: 0s - loss: 1.2695 - categorical_accuracy: 0.5596\n",
      "Epoch 00019: saving model to model_init_2021-08-0119_33_51.827980/model-00019-1.26952-0.55958-1.61739-0.25000.h5\n",
      "\n",
      "Epoch 00019: ReduceLROnPlateau reducing learning rate to 1e-05.\n",
      "11/11 [==============================] - 114s 10s/step - loss: 1.2695 - categorical_accuracy: 0.5596 - val_loss: 1.6174 - val_categorical_accuracy: 0.2500\n",
      "Epoch 20/30\n",
      "11/11 [==============================] - ETA: 0s - loss: 1.2714 - categorical_accuracy: 0.5279\n",
      "Epoch 00020: saving model to model_init_2021-08-0119_33_51.827980/model-00020-1.27138-0.52790-1.57168-0.27000.h5\n",
      "11/11 [==============================] - 112s 10s/step - loss: 1.2714 - categorical_accuracy: 0.5279 - val_loss: 1.5717 - val_categorical_accuracy: 0.2700\n",
      "Epoch 21/30\n",
      "11/11 [==============================] - ETA: 0s - loss: 1.2654 - categorical_accuracy: 0.5460\n",
      "Epoch 00021: saving model to model_init_2021-08-0119_33_51.827980/model-00021-1.26543-0.54600-1.63935-0.18000.h5\n",
      "11/11 [==============================] - 115s 10s/step - loss: 1.2654 - categorical_accuracy: 0.5460 - val_loss: 1.6393 - val_categorical_accuracy: 0.1800\n",
      "Epoch 22/30\n",
      "11/11 [==============================] - ETA: 0s - loss: 1.2613 - categorical_accuracy: 0.5581\n",
      "Epoch 00022: saving model to model_init_2021-08-0119_33_51.827980/model-00022-1.26133-0.55807-1.61424-0.21000.h5\n",
      "11/11 [==============================] - 110s 10s/step - loss: 1.2613 - categorical_accuracy: 0.5581 - val_loss: 1.6142 - val_categorical_accuracy: 0.2100\n",
      "Epoch 23/30\n",
      "11/11 [==============================] - ETA: 0s - loss: 1.2543 - categorical_accuracy: 0.5581\n",
      "Epoch 00023: saving model to model_init_2021-08-0119_33_51.827980/model-00023-1.25433-0.55807-1.57054-0.25000.h5\n",
      "11/11 [==============================] - 117s 11s/step - loss: 1.2543 - categorical_accuracy: 0.5581 - val_loss: 1.5705 - val_categorical_accuracy: 0.2500\n",
      "Epoch 24/30\n",
      "11/11 [==============================] - ETA: 0s - loss: 1.2687 - categorical_accuracy: 0.5385\n",
      "Epoch 00024: saving model to model_init_2021-08-0119_33_51.827980/model-00024-1.26867-0.53846-1.56897-0.27000.h5\n",
      "11/11 [==============================] - 107s 10s/step - loss: 1.2687 - categorical_accuracy: 0.5385 - val_loss: 1.5690 - val_categorical_accuracy: 0.2700\n",
      "Epoch 25/30\n",
      "11/11 [==============================] - ETA: 0s - loss: 1.2651 - categorical_accuracy: 0.5475\n",
      "Epoch 00025: saving model to model_init_2021-08-0119_33_51.827980/model-00025-1.26515-0.54751-1.57994-0.29000.h5\n",
      "11/11 [==============================] - 114s 10s/step - loss: 1.2651 - categorical_accuracy: 0.5475 - val_loss: 1.5799 - val_categorical_accuracy: 0.2900\n",
      "Epoch 26/30\n",
      "11/11 [==============================] - ETA: 0s - loss: 1.2669 - categorical_accuracy: 0.5460\n",
      "Epoch 00026: saving model to model_init_2021-08-0119_33_51.827980/model-00026-1.26686-0.54600-1.60218-0.24000.h5\n",
      "11/11 [==============================] - 106s 10s/step - loss: 1.2669 - categorical_accuracy: 0.5460 - val_loss: 1.6022 - val_categorical_accuracy: 0.2400\n",
      "Epoch 27/30\n",
      "11/11 [==============================] - ETA: 0s - loss: 1.2448 - categorical_accuracy: 0.5505\n",
      "Epoch 00027: saving model to model_init_2021-08-0119_33_51.827980/model-00027-1.24477-0.55053-1.52604-0.33000.h5\n",
      "11/11 [==============================] - 113s 10s/step - loss: 1.2448 - categorical_accuracy: 0.5505 - val_loss: 1.5260 - val_categorical_accuracy: 0.3300\n",
      "Epoch 28/30\n",
      "11/11 [==============================] - ETA: 0s - loss: 1.2416 - categorical_accuracy: 0.5732\n",
      "Epoch 00028: saving model to model_init_2021-08-0119_33_51.827980/model-00028-1.24158-0.57315-1.54906-0.32000.h5\n",
      "11/11 [==============================] - 107s 10s/step - loss: 1.2416 - categorical_accuracy: 0.5732 - val_loss: 1.5491 - val_categorical_accuracy: 0.3200\n",
      "Epoch 29/30\n",
      "11/11 [==============================] - ETA: 0s - loss: 1.2632 - categorical_accuracy: 0.5445\n",
      "Epoch 00029: saving model to model_init_2021-08-0119_33_51.827980/model-00029-1.26323-0.54449-1.54842-0.38000.h5\n",
      "11/11 [==============================] - 109s 10s/step - loss: 1.2632 - categorical_accuracy: 0.5445 - val_loss: 1.5484 - val_categorical_accuracy: 0.3800\n",
      "Epoch 30/30\n",
      "11/11 [==============================] - ETA: 0s - loss: 1.2456 - categorical_accuracy: 0.5581\n",
      "Epoch 00030: saving model to model_init_2021-08-0119_33_51.827980/model-00030-1.24565-0.55807-1.55772-0.34000.h5\n",
      "11/11 [==============================] - 107s 10s/step - loss: 1.2456 - categorical_accuracy: 0.5581 - val_loss: 1.5577 - val_categorical_accuracy: 0.3400\n"
     ]
    }
   ],
   "source": [
    "model_history = model.fit_generator(train_generator, steps_per_epoch=steps_per_epoch, epochs=num_epochs, verbose=1,\n",
    "                    callbacks=callbacks_list, validation_data=val_generator, \n",
    "                    validation_steps=validation_steps, class_weight=None, workers=1, initial_epoch=0)"
   ]
  },
  {
   "cell_type": "code",
   "execution_count": 24,
   "metadata": {},
   "outputs": [
    {
     "data": {
      "image/png": "[encoded data removed]",
      "text/plain": [
       "<Figure size 1080x288 with 2 Axes>"
      ]
     },
     "metadata": {
      "needs_background": "light"
     },
     "output_type": "display_data"
    }
   ],
   "source": [
    "#Plot the accuracy of model. \n",
    "plot_accuracy(model_history)"
   ]
  },
  {
   "cell_type": "markdown",
   "metadata": {
    "id": "mCWqtiTR0JTW"
   },
   "source": [
    "## Model-8:  CNN + RNN Model with GRU\n",
    "### Experiment 8:  CNN + RNN Model with GRU\n",
    "### Decision:\n",
    "-\tWill use 15 image frames from each video. \n",
    "-\tVideo has total 30 image frames. We will use alternate image from 30 images. \n",
    "-\tWill increase image size to 120x120\n",
    "-\tbatch size will be 64. \n",
    "-\tWe will use GRU in this model.\n",
    "-\tFinally, you briefly saw an LSTM variant - the gated recurrent unit (GRU). A GRU network consists of GRU layers which consist of GRU cells which are like LSTM cells. However, the GRU has fewer parameters than an LSTM network. A GRU has three weight matrices as compared to the four in an LSTM layer. \n",
    "-\tThis means that a GRU has 3x parameters than a vanilla RNN layer. "
   ]
  },
  {
   "cell_type": "code",
   "execution_count": 25,
   "metadata": {},
   "outputs": [
    {
     "name": "stdout",
     "output_type": "stream",
     "text": [
      "# Time = 2021-08-01 20:38:21.988480\n",
      "# training sequences = 663\n",
      "# validation sequences = 100\n",
      "# epochs = 30\n",
      "# Image Index  =  [0, 2, 4, 6, 8, 10, 12, 14, 16, 18, 20, 22, 24, 26, 28]\n",
      "# Number of Video Frames =  15\n",
      "# Image Size =  (120, 120)\n",
      "# batch size = 64\n",
      "# Augmentation = False\n"
     ]
    }
   ],
   "source": [
    "#Set the global parameters\n",
    "#!rm -rf model*\n",
    "curr_dt_time = datetime.datetime.now()\n",
    "num_train_sequences = len(train_doc)\n",
    "num_val_sequences = len(val_doc)\n",
    "num_epochs = 30 # only two in crease for final run\n",
    "batch_size = 64\n",
    "img_idx = [0,2,4,6,8,10,12,14,16,18,20,22,24,26,28] # reducing thsi also to speed it up\n",
    "x = len(img_idx) # Number of video frames needs to be used\n",
    "y = 120 # size of the input image frames of the videos(heigh)\n",
    "z = 120 # size of the input image frames of the videos(width)\n",
    "augment = False #Enable True if want to do image augmentation\n",
    "print_input_summary()"
   ]
  },
  {
   "cell_type": "code",
   "execution_count": 26,
   "metadata": {},
   "outputs": [],
   "source": [
    "# Define some more local variables\n",
    "gru_cells=64\n",
    "dense_neurons=64\n",
    "dropout=0.25\n",
    "num_classes=5\n",
    "\n",
    "model = Sequential()\n",
    "\n",
    "model.add(\n",
    "    TimeDistributed(\n",
    "        Conv2D(16, (3, 3) , padding='same', activation='relu'), \n",
    "        input_shape=(x,y,z,3)\n",
    "        ))\n",
    "model.add(TimeDistributed(BatchNormalization()))\n",
    "model.add(TimeDistributed(MaxPooling2D((2, 2))))\n",
    "\n",
    "model.add(TimeDistributed(Conv2D(32, (3, 3) , padding='same', activation='relu')))\n",
    "model.add(TimeDistributed(BatchNormalization()))\n",
    "model.add(TimeDistributed(MaxPooling2D((2, 2))))\n",
    "\n",
    "model.add(TimeDistributed(Conv2D(64, (3, 3) , padding='same', activation='relu')))\n",
    "model.add(TimeDistributed(BatchNormalization()))\n",
    "model.add(TimeDistributed(MaxPooling2D((2, 2))))\n",
    "\n",
    "model.add(TimeDistributed(Conv2D(128, (3, 3) , padding='same', activation='relu')))\n",
    "model.add(TimeDistributed(BatchNormalization()))\n",
    "model.add(TimeDistributed(MaxPooling2D((2, 2))))\n",
    "\n",
    "model.add(TimeDistributed(Flatten()))\n",
    "\n",
    "model.add(GRU(gru_cells))\n",
    "model.add(Dropout(dropout))\n",
    "\n",
    "model.add(Dense(dense_neurons,activation='relu'))\n",
    "model.add(Dropout(dropout))\n",
    "\n",
    "model.add(Dense(num_classes, activation='softmax'))"
   ]
  },
  {
   "cell_type": "code",
   "execution_count": 27,
   "metadata": {},
   "outputs": [
    {
     "name": "stdout",
     "output_type": "stream",
     "text": [
      "Model: \"sequential_2\"\n",
      "_________________________________________________________________\n",
      "Layer (type)                 Output Shape              Param #   \n",
      "=================================================================\n",
      "time_distributed_13 (TimeDis (None, 15, 120, 120, 16)  448       \n",
      "_________________________________________________________________\n",
      "time_distributed_14 (TimeDis (None, 15, 120, 120, 16)  64        \n",
      "_________________________________________________________________\n",
      "time_distributed_15 (TimeDis (None, 15, 60, 60, 16)    0         \n",
      "_________________________________________________________________\n",
      "time_distributed_16 (TimeDis (None, 15, 60, 60, 32)    4640      \n",
      "_________________________________________________________________\n",
      "time_distributed_17 (TimeDis (None, 15, 60, 60, 32)    128       \n",
      "_________________________________________________________________\n",
      "time_distributed_18 (TimeDis (None, 15, 30, 30, 32)    0         \n",
      "_________________________________________________________________\n",
      "time_distributed_19 (TimeDis (None, 15, 30, 30, 64)    18496     \n",
      "_________________________________________________________________\n",
      "time_distributed_20 (TimeDis (None, 15, 30, 30, 64)    256       \n",
      "_________________________________________________________________\n",
      "time_distributed_21 (TimeDis (None, 15, 15, 15, 64)    0         \n",
      "_________________________________________________________________\n",
      "time_distributed_22 (TimeDis (None, 15, 15, 15, 128)   73856     \n",
      "_________________________________________________________________\n",
      "time_distributed_23 (TimeDis (None, 15, 15, 15, 128)   512       \n",
      "_________________________________________________________________\n",
      "time_distributed_24 (TimeDis (None, 15, 7, 7, 128)     0         \n",
      "_________________________________________________________________\n",
      "time_distributed_25 (TimeDis (None, 15, 6272)          0         \n",
      "_________________________________________________________________\n",
      "gru (GRU)                    (None, 64)                1216896   \n",
      "_________________________________________________________________\n",
      "dropout_4 (Dropout)          (None, 64)                0         \n",
      "_________________________________________________________________\n",
      "dense_4 (Dense)              (None, 64)                4160      \n",
      "_________________________________________________________________\n",
      "dropout_5 (Dropout)          (None, 64)                0         \n",
      "_________________________________________________________________\n",
      "dense_5 (Dense)              (None, 5)                 325       \n",
      "=================================================================\n",
      "Total params: 1,319,781\n",
      "Trainable params: 1,319,301\n",
      "Non-trainable params: 480\n",
      "_________________________________________________________________\n",
      "None\n"
     ]
    }
   ],
   "source": [
    "optimiser = optimizers.Adam(lr=0.001)\n",
    "model.compile(optimizer=optimiser, loss='categorical_crossentropy', metrics=['categorical_accuracy'])\n",
    "print (model.summary())"
   ]
  },
  {
   "cell_type": "code",
   "execution_count": 28,
   "metadata": {},
   "outputs": [],
   "source": [
    "train_generator = generator(train_path, train_doc, batch_size)\n",
    "val_generator = generator(val_path, val_doc, batch_size)"
   ]
  },
  {
   "cell_type": "code",
   "execution_count": 29,
   "metadata": {},
   "outputs": [],
   "source": [
    "model_name = 'model_init' + '_' + str(curr_dt_time).replace(' ','').replace(':','_') + '/'\n",
    "    \n",
    "if not os.path.exists(model_name):\n",
    "    os.mkdir(model_name)\n",
    "        \n",
    "filepath = model_name + 'model-{epoch:05d}-{loss:.5f}-{categorical_accuracy:.5f}-{val_loss:.5f}-{val_categorical_accuracy:.5f}.h5'\n",
    "\n",
    "checkpoint = ModelCheckpoint(filepath, monitor='val_loss', verbose=1, save_best_only=False, save_weights_only=False, mode='auto', save_freq='epoch')\n",
    "\n",
    "LR = ReduceLROnPlateau(monitor='val_loss', factor=0.5, patience=2, verbose=1, mode='min', min_delta=0.0001, cooldown=0, min_lr=0.00001)\n",
    "callbacks_list = [checkpoint, LR]"
   ]
  },
  {
   "cell_type": "code",
   "execution_count": 30,
   "metadata": {},
   "outputs": [],
   "source": [
    "if (num_train_sequences%batch_size) == 0:\n",
    "    steps_per_epoch = int(num_train_sequences/batch_size)\n",
    "else:\n",
    "    steps_per_epoch = (num_train_sequences//batch_size) + 1\n",
    "\n",
    "if (num_val_sequences%batch_size) == 0:\n",
    "    validation_steps = int(num_val_sequences/batch_size)\n",
    "else:\n",
    "    validation_steps = (num_val_sequences//batch_size) + 1"
   ]
  },
  {
   "cell_type": "code",
   "execution_count": 31,
   "metadata": {},
   "outputs": [
    {
     "name": "stdout",
     "output_type": "stream",
     "text": [
      "# Source path =  datasets/Project_data/train\n",
      "# batch size = 64\n",
      "# Augmentation = False\n",
      "Epoch 1/30\n",
      "11/11 [==============================] - ETA: 0s - loss: 1.5355 - categorical_accuracy: 0.3680# Source path =  datasets/Project_data/val\n",
      "# batch size = 64\n",
      "# Augmentation = False\n",
      "\n",
      "Epoch 00001: saving model to model_init_2021-08-0120_38_21.988480/model-00001-1.53553-0.36802-1.63365-0.19000.h5\n",
      "11/11 [==============================] - 111s 10s/step - loss: 1.5355 - categorical_accuracy: 0.3680 - val_loss: 1.6336 - val_categorical_accuracy: 0.1900\n",
      "Epoch 2/30\n",
      "11/11 [==============================] - ETA: 0s - loss: 1.0555 - categorical_accuracy: 0.5686\n",
      "Epoch 00002: saving model to model_init_2021-08-0120_38_21.988480/model-00002-1.05547-0.56863-1.81722-0.24000.h5\n",
      "11/11 [==============================] - 107s 10s/step - loss: 1.0555 - categorical_accuracy: 0.5686 - val_loss: 1.8172 - val_categorical_accuracy: 0.2400\n",
      "Epoch 3/30\n",
      "11/11 [==============================] - ETA: 0s - loss: 0.9055 - categorical_accuracy: 0.6576\n",
      "Epoch 00003: saving model to model_init_2021-08-0120_38_21.988480/model-00003-0.90548-0.65762-2.08437-0.16000.h5\n",
      "\n",
      "Epoch 00003: ReduceLROnPlateau reducing learning rate to 0.0005000000237487257.\n",
      "11/11 [==============================] - 111s 10s/step - loss: 0.9055 - categorical_accuracy: 0.6576 - val_loss: 2.0844 - val_categorical_accuracy: 0.1600\n",
      "Epoch 4/30\n",
      "11/11 [==============================] - ETA: 0s - loss: 0.7616 - categorical_accuracy: 0.7104\n",
      "Epoch 00004: saving model to model_init_2021-08-0120_38_21.988480/model-00004-0.76155-0.71041-2.15167-0.12000.h5\n",
      "11/11 [==============================] - 108s 10s/step - loss: 0.7616 - categorical_accuracy: 0.7104 - val_loss: 2.1517 - val_categorical_accuracy: 0.1200\n",
      "Epoch 5/30\n",
      "11/11 [==============================] - ETA: 0s - loss: 0.6576 - categorical_accuracy: 0.7662\n",
      "Epoch 00005: saving model to model_init_2021-08-0120_38_21.988480/model-00005-0.65761-0.76621-1.95965-0.17000.h5\n",
      "\n",
      "Epoch 00005: ReduceLROnPlateau reducing learning rate to 0.0002500000118743628.\n",
      "11/11 [==============================] - 112s 10s/step - loss: 0.6576 - categorical_accuracy: 0.7662 - val_loss: 1.9596 - val_categorical_accuracy: 0.1700\n",
      "Epoch 6/30\n",
      "11/11 [==============================] - ETA: 0s - loss: 0.6119 - categorical_accuracy: 0.7798\n",
      "Epoch 00006: saving model to model_init_2021-08-0120_38_21.988480/model-00006-0.61190-0.77979-1.91952-0.15000.h5\n",
      "11/11 [==============================] - 108s 10s/step - loss: 0.6119 - categorical_accuracy: 0.7798 - val_loss: 1.9195 - val_categorical_accuracy: 0.1500\n",
      "Epoch 7/30\n",
      "11/11 [==============================] - ETA: 0s - loss: 0.5113 - categorical_accuracy: 0.8462\n",
      "Epoch 00007: saving model to model_init_2021-08-0120_38_21.988480/model-00007-0.51131-0.84615-2.00410-0.18000.h5\n",
      "\n",
      "Epoch 00007: ReduceLROnPlateau reducing learning rate to 0.0001250000059371814.\n",
      "11/11 [==============================] - 113s 10s/step - loss: 0.5113 - categorical_accuracy: 0.8462 - val_loss: 2.0041 - val_categorical_accuracy: 0.1800\n",
      "Epoch 8/30\n",
      "11/11 [==============================] - ETA: 0s - loss: 0.4713 - categorical_accuracy: 0.8567\n",
      "Epoch 00008: saving model to model_init_2021-08-0120_38_21.988480/model-00008-0.47135-0.85671-1.91871-0.26000.h5\n",
      "11/11 [==============================] - 105s 10s/step - loss: 0.4713 - categorical_accuracy: 0.8567 - val_loss: 1.9187 - val_categorical_accuracy: 0.2600\n",
      "Epoch 9/30\n",
      "11/11 [==============================] - ETA: 0s - loss: 0.4775 - categorical_accuracy: 0.8522\n",
      "Epoch 00009: saving model to model_init_2021-08-0120_38_21.988480/model-00009-0.47754-0.85219-2.08307-0.26000.h5\n",
      "\n",
      "Epoch 00009: ReduceLROnPlateau reducing learning rate to 6.25000029685907e-05.\n",
      "11/11 [==============================] - 112s 10s/step - loss: 0.4775 - categorical_accuracy: 0.8522 - val_loss: 2.0831 - val_categorical_accuracy: 0.2600\n",
      "Epoch 10/30\n",
      "11/11 [==============================] - ETA: 0s - loss: 0.4208 - categorical_accuracy: 0.8748\n",
      "Epoch 00010: saving model to model_init_2021-08-0120_38_21.988480/model-00010-0.42078-0.87481-2.00985-0.26000.h5\n",
      "11/11 [==============================] - 106s 10s/step - loss: 0.4208 - categorical_accuracy: 0.8748 - val_loss: 2.0099 - val_categorical_accuracy: 0.2600\n",
      "Epoch 11/30\n",
      "11/11 [==============================] - ETA: 0s - loss: 0.4481 - categorical_accuracy: 0.8537\n",
      "Epoch 00011: saving model to model_init_2021-08-0120_38_21.988480/model-00011-0.44813-0.85370-2.01766-0.21000.h5\n",
      "\n",
      "Epoch 00011: ReduceLROnPlateau reducing learning rate to 3.125000148429535e-05.\n",
      "11/11 [==============================] - 110s 10s/step - loss: 0.4481 - categorical_accuracy: 0.8537 - val_loss: 2.0177 - val_categorical_accuracy: 0.2100\n",
      "Epoch 12/30\n",
      "11/11 [==============================] - ETA: 0s - loss: 0.4153 - categorical_accuracy: 0.8778\n",
      "Epoch 00012: saving model to model_init_2021-08-0120_38_21.988480/model-00012-0.41526-0.87783-2.02826-0.25000.h5\n",
      "11/11 [==============================] - 105s 10s/step - loss: 0.4153 - categorical_accuracy: 0.8778 - val_loss: 2.0283 - val_categorical_accuracy: 0.2500\n",
      "Epoch 13/30\n",
      "11/11 [==============================] - ETA: 0s - loss: 0.4320 - categorical_accuracy: 0.8462\n",
      "Epoch 00013: saving model to model_init_2021-08-0120_38_21.988480/model-00013-0.43195-0.84615-2.23558-0.18000.h5\n",
      "\n",
      "Epoch 00013: ReduceLROnPlateau reducing learning rate to 1.5625000742147677e-05.\n",
      "11/11 [==============================] - 112s 10s/step - loss: 0.4320 - categorical_accuracy: 0.8462 - val_loss: 2.2356 - val_categorical_accuracy: 0.1800\n",
      "Epoch 14/30\n",
      "11/11 [==============================] - ETA: 0s - loss: 0.4151 - categorical_accuracy: 0.8869\n",
      "Epoch 00014: saving model to model_init_2021-08-0120_38_21.988480/model-00014-0.41507-0.88688-1.96520-0.33000.h5\n",
      "11/11 [==============================] - 109s 10s/step - loss: 0.4151 - categorical_accuracy: 0.8869 - val_loss: 1.9652 - val_categorical_accuracy: 0.3300\n",
      "Epoch 15/30\n",
      "11/11 [==============================] - ETA: 0s - loss: 0.4115 - categorical_accuracy: 0.8824\n",
      "Epoch 00015: saving model to model_init_2021-08-0120_38_21.988480/model-00015-0.41145-0.88235-2.00488-0.32000.h5\n",
      "\n",
      "Epoch 00015: ReduceLROnPlateau reducing learning rate to 1e-05.\n",
      "11/11 [==============================] - 111s 10s/step - loss: 0.4115 - categorical_accuracy: 0.8824 - val_loss: 2.0049 - val_categorical_accuracy: 0.3200\n",
      "Epoch 16/30\n",
      "11/11 [==============================] - ETA: 0s - loss: 0.3739 - categorical_accuracy: 0.8869\n",
      "Epoch 00016: saving model to model_init_2021-08-0120_38_21.988480/model-00016-0.37385-0.88688-2.00653-0.28000.h5\n",
      "11/11 [==============================] - 107s 10s/step - loss: 0.3739 - categorical_accuracy: 0.8869 - val_loss: 2.0065 - val_categorical_accuracy: 0.2800\n",
      "Epoch 17/30\n",
      "11/11 [==============================] - ETA: 0s - loss: 0.3654 - categorical_accuracy: 0.8974\n",
      "Epoch 00017: saving model to model_init_2021-08-0120_38_21.988480/model-00017-0.36540-0.89744-1.86364-0.32000.h5\n",
      "11/11 [==============================] - 111s 10s/step - loss: 0.3654 - categorical_accuracy: 0.8974 - val_loss: 1.8636 - val_categorical_accuracy: 0.3200\n",
      "Epoch 18/30\n",
      "11/11 [==============================] - ETA: 0s - loss: 0.3884 - categorical_accuracy: 0.8808\n",
      "Epoch 00018: saving model to model_init_2021-08-0120_38_21.988480/model-00018-0.38835-0.88084-1.97487-0.29000.h5\n",
      "11/11 [==============================] - 107s 10s/step - loss: 0.3884 - categorical_accuracy: 0.8808 - val_loss: 1.9749 - val_categorical_accuracy: 0.2900\n",
      "Epoch 19/30\n",
      "11/11 [==============================] - ETA: 0s - loss: 0.3821 - categorical_accuracy: 0.9080\n",
      "Epoch 00019: saving model to model_init_2021-08-0120_38_21.988480/model-00019-0.38205-0.90799-2.00614-0.31000.h5\n",
      "11/11 [==============================] - 110s 10s/step - loss: 0.3821 - categorical_accuracy: 0.9080 - val_loss: 2.0061 - val_categorical_accuracy: 0.3100\n",
      "Epoch 20/30\n",
      "11/11 [==============================] - ETA: 0s - loss: 0.3805 - categorical_accuracy: 0.8944\n",
      "Epoch 00020: saving model to model_init_2021-08-0120_38_21.988480/model-00020-0.38045-0.89442-1.97844-0.29000.h5\n",
      "11/11 [==============================] - 108s 10s/step - loss: 0.3805 - categorical_accuracy: 0.8944 - val_loss: 1.9784 - val_categorical_accuracy: 0.2900\n",
      "Epoch 21/30\n",
      "11/11 [==============================] - ETA: 0s - loss: 0.3651 - categorical_accuracy: 0.8959\n",
      "Epoch 00021: saving model to model_init_2021-08-0120_38_21.988480/model-00021-0.36513-0.89593-2.01971-0.21000.h5\n",
      "11/11 [==============================] - 109s 10s/step - loss: 0.3651 - categorical_accuracy: 0.8959 - val_loss: 2.0197 - val_categorical_accuracy: 0.2100\n",
      "Epoch 22/30\n",
      "11/11 [==============================] - ETA: 0s - loss: 0.3798 - categorical_accuracy: 0.9005\n",
      "Epoch 00022: saving model to model_init_2021-08-0120_38_21.988480/model-00022-0.37976-0.90045-1.93661-0.25000.h5\n",
      "11/11 [==============================] - 107s 10s/step - loss: 0.3798 - categorical_accuracy: 0.9005 - val_loss: 1.9366 - val_categorical_accuracy: 0.2500\n",
      "Epoch 23/30\n",
      "11/11 [==============================] - ETA: 0s - loss: 0.3661 - categorical_accuracy: 0.9050\n",
      "Epoch 00023: saving model to model_init_2021-08-0120_38_21.988480/model-00023-0.36609-0.90498-1.73449-0.29000.h5\n",
      "11/11 [==============================] - 111s 10s/step - loss: 0.3661 - categorical_accuracy: 0.9050 - val_loss: 1.7345 - val_categorical_accuracy: 0.2900\n",
      "Epoch 24/30\n",
      "11/11 [==============================] - ETA: 0s - loss: 0.3819 - categorical_accuracy: 0.8793\n",
      "Epoch 00024: saving model to model_init_2021-08-0120_38_21.988480/model-00024-0.38193-0.87934-1.91340-0.22000.h5\n",
      "11/11 [==============================] - 106s 10s/step - loss: 0.3819 - categorical_accuracy: 0.8793 - val_loss: 1.9134 - val_categorical_accuracy: 0.2200\n",
      "Epoch 25/30\n",
      "11/11 [==============================] - ETA: 0s - loss: 0.3714 - categorical_accuracy: 0.8974\n",
      "Epoch 00025: saving model to model_init_2021-08-0120_38_21.988480/model-00025-0.37139-0.89744-1.91877-0.24000.h5\n",
      "11/11 [==============================] - 110s 10s/step - loss: 0.3714 - categorical_accuracy: 0.8974 - val_loss: 1.9188 - val_categorical_accuracy: 0.2400\n",
      "Epoch 26/30\n",
      "11/11 [==============================] - ETA: 0s - loss: 0.3846 - categorical_accuracy: 0.8778\n",
      "Epoch 00026: saving model to model_init_2021-08-0120_38_21.988480/model-00026-0.38462-0.87783-1.98450-0.27000.h5\n",
      "11/11 [==============================] - 105s 10s/step - loss: 0.3846 - categorical_accuracy: 0.8778 - val_loss: 1.9845 - val_categorical_accuracy: 0.2700\n",
      "Epoch 27/30\n",
      "11/11 [==============================] - ETA: 0s - loss: 0.3610 - categorical_accuracy: 0.9005\n",
      "Epoch 00027: saving model to model_init_2021-08-0120_38_21.988480/model-00027-0.36104-0.90045-2.13297-0.25000.h5\n",
      "11/11 [==============================] - 107s 10s/step - loss: 0.3610 - categorical_accuracy: 0.9005 - val_loss: 2.1330 - val_categorical_accuracy: 0.2500\n",
      "Epoch 28/30\n",
      "11/11 [==============================] - ETA: 0s - loss: 0.3660 - categorical_accuracy: 0.8944\n",
      "Epoch 00028: saving model to model_init_2021-08-0120_38_21.988480/model-00028-0.36604-0.89442-1.94247-0.33000.h5\n",
      "11/11 [==============================] - 106s 10s/step - loss: 0.3660 - categorical_accuracy: 0.8944 - val_loss: 1.9425 - val_categorical_accuracy: 0.3300\n",
      "Epoch 29/30\n",
      "11/11 [==============================] - ETA: 0s - loss: 0.3498 - categorical_accuracy: 0.9035\n",
      "Epoch 00029: saving model to model_init_2021-08-0120_38_21.988480/model-00029-0.34979-0.90347-2.12221-0.25000.h5\n",
      "11/11 [==============================] - 111s 10s/step - loss: 0.3498 - categorical_accuracy: 0.9035 - val_loss: 2.1222 - val_categorical_accuracy: 0.2500\n",
      "Epoch 30/30\n",
      "11/11 [==============================] - ETA: 0s - loss: 0.3566 - categorical_accuracy: 0.8914\n",
      "Epoch 00030: saving model to model_init_2021-08-0120_38_21.988480/model-00030-0.35664-0.89140-1.84563-0.38000.h5\n",
      "11/11 [==============================] - 105s 10s/step - loss: 0.3566 - categorical_accuracy: 0.8914 - val_loss: 1.8456 - val_categorical_accuracy: 0.3800\n"
     ]
    }
   ],
   "source": [
    "model_history = model.fit_generator(train_generator, steps_per_epoch=steps_per_epoch, epochs=num_epochs, verbose=1,\n",
    "                    callbacks=callbacks_list, validation_data=val_generator, \n",
    "                    validation_steps=validation_steps, class_weight=None, workers=1, initial_epoch=0)"
   ]
  },
  {
   "cell_type": "code",
   "execution_count": 32,
   "metadata": {},
   "outputs": [
    {
     "data": {
      "image/png": "[encoded data removed]",
      "text/plain": [
       "<Figure size 1080x288 with 2 Axes>"
      ]
     },
     "metadata": {
      "needs_background": "light"
     },
     "output_type": "display_data"
    }
   ],
   "source": [
    "#Plot the accuracy of model. \n",
    "plot_accuracy(model_history)"
   ]
  },
  {
   "cell_type": "markdown",
   "metadata": {},
   "source": [
    "## Model-9: Transfer Learning with VGG16. \n",
    "### Experiment 9: Transfer Learning with VGG16 and GRU.  \n",
    "### Decision:\n",
    "-\tWill use 15 image frames from each video. \n",
    "-\tVideo has total 30 image frames. We will use alternate image from 30 images. \n",
    "-\tWill use image shape to 120x120\n",
    "-\tbatch size will be 64. \n",
    "-\tWe will use heavy duty transfer learning architectures like VGG16 with GRU in this model.\n"
   ]
  },
  {
   "cell_type": "code",
   "execution_count": 11,
   "metadata": {},
   "outputs": [
    {
     "name": "stdout",
     "output_type": "stream",
     "text": [
      "# Time = 2021-08-01 21:42:18.414369\n",
      "# training sequences = 663\n",
      "# validation sequences = 100\n",
      "# epochs = 30\n",
      "# Image Index  =  [0, 2, 4, 6, 8, 10, 12, 14, 16, 18, 20, 22, 24, 26, 28]\n",
      "# Number of Video Frames =  15\n",
      "# Image Size =  (120, 120)\n",
      "# batch size = 64\n",
      "# Augmentation = False\n"
     ]
    }
   ],
   "source": [
    "#Set the global parameters\n",
    "#!rm -rf model*\n",
    "curr_dt_time = datetime.datetime.now()\n",
    "num_train_sequences = len(train_doc)\n",
    "num_val_sequences = len(val_doc)\n",
    "num_epochs = 30 # only two in crease for final run\n",
    "batch_size = 64\n",
    "img_idx = [0,2,4,6,8,10,12,14,16,18,20,22,24,26,28] # reducing thsi also to speed it up\n",
    "x = len(img_idx) # Number of video frames needs to be used\n",
    "y = 120 # size of the input image frames of the videos(heigh)\n",
    "z = 120 # size of the input image frames of the videos(width)\n",
    "augment = False #Enable True if want to do image augmentation\n",
    "print_input_summary()"
   ]
  },
  {
   "cell_type": "code",
   "execution_count": 12,
   "metadata": {},
   "outputs": [],
   "source": [
    "vgg16_model = VGG16(include_top=False, weights='imagenet', input_shape=(120,120,3))\n",
    "base_model = vgg16_model.output\n",
    "base_model = Flatten()(base_model)\n",
    "features = Dense(64, activation='relu')(base_model)\n",
    "conv_model = Model(inputs=vgg16_model.input, outputs=features)\n",
    "    \n",
    "for layer in vgg16_model.layers:\n",
    "    layer.trainable = False\n",
    "        \n",
    "model = Sequential()\n",
    "model.add(TimeDistributed(conv_model, input_shape=(x,y,z,3)))\n",
    "model.add(GRU(32, return_sequences=True))\n",
    "model.add(GRU(16))\n",
    "model.add(Dropout(0.5))\n",
    "model.add(Dense(8, activation='relu'))\n",
    "model.add(Dense(5, activation='softmax'))"
   ]
  },
  {
   "cell_type": "code",
   "execution_count": 13,
   "metadata": {},
   "outputs": [
    {
     "name": "stdout",
     "output_type": "stream",
     "text": [
      "Model: \"sequential\"\n",
      "_________________________________________________________________\n",
      "Layer (type)                 Output Shape              Param #   \n",
      "=================================================================\n",
      "time_distributed (TimeDistri (None, 15, 64)            15009664  \n",
      "_________________________________________________________________\n",
      "gru (GRU)                    (None, 15, 32)            9408      \n",
      "_________________________________________________________________\n",
      "gru_1 (GRU)                  (None, 16)                2400      \n",
      "_________________________________________________________________\n",
      "dropout (Dropout)            (None, 16)                0         \n",
      "_________________________________________________________________\n",
      "dense_1 (Dense)              (None, 8)                 136       \n",
      "_________________________________________________________________\n",
      "dense_2 (Dense)              (None, 5)                 45        \n",
      "=================================================================\n",
      "Total params: 15,021,653\n",
      "Trainable params: 306,965\n",
      "Non-trainable params: 14,714,688\n",
      "_________________________________________________________________\n",
      "None\n"
     ]
    }
   ],
   "source": [
    "optimiser = optimizers.SGD(lr=0.001, decay=1e-6, momentum=0.7, nesterov=True)\n",
    "model.compile(optimizer=optimiser, loss='categorical_crossentropy', metrics=['categorical_accuracy'])\n",
    "print (model.summary())"
   ]
  },
  {
   "cell_type": "code",
   "execution_count": 14,
   "metadata": {},
   "outputs": [],
   "source": [
    "train_generator = generator(train_path, train_doc, batch_size)\n",
    "val_generator = generator(val_path, val_doc, batch_size)"
   ]
  },
  {
   "cell_type": "code",
   "execution_count": 15,
   "metadata": {},
   "outputs": [],
   "source": [
    "model_name = 'model_init' + '_' + str(curr_dt_time).replace(' ','').replace(':','_') + '/'\n",
    "    \n",
    "if not os.path.exists(model_name):\n",
    "    os.mkdir(model_name)\n",
    "        \n",
    "filepath = model_name + 'model-{epoch:05d}-{loss:.5f}-{categorical_accuracy:.5f}-{val_loss:.5f}-{val_categorical_accuracy:.5f}.h5'\n",
    "\n",
    "checkpoint = ModelCheckpoint(filepath, monitor='val_loss', verbose=1, save_best_only=False, save_weights_only=False, mode='auto', save_freq='epoch')\n",
    "\n",
    "LR = ReduceLROnPlateau(monitor='val_loss', factor=0.5, patience=2, verbose=1, mode='min', min_delta=0.0001, cooldown=0, min_lr=0.00001)\n",
    "callbacks_list = [checkpoint, LR]"
   ]
  },
  {
   "cell_type": "code",
   "execution_count": 16,
   "metadata": {},
   "outputs": [],
   "source": [
    "if (num_train_sequences%batch_size) == 0:\n",
    "    steps_per_epoch = int(num_train_sequences/batch_size)\n",
    "else:\n",
    "    steps_per_epoch = (num_train_sequences//batch_size) + 1\n",
    "\n",
    "if (num_val_sequences%batch_size) == 0:\n",
    "    validation_steps = int(num_val_sequences/batch_size)\n",
    "else:\n",
    "    validation_steps = (num_val_sequences//batch_size) + 1"
   ]
  },
  {
   "cell_type": "code",
   "execution_count": 17,
   "metadata": {},
   "outputs": [
    {
     "name": "stdout",
     "output_type": "stream",
     "text": [
      "WARNING:tensorflow:From <ipython-input-17-09d6bf762e4d>:3: Model.fit_generator (from tensorflow.python.keras.engine.training) is deprecated and will be removed in a future version.\n",
      "Instructions for updating:\n",
      "Please use Model.fit, which supports generators.\n",
      "# Source path =  datasets/Project_data/train\n",
      "# batch size = 64\n",
      "# Augmentation = False\n",
      "Epoch 1/30\n",
      "11/11 [==============================] - ETA: 0s - loss: 1.6610 - categorical_accuracy: 0.1870# Source path =  datasets/Project_data/val\n",
      "# batch size = 64\n",
      "# Augmentation = False\n",
      "\n",
      "Epoch 00001: saving model to model_init_2021-08-0121_42_18.414369/model-00001-1.66096-0.18703-1.61892-0.15000.h5\n",
      "11/11 [==============================] - 106s 10s/step - loss: 1.6610 - categorical_accuracy: 0.1870 - val_loss: 1.6189 - val_categorical_accuracy: 0.1500\n",
      "Epoch 2/30\n",
      "11/11 [==============================] - ETA: 0s - loss: 1.6296 - categorical_accuracy: 0.1795\n",
      "Epoch 00002: saving model to model_init_2021-08-0121_42_18.414369/model-00002-1.62961-0.17949-1.61709-0.13000.h5\n",
      "11/11 [==============================] - 109s 10s/step - loss: 1.6296 - categorical_accuracy: 0.1795 - val_loss: 1.6171 - val_categorical_accuracy: 0.1300\n",
      "Epoch 3/30\n",
      "11/11 [==============================] - ETA: 0s - loss: 1.6230 - categorical_accuracy: 0.1991\n",
      "Epoch 00003: saving model to model_init_2021-08-0121_42_18.414369/model-00003-1.62296-0.19910-1.61921-0.18000.h5\n",
      "11/11 [==============================] - 110s 10s/step - loss: 1.6230 - categorical_accuracy: 0.1991 - val_loss: 1.6192 - val_categorical_accuracy: 0.1800\n",
      "Epoch 4/30\n",
      "11/11 [==============================] - ETA: 0s - loss: 1.6129 - categorical_accuracy: 0.2142\n",
      "Epoch 00004: saving model to model_init_2021-08-0121_42_18.414369/model-00004-1.61286-0.21418-1.61059-0.11000.h5\n",
      "11/11 [==============================] - 105s 10s/step - loss: 1.6129 - categorical_accuracy: 0.2142 - val_loss: 1.6106 - val_categorical_accuracy: 0.1100\n",
      "Epoch 5/30\n",
      "11/11 [==============================] - ETA: 0s - loss: 1.6159 - categorical_accuracy: 0.1900\n",
      "Epoch 00005: saving model to model_init_2021-08-0121_42_18.414369/model-00005-1.61588-0.19005-1.60816-0.24000.h5\n",
      "11/11 [==============================] - 114s 10s/step - loss: 1.6159 - categorical_accuracy: 0.1900 - val_loss: 1.6082 - val_categorical_accuracy: 0.2400\n",
      "Epoch 6/30\n",
      "11/11 [==============================] - ETA: 0s - loss: 1.6007 - categorical_accuracy: 0.2353\n",
      "Epoch 00006: saving model to model_init_2021-08-0121_42_18.414369/model-00006-1.60069-0.23529-1.60613-0.21000.h5\n",
      "11/11 [==============================] - 108s 10s/step - loss: 1.6007 - categorical_accuracy: 0.2353 - val_loss: 1.6061 - val_categorical_accuracy: 0.2100\n",
      "Epoch 7/30\n",
      "11/11 [==============================] - ETA: 0s - loss: 1.6026 - categorical_accuracy: 0.2368\n",
      "Epoch 00007: saving model to model_init_2021-08-0121_42_18.414369/model-00007-1.60261-0.23680-1.62101-0.24000.h5\n",
      "11/11 [==============================] - 113s 10s/step - loss: 1.6026 - categorical_accuracy: 0.2368 - val_loss: 1.6210 - val_categorical_accuracy: 0.2400\n",
      "Epoch 8/30\n",
      "11/11 [==============================] - ETA: 0s - loss: 1.5909 - categorical_accuracy: 0.2383\n",
      "Epoch 00008: saving model to model_init_2021-08-0121_42_18.414369/model-00008-1.59091-0.23831-1.60689-0.22000.h5\n",
      "\n",
      "Epoch 00008: ReduceLROnPlateau reducing learning rate to 0.0005000000237487257.\n",
      "11/11 [==============================] - 105s 10s/step - loss: 1.5909 - categorical_accuracy: 0.2383 - val_loss: 1.6069 - val_categorical_accuracy: 0.2200\n",
      "Epoch 9/30\n",
      "11/11 [==============================] - ETA: 0s - loss: 1.5905 - categorical_accuracy: 0.2504\n",
      "Epoch 00009: saving model to model_init_2021-08-0121_42_18.414369/model-00009-1.59047-0.25038-1.59391-0.25000.h5\n",
      "11/11 [==============================] - 111s 10s/step - loss: 1.5905 - categorical_accuracy: 0.2504 - val_loss: 1.5939 - val_categorical_accuracy: 0.2500\n",
      "Epoch 10/30\n",
      "11/11 [==============================] - ETA: 0s - loss: 1.5852 - categorical_accuracy: 0.2564\n",
      "Epoch 00010: saving model to model_init_2021-08-0121_42_18.414369/model-00010-1.58524-0.25641-1.60029-0.17000.h5\n",
      "11/11 [==============================] - 109s 10s/step - loss: 1.5852 - categorical_accuracy: 0.2564 - val_loss: 1.6003 - val_categorical_accuracy: 0.1700\n",
      "Epoch 11/30\n",
      "11/11 [==============================] - ETA: 0s - loss: 1.5894 - categorical_accuracy: 0.2715\n",
      "Epoch 00011: saving model to model_init_2021-08-0121_42_18.414369/model-00011-1.58942-0.27149-1.58902-0.24000.h5\n",
      "11/11 [==============================] - 110s 10s/step - loss: 1.5894 - categorical_accuracy: 0.2715 - val_loss: 1.5890 - val_categorical_accuracy: 0.2400\n",
      "Epoch 12/30\n",
      "11/11 [==============================] - ETA: 0s - loss: 1.5805 - categorical_accuracy: 0.2534\n",
      "Epoch 00012: saving model to model_init_2021-08-0121_42_18.414369/model-00012-1.58053-0.25339-1.59121-0.29000.h5\n",
      "11/11 [==============================] - 105s 10s/step - loss: 1.5805 - categorical_accuracy: 0.2534 - val_loss: 1.5912 - val_categorical_accuracy: 0.2900\n",
      "Epoch 13/30\n",
      "11/11 [==============================] - ETA: 0s - loss: 1.5732 - categorical_accuracy: 0.2715\n",
      "Epoch 00013: saving model to model_init_2021-08-0121_42_18.414369/model-00013-1.57323-0.27149-1.57610-0.33000.h5\n",
      "11/11 [==============================] - 113s 10s/step - loss: 1.5732 - categorical_accuracy: 0.2715 - val_loss: 1.5761 - val_categorical_accuracy: 0.3300\n",
      "Epoch 14/30\n",
      "11/11 [==============================] - ETA: 0s - loss: 1.5785 - categorical_accuracy: 0.2428\n",
      "Epoch 00014: saving model to model_init_2021-08-0121_42_18.414369/model-00014-1.57850-0.24284-1.59251-0.22000.h5\n",
      "11/11 [==============================] - 108s 10s/step - loss: 1.5785 - categorical_accuracy: 0.2428 - val_loss: 1.5925 - val_categorical_accuracy: 0.2200\n",
      "Epoch 15/30\n",
      "11/11 [==============================] - ETA: 0s - loss: 1.5681 - categorical_accuracy: 0.2881\n",
      "Epoch 00015: saving model to model_init_2021-08-0121_42_18.414369/model-00015-1.56813-0.28808-1.58189-0.30000.h5\n",
      "\n",
      "Epoch 00015: ReduceLROnPlateau reducing learning rate to 0.0002500000118743628.\n",
      "11/11 [==============================] - 113s 10s/step - loss: 1.5681 - categorical_accuracy: 0.2881 - val_loss: 1.5819 - val_categorical_accuracy: 0.3000\n",
      "Epoch 16/30\n",
      "11/11 [==============================] - ETA: 0s - loss: 1.5615 - categorical_accuracy: 0.2881\n",
      "Epoch 00016: saving model to model_init_2021-08-0121_42_18.414369/model-00016-1.56154-0.28808-1.57755-0.30000.h5\n",
      "11/11 [==============================] - 106s 10s/step - loss: 1.5615 - categorical_accuracy: 0.2881 - val_loss: 1.5775 - val_categorical_accuracy: 0.3000\n",
      "Epoch 17/30\n",
      "11/11 [==============================] - ETA: 0s - loss: 1.5652 - categorical_accuracy: 0.2549\n",
      "Epoch 00017: saving model to model_init_2021-08-0121_42_18.414369/model-00017-1.56518-0.25490-1.57626-0.29000.h5\n",
      "\n",
      "Epoch 00017: ReduceLROnPlateau reducing learning rate to 0.0001250000059371814.\n",
      "11/11 [==============================] - 114s 10s/step - loss: 1.5652 - categorical_accuracy: 0.2549 - val_loss: 1.5763 - val_categorical_accuracy: 0.2900\n",
      "Epoch 18/30\n",
      "11/11 [==============================] - ETA: 0s - loss: 1.5534 - categorical_accuracy: 0.2836\n",
      "Epoch 00018: saving model to model_init_2021-08-0121_42_18.414369/model-00018-1.55343-0.28356-1.58386-0.26000.h5\n",
      "11/11 [==============================] - 106s 10s/step - loss: 1.5534 - categorical_accuracy: 0.2836 - val_loss: 1.5839 - val_categorical_accuracy: 0.2600\n",
      "Epoch 19/30\n",
      "11/11 [==============================] - ETA: 0s - loss: 1.5622 - categorical_accuracy: 0.2836\n",
      "Epoch 00019: saving model to model_init_2021-08-0121_42_18.414369/model-00019-1.56218-0.28356-1.56686-0.33000.h5\n",
      "11/11 [==============================] - 111s 10s/step - loss: 1.5622 - categorical_accuracy: 0.2836 - val_loss: 1.5669 - val_categorical_accuracy: 0.3300\n",
      "Epoch 20/30\n",
      "11/11 [==============================] - ETA: 0s - loss: 1.5579 - categorical_accuracy: 0.2805\n",
      "Epoch 00020: saving model to model_init_2021-08-0121_42_18.414369/model-00020-1.55795-0.28054-1.58025-0.25000.h5\n",
      "11/11 [==============================] - 108s 10s/step - loss: 1.5579 - categorical_accuracy: 0.2805 - val_loss: 1.5803 - val_categorical_accuracy: 0.2500\n",
      "Epoch 21/30\n",
      "11/11 [==============================] - ETA: 0s - loss: 1.5370 - categorical_accuracy: 0.3258\n",
      "Epoch 00021: saving model to model_init_2021-08-0121_42_18.414369/model-00021-1.53700-0.32579-1.55893-0.31000.h5\n",
      "11/11 [==============================] - 111s 10s/step - loss: 1.5370 - categorical_accuracy: 0.3258 - val_loss: 1.5589 - val_categorical_accuracy: 0.3100\n",
      "Epoch 22/30\n",
      "11/11 [==============================] - ETA: 0s - loss: 1.5476 - categorical_accuracy: 0.3032\n",
      "Epoch 00022: saving model to model_init_2021-08-0121_42_18.414369/model-00022-1.54760-0.30317-1.56739-0.29000.h5\n",
      "11/11 [==============================] - 107s 10s/step - loss: 1.5476 - categorical_accuracy: 0.3032 - val_loss: 1.5674 - val_categorical_accuracy: 0.2900\n",
      "Epoch 23/30\n",
      "11/11 [==============================] - ETA: 0s - loss: 1.5397 - categorical_accuracy: 0.2956\n",
      "Epoch 00023: saving model to model_init_2021-08-0121_42_18.414369/model-00023-1.53965-0.29563-1.55411-0.31000.h5\n",
      "11/11 [==============================] - 112s 10s/step - loss: 1.5397 - categorical_accuracy: 0.2956 - val_loss: 1.5541 - val_categorical_accuracy: 0.3100\n",
      "Epoch 24/30\n",
      "11/11 [==============================] - ETA: 0s - loss: 1.5629 - categorical_accuracy: 0.2971\n",
      "Epoch 00024: saving model to model_init_2021-08-0121_42_18.414369/model-00024-1.56287-0.29713-1.56335-0.28000.h5\n",
      "11/11 [==============================] - 105s 10s/step - loss: 1.5629 - categorical_accuracy: 0.2971 - val_loss: 1.5634 - val_categorical_accuracy: 0.2800\n",
      "Epoch 25/30\n",
      "11/11 [==============================] - ETA: 0s - loss: 1.5506 - categorical_accuracy: 0.2986\n",
      "Epoch 00025: saving model to model_init_2021-08-0121_42_18.414369/model-00025-1.55055-0.29864-1.55019-0.39000.h5\n",
      "11/11 [==============================] - 112s 10s/step - loss: 1.5506 - categorical_accuracy: 0.2986 - val_loss: 1.5502 - val_categorical_accuracy: 0.3900\n",
      "Epoch 26/30\n",
      "11/11 [==============================] - ETA: 0s - loss: 1.5510 - categorical_accuracy: 0.2971\n",
      "Epoch 00026: saving model to model_init_2021-08-0121_42_18.414369/model-00026-1.55095-0.29713-1.55848-0.29000.h5\n",
      "11/11 [==============================] - 107s 10s/step - loss: 1.5510 - categorical_accuracy: 0.2971 - val_loss: 1.5585 - val_categorical_accuracy: 0.2900\n",
      "Epoch 27/30\n",
      "11/11 [==============================] - ETA: 0s - loss: 1.5542 - categorical_accuracy: 0.3152\n",
      "Epoch 00027: saving model to model_init_2021-08-0121_42_18.414369/model-00027-1.55423-0.31523-1.56738-0.32000.h5\n",
      "\n",
      "Epoch 00027: ReduceLROnPlateau reducing learning rate to 6.25000029685907e-05.\n",
      "11/11 [==============================] - 112s 10s/step - loss: 1.5542 - categorical_accuracy: 0.3152 - val_loss: 1.5674 - val_categorical_accuracy: 0.3200\n",
      "Epoch 28/30\n",
      "11/11 [==============================] - ETA: 0s - loss: 1.5509 - categorical_accuracy: 0.3258\n",
      "Epoch 00028: saving model to model_init_2021-08-0121_42_18.414369/model-00028-1.55087-0.32579-1.55520-0.32000.h5\n",
      "11/11 [==============================] - 106s 10s/step - loss: 1.5509 - categorical_accuracy: 0.3258 - val_loss: 1.5552 - val_categorical_accuracy: 0.3200\n",
      "Epoch 29/30\n",
      "11/11 [==============================] - ETA: 0s - loss: 1.5457 - categorical_accuracy: 0.3017\n",
      "Epoch 00029: saving model to model_init_2021-08-0121_42_18.414369/model-00029-1.54575-0.30166-1.56635-0.33000.h5\n",
      "\n",
      "Epoch 00029: ReduceLROnPlateau reducing learning rate to 3.125000148429535e-05.\n",
      "11/11 [==============================] - 112s 10s/step - loss: 1.5457 - categorical_accuracy: 0.3017 - val_loss: 1.5664 - val_categorical_accuracy: 0.3300\n",
      "Epoch 30/30\n",
      "11/11 [==============================] - ETA: 0s - loss: 1.5548 - categorical_accuracy: 0.2685\n",
      "Epoch 00030: saving model to model_init_2021-08-0121_42_18.414369/model-00030-1.55484-0.26848-1.56046-0.27000.h5\n",
      "11/11 [==============================] - 106s 10s/step - loss: 1.5548 - categorical_accuracy: 0.2685 - val_loss: 1.5605 - val_categorical_accuracy: 0.2700\n"
     ]
    }
   ],
   "source": [
    "model_history = model.fit_generator(train_generator, steps_per_epoch=steps_per_epoch, epochs=num_epochs, verbose=1,\n",
    "                    callbacks=callbacks_list, validation_data=val_generator, \n",
    "                    validation_steps=validation_steps, class_weight=None, workers=1, initial_epoch=0)"
   ]
  },
  {
   "cell_type": "code",
   "execution_count": 18,
   "metadata": {},
   "outputs": [
    {
     "data": {
      "image/png": "[encoded data removed]",
      "text/plain": [
       "<Figure size 1080x288 with 2 Axes>"
      ]
     },
     "metadata": {
      "needs_background": "light"
     },
     "output_type": "display_data"
    }
   ],
   "source": [
    "#Plot the accuracy of model. \n",
    "plot_accuracy(model_history)"
   ]
  },
  {
   "cell_type": "markdown",
   "metadata": {},
   "source": [
    "## Model-10: Transfer Learning with Mobilenet. \n",
    "### Experiment 10: Transfer Learning with Mobilenet and LSTM.  \n",
    "### Decision:\n",
    "-\tWill use 15 image frames from each video. \n",
    "-\tVideo has total 30 image frames. We will use alternate image from 30 images. \n",
    "-\tWill use image shape to 120x120\n",
    "-\tbatch size will be 64. \n",
    "-\tWe will use light weight transfer learning architectures like Mobilenet with LSTM in this model."
   ]
  },
  {
   "cell_type": "code",
   "execution_count": 26,
   "metadata": {},
   "outputs": [
    {
     "name": "stdout",
     "output_type": "stream",
     "text": [
      "# Time = 2021-08-02 05:16:32.524018\n",
      "# training sequences = 663\n",
      "# validation sequences = 100\n",
      "# epochs = 30\n",
      "# Image Index  =  [0, 2, 4, 6, 8, 10, 12, 14, 16, 18, 20, 22, 24, 26, 28]\n",
      "# Number of Video Frames =  15\n",
      "# Image Size =  (120, 120)\n",
      "# batch size = 64\n",
      "# Augmentation = False\n"
     ]
    }
   ],
   "source": [
    "#Set the global parameters\n",
    "#!rm -rf model*\n",
    "curr_dt_time = datetime.datetime.now()\n",
    "num_train_sequences = len(train_doc)\n",
    "num_val_sequences = len(val_doc)\n",
    "num_epochs = 30 # only two in crease for final run\n",
    "batch_size = 64\n",
    "img_idx = [0,2,4,6,8,10,12,14,16,18,20,22,24,26,28] # reducing thsi also to speed it up\n",
    "x = len(img_idx) # Number of video frames needs to be used\n",
    "y = 120 # size of the input image frames of the videos(heigh)\n",
    "z = 120 # size of the input image frames of the videos(width)\n",
    "augment = False #Enable True if want to do image augmentation\n",
    "print_input_summary()"
   ]
  },
  {
   "cell_type": "code",
   "execution_count": 28,
   "metadata": {},
   "outputs": [
    {
     "name": "stdout",
     "output_type": "stream",
     "text": [
      "WARNING:tensorflow:`input_shape` is undefined or non-square, or `rows` is not in [128, 160, 192, 224]. Weights for input shape (224, 224) will be loaded as the default.\n"
     ]
    }
   ],
   "source": [
    "# Define some more local variables\n",
    "lstm_cells=128\n",
    "dense_neurons=128\n",
    "dropout=0.25\n",
    "\n",
    "#mobilenet_transfer = MobileNetV2(weights='imagenet', include_top=False, input_shape=(y, z, 3))\n",
    "mobilenet_transfer = mobilenet.MobileNet(include_top=False, weights='imagenet', input_shape=(y, z, 3), alpha=1.0, depth_multiplier=1)\n",
    "#feature_model.load_weights('mobilenet_1_0_224_tf.h5') # give the path for downloaded weights\n",
    "\n",
    "model = Sequential()\n",
    "model.add(TimeDistributed(mobilenet_transfer,input_shape=(x,y,z,3)))\n",
    "\n",
    "for layer in model.layers:\n",
    "    layer.trainable = False\n",
    "    \n",
    "model.add(TimeDistributed(BatchNormalization()))\n",
    "model.add(TimeDistributed(MaxPooling2D((2, 2))))\n",
    "model.add(TimeDistributed(Flatten()))\n",
    "\n",
    "model.add(LSTM(lstm_cells))\n",
    "model.add(Dropout(dropout))\n",
    "        \n",
    "model.add(Dense(dense_neurons,activation='relu'))\n",
    "model.add(Dropout(dropout))\n",
    "        \n",
    "model.add(Dense(5, activation='softmax'))"
   ]
  },
  {
   "cell_type": "code",
   "execution_count": 29,
   "metadata": {},
   "outputs": [
    {
     "name": "stdout",
     "output_type": "stream",
     "text": [
      "Model: \"sequential_9\"\n",
      "_________________________________________________________________\n",
      "Layer (type)                 Output Shape              Param #   \n",
      "=================================================================\n",
      "time_distributed_33 (TimeDis (None, 15, 3, 3, 1024)    3228864   \n",
      "_________________________________________________________________\n",
      "time_distributed_34 (TimeDis (None, 15, 3, 3, 1024)    4096      \n",
      "_________________________________________________________________\n",
      "time_distributed_35 (TimeDis (None, 15, 1, 1, 1024)    0         \n",
      "_________________________________________________________________\n",
      "time_distributed_36 (TimeDis (None, 15, 1024)          0         \n",
      "_________________________________________________________________\n",
      "lstm_8 (LSTM)                (None, 128)               590336    \n",
      "_________________________________________________________________\n",
      "dropout_17 (Dropout)         (None, 128)               0         \n",
      "_________________________________________________________________\n",
      "dense_19 (Dense)             (None, 128)               16512     \n",
      "_________________________________________________________________\n",
      "dropout_18 (Dropout)         (None, 128)               0         \n",
      "_________________________________________________________________\n",
      "dense_20 (Dense)             (None, 5)                 645       \n",
      "=================================================================\n",
      "Total params: 3,840,453\n",
      "Trainable params: 609,541\n",
      "Non-trainable params: 3,230,912\n",
      "_________________________________________________________________\n",
      "None\n"
     ]
    }
   ],
   "source": [
    "optimiser = optimizers.SGD(lr=0.001, decay=1e-6, momentum=0.7, nesterov=True)\n",
    "model.compile(optimizer=optimiser, loss='categorical_crossentropy', metrics=['categorical_accuracy'])\n",
    "print (model.summary())"
   ]
  },
  {
   "cell_type": "code",
   "execution_count": 30,
   "metadata": {},
   "outputs": [],
   "source": [
    "train_generator = generator(train_path, train_doc, batch_size)\n",
    "val_generator = generator(val_path, val_doc, batch_size)"
   ]
  },
  {
   "cell_type": "code",
   "execution_count": 31,
   "metadata": {},
   "outputs": [],
   "source": [
    "model_name = 'model_init' + '_' + str(curr_dt_time).replace(' ','').replace(':','_') + '/'\n",
    "    \n",
    "if not os.path.exists(model_name):\n",
    "    os.mkdir(model_name)\n",
    "        \n",
    "filepath = model_name + 'model-{epoch:05d}-{loss:.5f}-{categorical_accuracy:.5f}-{val_loss:.5f}-{val_categorical_accuracy:.5f}.h5'\n",
    "\n",
    "checkpoint = ModelCheckpoint(filepath, monitor='val_loss', verbose=1, save_best_only=False, save_weights_only=False, mode='auto', save_freq='epoch')\n",
    "\n",
    "LR = ReduceLROnPlateau(monitor='val_loss', factor=0.5, patience=2, verbose=1, mode='min', min_delta=0.0001, cooldown=0, min_lr=0.00001)\n",
    "callbacks_list = [checkpoint, LR]"
   ]
  },
  {
   "cell_type": "code",
   "execution_count": 32,
   "metadata": {},
   "outputs": [],
   "source": [
    "if (num_train_sequences%batch_size) == 0:\n",
    "    steps_per_epoch = int(num_train_sequences/batch_size)\n",
    "else:\n",
    "    steps_per_epoch = (num_train_sequences//batch_size) + 1\n",
    "\n",
    "if (num_val_sequences%batch_size) == 0:\n",
    "    validation_steps = int(num_val_sequences/batch_size)\n",
    "else:\n",
    "    validation_steps = (num_val_sequences//batch_size) + 1"
   ]
  },
  {
   "cell_type": "code",
   "execution_count": 33,
   "metadata": {},
   "outputs": [
    {
     "name": "stdout",
     "output_type": "stream",
     "text": [
      "WARNING:tensorflow:From <ipython-input-33-09d6bf762e4d>:3: Model.fit_generator (from tensorflow.python.keras.engine.training) is deprecated and will be removed in a future version.\n",
      "Instructions for updating:\n",
      "Please use Model.fit, which supports generators.\n",
      "# Source path =  datasets/Project_data/train\n",
      "# batch size = 64\n",
      "# Augmentation = False\n",
      "Epoch 1/30\n",
      "11/11 [==============================] - ETA: 0s - loss: 1.7389 - categorical_accuracy: 0.1689# Source path =  datasets/Project_data/val\n",
      "# batch size = 64\n",
      "# Augmentation = False\n",
      "\n",
      "Epoch 00001: saving model to model_init_2021-08-0205_16_32.524018/model-00001-1.73889-0.16893-1.62393-0.25000.h5\n",
      "11/11 [==============================] - 115s 10s/step - loss: 1.7389 - categorical_accuracy: 0.1689 - val_loss: 1.6239 - val_categorical_accuracy: 0.2500\n",
      "Epoch 2/30\n",
      "11/11 [==============================] - ETA: 0s - loss: 1.6783 - categorical_accuracy: 0.2006\n",
      "Epoch 00002: saving model to model_init_2021-08-0205_16_32.524018/model-00002-1.67833-0.20060-1.58971-0.32000.h5\n",
      "11/11 [==============================] - 114s 10s/step - loss: 1.6783 - categorical_accuracy: 0.2006 - val_loss: 1.5897 - val_categorical_accuracy: 0.3200\n",
      "Epoch 3/30\n",
      "11/11 [==============================] - ETA: 0s - loss: 1.6755 - categorical_accuracy: 0.2081\n",
      "Epoch 00003: saving model to model_init_2021-08-0205_16_32.524018/model-00003-1.67553-0.20814-1.57199-0.25000.h5\n",
      "11/11 [==============================] - 116s 11s/step - loss: 1.6755 - categorical_accuracy: 0.2081 - val_loss: 1.5720 - val_categorical_accuracy: 0.2500\n",
      "Epoch 4/30\n",
      "11/11 [==============================] - ETA: 0s - loss: 1.6895 - categorical_accuracy: 0.2157\n",
      "Epoch 00004: saving model to model_init_2021-08-0205_16_32.524018/model-00004-1.68950-0.21569-1.56508-0.26000.h5\n",
      "11/11 [==============================] - 111s 10s/step - loss: 1.6895 - categorical_accuracy: 0.2157 - val_loss: 1.5651 - val_categorical_accuracy: 0.2600\n",
      "Epoch 5/30\n",
      "11/11 [==============================] - ETA: 0s - loss: 1.6199 - categorical_accuracy: 0.2353\n",
      "Epoch 00005: saving model to model_init_2021-08-0205_16_32.524018/model-00005-1.61993-0.23529-1.53184-0.30000.h5\n",
      "11/11 [==============================] - 120s 11s/step - loss: 1.6199 - categorical_accuracy: 0.2353 - val_loss: 1.5318 - val_categorical_accuracy: 0.3000\n",
      "Epoch 6/30\n",
      "11/11 [==============================] - ETA: 0s - loss: 1.6040 - categorical_accuracy: 0.2624\n",
      "Epoch 00006: saving model to model_init_2021-08-0205_16_32.524018/model-00006-1.60398-0.26244-1.54218-0.27000.h5\n",
      "11/11 [==============================] - 114s 10s/step - loss: 1.6040 - categorical_accuracy: 0.2624 - val_loss: 1.5422 - val_categorical_accuracy: 0.2700\n",
      "Epoch 7/30\n",
      "11/11 [==============================] - ETA: 0s - loss: 1.5957 - categorical_accuracy: 0.2730\n",
      "Epoch 00007: saving model to model_init_2021-08-0205_16_32.524018/model-00007-1.59569-0.27300-1.54823-0.29000.h5\n",
      "\n",
      "Epoch 00007: ReduceLROnPlateau reducing learning rate to 0.0005000000237487257.\n",
      "11/11 [==============================] - 117s 11s/step - loss: 1.5957 - categorical_accuracy: 0.2730 - val_loss: 1.5482 - val_categorical_accuracy: 0.2900\n",
      "Epoch 8/30\n",
      "11/11 [==============================] - ETA: 0s - loss: 1.5746 - categorical_accuracy: 0.2851\n",
      "Epoch 00008: saving model to model_init_2021-08-0205_16_32.524018/model-00008-1.57455-0.28507-1.49311-0.36000.h5\n",
      "11/11 [==============================] - 112s 10s/step - loss: 1.5746 - categorical_accuracy: 0.2851 - val_loss: 1.4931 - val_categorical_accuracy: 0.3600\n",
      "Epoch 9/30\n",
      "11/11 [==============================] - ETA: 0s - loss: 1.5810 - categorical_accuracy: 0.2790\n",
      "Epoch 00009: saving model to model_init_2021-08-0205_16_32.524018/model-00009-1.58098-0.27903-1.50974-0.39000.h5\n",
      "11/11 [==============================] - 116s 11s/step - loss: 1.5810 - categorical_accuracy: 0.2790 - val_loss: 1.5097 - val_categorical_accuracy: 0.3900\n",
      "Epoch 10/30\n",
      "11/11 [==============================] - ETA: 0s - loss: 1.5606 - categorical_accuracy: 0.2866\n",
      "Epoch 00010: saving model to model_init_2021-08-0205_16_32.524018/model-00010-1.56063-0.28658-1.47941-0.36000.h5\n",
      "11/11 [==============================] - 111s 10s/step - loss: 1.5606 - categorical_accuracy: 0.2866 - val_loss: 1.4794 - val_categorical_accuracy: 0.3600\n",
      "Epoch 11/30\n",
      "11/11 [==============================] - ETA: 0s - loss: 1.5522 - categorical_accuracy: 0.2986\n",
      "Epoch 00011: saving model to model_init_2021-08-0205_16_32.524018/model-00011-1.55217-0.29864-1.47917-0.38000.h5\n",
      "11/11 [==============================] - 114s 10s/step - loss: 1.5522 - categorical_accuracy: 0.2986 - val_loss: 1.4792 - val_categorical_accuracy: 0.3800\n",
      "Epoch 12/30\n",
      "11/11 [==============================] - ETA: 0s - loss: 1.5495 - categorical_accuracy: 0.3062\n",
      "Epoch 00012: saving model to model_init_2021-08-0205_16_32.524018/model-00012-1.54952-0.30618-1.51431-0.30000.h5\n",
      "11/11 [==============================] - 109s 10s/step - loss: 1.5495 - categorical_accuracy: 0.3062 - val_loss: 1.5143 - val_categorical_accuracy: 0.3000\n",
      "Epoch 13/30\n",
      "11/11 [==============================] - ETA: 0s - loss: 1.5221 - categorical_accuracy: 0.3288\n",
      "Epoch 00013: saving model to model_init_2021-08-0205_16_32.524018/model-00013-1.52215-0.32881-1.47711-0.40000.h5\n",
      "11/11 [==============================] - 119s 11s/step - loss: 1.5221 - categorical_accuracy: 0.3288 - val_loss: 1.4771 - val_categorical_accuracy: 0.4000\n",
      "Epoch 14/30\n",
      "11/11 [==============================] - ETA: 0s - loss: 1.5170 - categorical_accuracy: 0.3469\n",
      "Epoch 00014: saving model to model_init_2021-08-0205_16_32.524018/model-00014-1.51695-0.34691-1.47292-0.34000.h5\n",
      "11/11 [==============================] - 110s 10s/step - loss: 1.5170 - categorical_accuracy: 0.3469 - val_loss: 1.4729 - val_categorical_accuracy: 0.3400\n",
      "Epoch 15/30\n",
      "11/11 [==============================] - ETA: 0s - loss: 1.5074 - categorical_accuracy: 0.3288\n",
      "Epoch 00015: saving model to model_init_2021-08-0205_16_32.524018/model-00015-1.50740-0.32881-1.46318-0.43000.h5\n",
      "11/11 [==============================] - 113s 10s/step - loss: 1.5074 - categorical_accuracy: 0.3288 - val_loss: 1.4632 - val_categorical_accuracy: 0.4300\n",
      "Epoch 16/30\n",
      "11/11 [==============================] - ETA: 0s - loss: 1.5004 - categorical_accuracy: 0.3575\n",
      "Epoch 00016: saving model to model_init_2021-08-0205_16_32.524018/model-00016-1.50044-0.35747-1.44636-0.43000.h5\n",
      "11/11 [==============================] - 108s 10s/step - loss: 1.5004 - categorical_accuracy: 0.3575 - val_loss: 1.4464 - val_categorical_accuracy: 0.4300\n",
      "Epoch 17/30\n",
      "11/11 [==============================] - ETA: 0s - loss: 1.4916 - categorical_accuracy: 0.3454\n",
      "Epoch 00017: saving model to model_init_2021-08-0205_16_32.524018/model-00017-1.49162-0.34540-1.43701-0.43000.h5\n",
      "11/11 [==============================] - 112s 10s/step - loss: 1.4916 - categorical_accuracy: 0.3454 - val_loss: 1.4370 - val_categorical_accuracy: 0.4300\n",
      "Epoch 18/30\n",
      "11/11 [==============================] - ETA: 0s - loss: 1.4961 - categorical_accuracy: 0.3499\n",
      "Epoch 00018: saving model to model_init_2021-08-0205_16_32.524018/model-00018-1.49608-0.34992-1.46946-0.36000.h5\n",
      "11/11 [==============================] - 107s 10s/step - loss: 1.4961 - categorical_accuracy: 0.3499 - val_loss: 1.4695 - val_categorical_accuracy: 0.3600\n",
      "Epoch 19/30\n",
      "11/11 [==============================] - ETA: 0s - loss: 1.4909 - categorical_accuracy: 0.3409\n",
      "Epoch 00019: saving model to model_init_2021-08-0205_16_32.524018/model-00019-1.49086-0.34087-1.43551-0.51000.h5\n",
      "11/11 [==============================] - 111s 10s/step - loss: 1.4909 - categorical_accuracy: 0.3409 - val_loss: 1.4355 - val_categorical_accuracy: 0.5100\n",
      "Epoch 20/30\n",
      "11/11 [==============================] - ETA: 0s - loss: 1.4486 - categorical_accuracy: 0.3876\n",
      "Epoch 00020: saving model to model_init_2021-08-0205_16_32.524018/model-00020-1.44856-0.38763-1.42567-0.45000.h5\n",
      "11/11 [==============================] - 109s 10s/step - loss: 1.4486 - categorical_accuracy: 0.3876 - val_loss: 1.4257 - val_categorical_accuracy: 0.4500\n",
      "Epoch 21/30\n",
      "11/11 [==============================] - ETA: 0s - loss: 1.4495 - categorical_accuracy: 0.4012\n",
      "Epoch 00021: saving model to model_init_2021-08-0205_16_32.524018/model-00021-1.44954-0.40121-1.42754-0.48000.h5\n",
      "11/11 [==============================] - 112s 10s/step - loss: 1.4495 - categorical_accuracy: 0.4012 - val_loss: 1.4275 - val_categorical_accuracy: 0.4800\n",
      "Epoch 22/30\n",
      "11/11 [==============================] - ETA: 0s - loss: 1.4579 - categorical_accuracy: 0.3756\n",
      "Epoch 00022: saving model to model_init_2021-08-0205_16_32.524018/model-00022-1.45788-0.37557-1.44188-0.44000.h5\n",
      "\n",
      "Epoch 00022: ReduceLROnPlateau reducing learning rate to 0.0002500000118743628.\n",
      "11/11 [==============================] - 107s 10s/step - loss: 1.4579 - categorical_accuracy: 0.3756 - val_loss: 1.4419 - val_categorical_accuracy: 0.4400\n",
      "Epoch 23/30\n",
      "11/11 [==============================] - ETA: 0s - loss: 1.4294 - categorical_accuracy: 0.4042\n",
      "Epoch 00023: saving model to model_init_2021-08-0205_16_32.524018/model-00023-1.42942-0.40422-1.39855-0.51000.h5\n",
      "11/11 [==============================] - 116s 11s/step - loss: 1.4294 - categorical_accuracy: 0.4042 - val_loss: 1.3985 - val_categorical_accuracy: 0.5100\n",
      "Epoch 24/30\n",
      "11/11 [==============================] - ETA: 0s - loss: 1.4295 - categorical_accuracy: 0.4148\n",
      "Epoch 00024: saving model to model_init_2021-08-0205_16_32.524018/model-00024-1.42947-0.41478-1.39205-0.54000.h5\n",
      "11/11 [==============================] - 108s 10s/step - loss: 1.4295 - categorical_accuracy: 0.4148 - val_loss: 1.3921 - val_categorical_accuracy: 0.5400\n",
      "Epoch 25/30\n",
      "11/11 [==============================] - ETA: 0s - loss: 1.4265 - categorical_accuracy: 0.4374\n",
      "Epoch 00025: saving model to model_init_2021-08-0205_16_32.524018/model-00025-1.42647-0.43741-1.43620-0.48000.h5\n",
      "11/11 [==============================] - 116s 11s/step - loss: 1.4265 - categorical_accuracy: 0.4374 - val_loss: 1.4362 - val_categorical_accuracy: 0.4800\n",
      "Epoch 26/30\n",
      "11/11 [==============================] - ETA: 0s - loss: 1.4275 - categorical_accuracy: 0.4163\n",
      "Epoch 00026: saving model to model_init_2021-08-0205_16_32.524018/model-00026-1.42751-0.41629-1.39623-0.53000.h5\n",
      "\n",
      "Epoch 00026: ReduceLROnPlateau reducing learning rate to 0.0001250000059371814.\n",
      "11/11 [==============================] - 109s 10s/step - loss: 1.4275 - categorical_accuracy: 0.4163 - val_loss: 1.3962 - val_categorical_accuracy: 0.5300\n",
      "Epoch 27/30\n",
      "11/11 [==============================] - ETA: 0s - loss: 1.4028 - categorical_accuracy: 0.4193\n",
      "Epoch 00027: saving model to model_init_2021-08-0205_16_32.524018/model-00027-1.40276-0.41931-1.43830-0.42000.h5\n",
      "11/11 [==============================] - 116s 11s/step - loss: 1.4028 - categorical_accuracy: 0.4193 - val_loss: 1.4383 - val_categorical_accuracy: 0.4200\n",
      "Epoch 28/30\n",
      "11/11 [==============================] - ETA: 0s - loss: 1.4263 - categorical_accuracy: 0.4178\n",
      "Epoch 00028: saving model to model_init_2021-08-0205_16_32.524018/model-00028-1.42630-0.41780-1.42805-0.55000.h5\n",
      "\n",
      "Epoch 00028: ReduceLROnPlateau reducing learning rate to 6.25000029685907e-05.\n",
      "11/11 [==============================] - 110s 10s/step - loss: 1.4263 - categorical_accuracy: 0.4178 - val_loss: 1.4280 - val_categorical_accuracy: 0.5500\n",
      "Epoch 29/30\n",
      "11/11 [==============================] - ETA: 0s - loss: 1.4075 - categorical_accuracy: 0.4449\n",
      "Epoch 00029: saving model to model_init_2021-08-0205_16_32.524018/model-00029-1.40746-0.44495-1.44426-0.47000.h5\n",
      "11/11 [==============================] - 113s 10s/step - loss: 1.4075 - categorical_accuracy: 0.4449 - val_loss: 1.4443 - val_categorical_accuracy: 0.4700\n",
      "Epoch 30/30\n",
      "11/11 [==============================] - ETA: 0s - loss: 1.3970 - categorical_accuracy: 0.4284\n",
      "Epoch 00030: saving model to model_init_2021-08-0205_16_32.524018/model-00030-1.39699-0.42836-1.44121-0.51000.h5\n",
      "\n",
      "Epoch 00030: ReduceLROnPlateau reducing learning rate to 3.125000148429535e-05.\n",
      "11/11 [==============================] - 110s 10s/step - loss: 1.3970 - categorical_accuracy: 0.4284 - val_loss: 1.4412 - val_categorical_accuracy: 0.5100\n"
     ]
    }
   ],
   "source": [
    "model_history = model.fit_generator(train_generator, steps_per_epoch=steps_per_epoch, epochs=num_epochs, verbose=1,\n",
    "                    callbacks=callbacks_list, validation_data=val_generator, \n",
    "                    validation_steps=validation_steps, class_weight=None, workers=1, initial_epoch=0)"
   ]
  },
  {
   "cell_type": "code",
   "execution_count": 34,
   "metadata": {},
   "outputs": [
    {
     "data": {
      "image/png": "[encoded data removed]",
      "text/plain": [
       "<Figure size 1080x288 with 2 Axes>"
      ]
     },
     "metadata": {
      "needs_background": "light"
     },
     "output_type": "display_data"
    }
   ],
   "source": [
    "#Plot the accuracy of model. \n",
    "plot_accuracy(model_history)"
   ]
  },
  {
   "cell_type": "markdown",
   "metadata": {},
   "source": [
    "## Model-11: CNN + RNN Model with LSTM\n",
    "### Experiment 11: CNN + RNN Model(LSTM) with augmentation image size.\n",
    "### Decision:\n",
    "-\tWill use 15 image frames from each video. \n",
    "-\tVideo has total 30 image frames. We will use alternate image from 30 images. \n",
    "-\tWill keep image size to 120x120.\n",
    "-\tWe will use image cropping augmentation in this experiment. Let’s see if this solves the model overfitting problem in experiment 7. \n",
    "-\tbatch size will be 64. \n",
    "-\tWe will use LSTM in this model like experiment 7. "
   ]
  },
  {
   "cell_type": "code",
   "execution_count": 35,
   "metadata": {},
   "outputs": [
    {
     "name": "stdout",
     "output_type": "stream",
     "text": [
      "# Time = 2021-08-02 06:15:42.101939\n",
      "# training sequences = 663\n",
      "# validation sequences = 100\n",
      "# epochs = 30\n",
      "# Image Index  =  [0, 2, 4, 6, 8, 10, 12, 14, 16, 18, 20, 22, 24, 26, 28]\n",
      "# Number of Video Frames =  15\n",
      "# Image Size =  (120, 120)\n",
      "# batch size = 64\n",
      "# Augmentation = True\n"
     ]
    }
   ],
   "source": [
    "#Set the global parameters\n",
    "#!rm -rf model*\n",
    "curr_dt_time = datetime.datetime.now()\n",
    "num_train_sequences = len(train_doc)\n",
    "num_val_sequences = len(val_doc)\n",
    "num_epochs = 30 # only two in crease for final run\n",
    "batch_size = 64\n",
    "img_idx = [0,2,4,6,8,10,12,14,16,18,20,22,24,26,28] # reducing thsi also to speed it up\n",
    "x = len(img_idx) # Number of video frames needs to be used\n",
    "y = 120 # size of the input image frames of the videos(heigh)\n",
    "z = 120 # size of the input image frames of the videos(width)\n",
    "augment = True #Enable True if want to do image augmentation\n",
    "print_input_summary()"
   ]
  },
  {
   "cell_type": "code",
   "execution_count": 36,
   "metadata": {},
   "outputs": [],
   "source": [
    "# Define some more local variables\n",
    "lstm_cells=128\n",
    "dense_neurons=128\n",
    "dropout=0.25\n",
    "num_classes=5\n",
    "\n",
    "model = Sequential()\n",
    "\n",
    "model.add(TimeDistributed(Conv2D(16, (3, 3) , padding='same', activation='relu'), \n",
    "        input_shape=(x,y,z,3)\n",
    "        ))\n",
    "model.add(TimeDistributed(BatchNormalization()))\n",
    "model.add(TimeDistributed(MaxPooling2D((2, 2))))\n",
    "\n",
    "model.add(TimeDistributed(Conv2D(32, (3, 3) , padding='same', activation='relu')))\n",
    "model.add(TimeDistributed(BatchNormalization()))\n",
    "model.add(TimeDistributed(MaxPooling2D((2, 2))))\n",
    "\n",
    "model.add(TimeDistributed(Conv2D(64, (3, 3) , padding='same', activation='relu')))\n",
    "model.add(TimeDistributed(BatchNormalization()))\n",
    "model.add(TimeDistributed(MaxPooling2D((2, 2))))\n",
    "\n",
    "model.add(TimeDistributed(Conv2D(128, (3, 3) , padding='same', activation='relu')))\n",
    "model.add(TimeDistributed(BatchNormalization()))\n",
    "model.add(TimeDistributed(MaxPooling2D((2, 2))))\n",
    "\n",
    "model.add(TimeDistributed(Flatten()))\n",
    "\n",
    "model.add(LSTM(lstm_cells))\n",
    "model.add(Dropout(dropout))\n",
    "\n",
    "model.add(Dense(dense_neurons,activation='relu'))\n",
    "model.add(Dropout(dropout))\n",
    "\n",
    "model.add(Dense(num_classes, activation='softmax'))"
   ]
  },
  {
   "cell_type": "code",
   "execution_count": 37,
   "metadata": {},
   "outputs": [
    {
     "name": "stdout",
     "output_type": "stream",
     "text": [
      "Model: \"sequential_10\"\n",
      "_________________________________________________________________\n",
      "Layer (type)                 Output Shape              Param #   \n",
      "=================================================================\n",
      "time_distributed_37 (TimeDis (None, 15, 120, 120, 16)  448       \n",
      "_________________________________________________________________\n",
      "time_distributed_38 (TimeDis (None, 15, 120, 120, 16)  64        \n",
      "_________________________________________________________________\n",
      "time_distributed_39 (TimeDis (None, 15, 60, 60, 16)    0         \n",
      "_________________________________________________________________\n",
      "time_distributed_40 (TimeDis (None, 15, 60, 60, 32)    4640      \n",
      "_________________________________________________________________\n",
      "time_distributed_41 (TimeDis (None, 15, 60, 60, 32)    128       \n",
      "_________________________________________________________________\n",
      "time_distributed_42 (TimeDis (None, 15, 30, 30, 32)    0         \n",
      "_________________________________________________________________\n",
      "time_distributed_43 (TimeDis (None, 15, 30, 30, 64)    18496     \n",
      "_________________________________________________________________\n",
      "time_distributed_44 (TimeDis (None, 15, 30, 30, 64)    256       \n",
      "_________________________________________________________________\n",
      "time_distributed_45 (TimeDis (None, 15, 15, 15, 64)    0         \n",
      "_________________________________________________________________\n",
      "time_distributed_46 (TimeDis (None, 15, 15, 15, 128)   73856     \n",
      "_________________________________________________________________\n",
      "time_distributed_47 (TimeDis (None, 15, 15, 15, 128)   512       \n",
      "_________________________________________________________________\n",
      "time_distributed_48 (TimeDis (None, 15, 7, 7, 128)     0         \n",
      "_________________________________________________________________\n",
      "time_distributed_49 (TimeDis (None, 15, 6272)          0         \n",
      "_________________________________________________________________\n",
      "lstm_9 (LSTM)                (None, 128)               3277312   \n",
      "_________________________________________________________________\n",
      "dropout_19 (Dropout)         (None, 128)               0         \n",
      "_________________________________________________________________\n",
      "dense_21 (Dense)             (None, 128)               16512     \n",
      "_________________________________________________________________\n",
      "dropout_20 (Dropout)         (None, 128)               0         \n",
      "_________________________________________________________________\n",
      "dense_22 (Dense)             (None, 5)                 645       \n",
      "=================================================================\n",
      "Total params: 3,392,869\n",
      "Trainable params: 3,392,389\n",
      "Non-trainable params: 480\n",
      "_________________________________________________________________\n",
      "None\n"
     ]
    }
   ],
   "source": [
    "optimiser = optimizers.SGD(lr=0.001, decay=1e-6, momentum=0.7, nesterov=True)\n",
    "model.compile(optimizer=optimiser, loss='categorical_crossentropy', metrics=['categorical_accuracy'])\n",
    "print (model.summary())"
   ]
  },
  {
   "cell_type": "code",
   "execution_count": 38,
   "metadata": {},
   "outputs": [],
   "source": [
    "train_generator = generator(train_path, train_doc, batch_size)\n",
    "val_generator = generator(val_path, val_doc, batch_size)"
   ]
  },
  {
   "cell_type": "code",
   "execution_count": 39,
   "metadata": {},
   "outputs": [],
   "source": [
    "model_name = 'model_init' + '_' + str(curr_dt_time).replace(' ','').replace(':','_') + '/'\n",
    "    \n",
    "if not os.path.exists(model_name):\n",
    "    os.mkdir(model_name)\n",
    "        \n",
    "filepath = model_name + 'model-{epoch:05d}-{loss:.5f}-{categorical_accuracy:.5f}-{val_loss:.5f}-{val_categorical_accuracy:.5f}.h5'\n",
    "\n",
    "checkpoint = ModelCheckpoint(filepath, monitor='val_loss', verbose=1, save_best_only=False, save_weights_only=False, mode='auto', save_freq='epoch')\n",
    "\n",
    "LR = ReduceLROnPlateau(monitor='val_loss', factor=0.5, patience=2, verbose=1, mode='min', min_delta=0.0001, cooldown=0, min_lr=0.00001)\n",
    "callbacks_list = [checkpoint, LR]"
   ]
  },
  {
   "cell_type": "code",
   "execution_count": 40,
   "metadata": {},
   "outputs": [],
   "source": [
    "if (num_train_sequences%batch_size) == 0:\n",
    "    steps_per_epoch = int(num_train_sequences/batch_size)\n",
    "else:\n",
    "    steps_per_epoch = (num_train_sequences//batch_size) + 1\n",
    "\n",
    "if (num_val_sequences%batch_size) == 0:\n",
    "    validation_steps = int(num_val_sequences/batch_size)\n",
    "else:\n",
    "    validation_steps = (num_val_sequences//batch_size) + 1"
   ]
  },
  {
   "cell_type": "code",
   "execution_count": 41,
   "metadata": {},
   "outputs": [
    {
     "name": "stdout",
     "output_type": "stream",
     "text": [
      "# Source path =  datasets/Project_data/train\n",
      "# batch size = 64\n",
      "# Augmentation = True\n",
      "Epoch 1/30\n",
      "11/11 [==============================] - ETA: 0s - loss: 1.6689 - categorical_accuracy: 0.2262 # Source path =  datasets/Project_data/val\n",
      "# batch size = 64\n",
      "# Augmentation = True\n",
      "\n",
      "Epoch 00001: saving model to model_init_2021-08-0206_15_42.101939/model-00001-1.66885-0.22624-1.60775-0.25500.h5\n",
      "11/11 [==============================] - 158s 14s/step - loss: 1.6689 - categorical_accuracy: 0.2262 - val_loss: 1.6077 - val_categorical_accuracy: 0.2550\n",
      "Epoch 2/30\n",
      "11/11 [==============================] - ETA: 0s - loss: 1.5697 - categorical_accuracy: 0.2843 \n",
      "Epoch 00002: saving model to model_init_2021-08-0206_15_42.101939/model-00002-1.56970-0.28431-1.61367-0.12500.h5\n",
      "11/11 [==============================] - 151s 14s/step - loss: 1.5697 - categorical_accuracy: 0.2843 - val_loss: 1.6137 - val_categorical_accuracy: 0.1250\n",
      "Epoch 3/30\n",
      "11/11 [==============================] - ETA: 0s - loss: 1.4820 - categorical_accuracy: 0.3499 \n",
      "Epoch 00003: saving model to model_init_2021-08-0206_15_42.101939/model-00003-1.48200-0.34992-1.60880-0.21500.h5\n",
      "\n",
      "Epoch 00003: ReduceLROnPlateau reducing learning rate to 0.0005000000237487257.\n",
      "11/11 [==============================] - 160s 15s/step - loss: 1.4820 - categorical_accuracy: 0.3499 - val_loss: 1.6088 - val_categorical_accuracy: 0.2150\n",
      "Epoch 4/30\n",
      "11/11 [==============================] - ETA: 0s - loss: 1.4161 - categorical_accuracy: 0.4155 \n",
      "Epoch 00004: saving model to model_init_2021-08-0206_15_42.101939/model-00004-1.41615-0.41554-1.61426-0.18000.h5\n",
      "11/11 [==============================] - 140s 13s/step - loss: 1.4161 - categorical_accuracy: 0.4155 - val_loss: 1.6143 - val_categorical_accuracy: 0.1800\n",
      "Epoch 5/30\n",
      "11/11 [==============================] - ETA: 0s - loss: 1.3800 - categorical_accuracy: 0.4563 \n",
      "Epoch 00005: saving model to model_init_2021-08-0206_15_42.101939/model-00005-1.38000-0.45626-1.61953-0.18000.h5\n",
      "\n",
      "Epoch 00005: ReduceLROnPlateau reducing learning rate to 0.0002500000118743628.\n",
      "11/11 [==============================] - 151s 14s/step - loss: 1.3800 - categorical_accuracy: 0.4563 - val_loss: 1.6195 - val_categorical_accuracy: 0.1800\n",
      "Epoch 6/30\n",
      "11/11 [==============================] - ETA: 0s - loss: 1.3370 - categorical_accuracy: 0.4834 \n",
      "Epoch 00006: saving model to model_init_2021-08-0206_15_42.101939/model-00006-1.33695-0.48341-1.62945-0.18000.h5\n",
      "11/11 [==============================] - 142s 13s/step - loss: 1.3370 - categorical_accuracy: 0.4834 - val_loss: 1.6295 - val_categorical_accuracy: 0.1800\n",
      "Epoch 7/30\n",
      "11/11 [==============================] - ETA: 0s - loss: 1.3190 - categorical_accuracy: 0.4902 \n",
      "Epoch 00007: saving model to model_init_2021-08-0206_15_42.101939/model-00007-1.31895-0.49020-1.63941-0.21000.h5\n",
      "\n",
      "Epoch 00007: ReduceLROnPlateau reducing learning rate to 0.0001250000059371814.\n",
      "11/11 [==============================] - 153s 14s/step - loss: 1.3190 - categorical_accuracy: 0.4902 - val_loss: 1.6394 - val_categorical_accuracy: 0.2100\n",
      "Epoch 8/30\n",
      "11/11 [==============================] - ETA: 0s - loss: 1.2883 - categorical_accuracy: 0.5279 \n",
      "Epoch 00008: saving model to model_init_2021-08-0206_15_42.101939/model-00008-1.28833-0.52790-1.62559-0.16000.h5\n",
      "11/11 [==============================] - 142s 13s/step - loss: 1.2883 - categorical_accuracy: 0.5279 - val_loss: 1.6256 - val_categorical_accuracy: 0.1600\n",
      "Epoch 9/30\n",
      "11/11 [==============================] - ETA: 0s - loss: 1.2754 - categorical_accuracy: 0.5204 \n",
      "Epoch 00009: saving model to model_init_2021-08-0206_15_42.101939/model-00009-1.27543-0.52036-1.63834-0.13500.h5\n",
      "\n",
      "Epoch 00009: ReduceLROnPlateau reducing learning rate to 6.25000029685907e-05.\n",
      "11/11 [==============================] - 145s 13s/step - loss: 1.2754 - categorical_accuracy: 0.5204 - val_loss: 1.6383 - val_categorical_accuracy: 0.1350\n",
      "Epoch 10/30\n",
      "11/11 [==============================] - ETA: 0s - loss: 1.2675 - categorical_accuracy: 0.5400 \n",
      "Epoch 00010: saving model to model_init_2021-08-0206_15_42.101939/model-00010-1.26749-0.53997-1.62718-0.17500.h5\n",
      "11/11 [==============================] - 142s 13s/step - loss: 1.2675 - categorical_accuracy: 0.5400 - val_loss: 1.6272 - val_categorical_accuracy: 0.1750\n",
      "Epoch 11/30\n",
      "11/11 [==============================] - ETA: 0s - loss: 1.2542 - categorical_accuracy: 0.5204 \n",
      "Epoch 00011: saving model to model_init_2021-08-0206_15_42.101939/model-00011-1.25422-0.52036-1.62870-0.22000.h5\n",
      "\n",
      "Epoch 00011: ReduceLROnPlateau reducing learning rate to 3.125000148429535e-05.\n",
      "11/11 [==============================] - 157s 14s/step - loss: 1.2542 - categorical_accuracy: 0.5204 - val_loss: 1.6287 - val_categorical_accuracy: 0.2200\n",
      "Epoch 12/30\n",
      "11/11 [==============================] - ETA: 0s - loss: 1.2746 - categorical_accuracy: 0.5422 \n",
      "Epoch 00012: saving model to model_init_2021-08-0206_15_42.101939/model-00012-1.27457-0.54223-1.63558-0.17500.h5\n",
      "11/11 [==============================] - 152s 14s/step - loss: 1.2746 - categorical_accuracy: 0.5422 - val_loss: 1.6356 - val_categorical_accuracy: 0.1750\n",
      "Epoch 13/30\n",
      "11/11 [==============================] - ETA: 0s - loss: 1.2396 - categorical_accuracy: 0.5422 \n",
      "Epoch 00013: saving model to model_init_2021-08-0206_15_42.101939/model-00013-1.23958-0.54223-1.64060-0.12500.h5\n",
      "\n",
      "Epoch 00013: ReduceLROnPlateau reducing learning rate to 1.5625000742147677e-05.\n",
      "11/11 [==============================] - 159s 14s/step - loss: 1.2396 - categorical_accuracy: 0.5422 - val_loss: 1.6406 - val_categorical_accuracy: 0.1250\n",
      "Epoch 14/30\n",
      "11/11 [==============================] - ETA: 0s - loss: 1.2795 - categorical_accuracy: 0.5106 \n",
      "Epoch 00014: saving model to model_init_2021-08-0206_15_42.101939/model-00014-1.27952-0.51056-1.64191-0.15500.h5\n",
      "11/11 [==============================] - 152s 14s/step - loss: 1.2795 - categorical_accuracy: 0.5106 - val_loss: 1.6419 - val_categorical_accuracy: 0.1550\n",
      "Epoch 15/30\n",
      "11/11 [==============================] - ETA: 0s - loss: 1.2744 - categorical_accuracy: 0.5045 \n",
      "Epoch 00015: saving model to model_init_2021-08-0206_15_42.101939/model-00015-1.27440-0.50452-1.63519-0.15000.h5\n",
      "\n",
      "Epoch 00015: ReduceLROnPlateau reducing learning rate to 1e-05.\n",
      "11/11 [==============================] - 157s 14s/step - loss: 1.2744 - categorical_accuracy: 0.5045 - val_loss: 1.6352 - val_categorical_accuracy: 0.1500\n",
      "Epoch 16/30\n",
      "11/11 [==============================] - ETA: 0s - loss: 1.2507 - categorical_accuracy: 0.5324 \n",
      "Epoch 00016: saving model to model_init_2021-08-0206_15_42.101939/model-00016-1.25068-0.53243-1.63857-0.19000.h5\n",
      "11/11 [==============================] - 151s 14s/step - loss: 1.2507 - categorical_accuracy: 0.5324 - val_loss: 1.6386 - val_categorical_accuracy: 0.1900\n",
      "Epoch 17/30\n",
      "11/11 [==============================] - ETA: 0s - loss: 1.2542 - categorical_accuracy: 0.5317 \n",
      "Epoch 00017: saving model to model_init_2021-08-0206_15_42.101939/model-00017-1.25416-0.53167-1.66710-0.15500.h5\n",
      "11/11 [==============================] - 159s 14s/step - loss: 1.2542 - categorical_accuracy: 0.5317 - val_loss: 1.6671 - val_categorical_accuracy: 0.1550\n",
      "Epoch 18/30\n",
      "11/11 [==============================] - ETA: 0s - loss: 1.2604 - categorical_accuracy: 0.5475 \n",
      "Epoch 00018: saving model to model_init_2021-08-0206_15_42.101939/model-00018-1.26044-0.54751-1.65506-0.18000.h5\n",
      "11/11 [==============================] - 152s 14s/step - loss: 1.2604 - categorical_accuracy: 0.5475 - val_loss: 1.6551 - val_categorical_accuracy: 0.1800\n",
      "Epoch 19/30\n",
      "11/11 [==============================] - ETA: 0s - loss: 1.2667 - categorical_accuracy: 0.5226 \n",
      "Epoch 00019: saving model to model_init_2021-08-0206_15_42.101939/model-00019-1.26665-0.52262-1.62350-0.22000.h5\n",
      "11/11 [==============================] - 160s 15s/step - loss: 1.2667 - categorical_accuracy: 0.5226 - val_loss: 1.6235 - val_categorical_accuracy: 0.2200\n",
      "Epoch 20/30\n",
      "11/11 [==============================] - ETA: 0s - loss: 1.2715 - categorical_accuracy: 0.5226 \n",
      "Epoch 00020: saving model to model_init_2021-08-0206_15_42.101939/model-00020-1.27146-0.52262-1.61748-0.22500.h5\n",
      "11/11 [==============================] - 143s 13s/step - loss: 1.2715 - categorical_accuracy: 0.5226 - val_loss: 1.6175 - val_categorical_accuracy: 0.2250\n",
      "Epoch 21/30\n",
      "11/11 [==============================] - ETA: 0s - loss: 1.2540 - categorical_accuracy: 0.5422 \n",
      "Epoch 00021: saving model to model_init_2021-08-0206_15_42.101939/model-00021-1.25397-0.54223-1.66835-0.15000.h5\n",
      "11/11 [==============================] - 156s 14s/step - loss: 1.2540 - categorical_accuracy: 0.5422 - val_loss: 1.6684 - val_categorical_accuracy: 0.1500\n",
      "Epoch 22/30\n",
      "11/11 [==============================] - ETA: 0s - loss: 1.2587 - categorical_accuracy: 0.5339 \n",
      "Epoch 00022: saving model to model_init_2021-08-0206_15_42.101939/model-00022-1.25872-0.53394-1.64485-0.20500.h5\n",
      "11/11 [==============================] - 159s 14s/step - loss: 1.2587 - categorical_accuracy: 0.5339 - val_loss: 1.6448 - val_categorical_accuracy: 0.2050\n",
      "Epoch 23/30\n",
      "11/11 [==============================] - ETA: 0s - loss: 1.2529 - categorical_accuracy: 0.5309 \n",
      "Epoch 00023: saving model to model_init_2021-08-0206_15_42.101939/model-00023-1.25290-0.53092-1.62666-0.23500.h5\n",
      "11/11 [==============================] - 168s 15s/step - loss: 1.2529 - categorical_accuracy: 0.5309 - val_loss: 1.6267 - val_categorical_accuracy: 0.2350\n",
      "Epoch 24/30\n",
      "11/11 [==============================] - ETA: 0s - loss: 1.2554 - categorical_accuracy: 0.5475 \n",
      "Epoch 00024: saving model to model_init_2021-08-0206_15_42.101939/model-00024-1.25538-0.54751-1.63489-0.20000.h5\n",
      "11/11 [==============================] - 160s 15s/step - loss: 1.2554 - categorical_accuracy: 0.5475 - val_loss: 1.6349 - val_categorical_accuracy: 0.2000\n",
      "Epoch 25/30\n",
      "11/11 [==============================] - ETA: 0s - loss: 1.2499 - categorical_accuracy: 0.5460 \n",
      "Epoch 00025: saving model to model_init_2021-08-0206_15_42.101939/model-00025-1.24993-0.54600-1.68412-0.17000.h5\n",
      "11/11 [==============================] - 169s 15s/step - loss: 1.2499 - categorical_accuracy: 0.5460 - val_loss: 1.6841 - val_categorical_accuracy: 0.1700\n",
      "Epoch 26/30\n",
      "11/11 [==============================] - ETA: 0s - loss: 1.2606 - categorical_accuracy: 0.5309 \n",
      "Epoch 00026: saving model to model_init_2021-08-0206_15_42.101939/model-00026-1.26057-0.53092-1.60919-0.23500.h5\n",
      "11/11 [==============================] - 182s 17s/step - loss: 1.2606 - categorical_accuracy: 0.5309 - val_loss: 1.6092 - val_categorical_accuracy: 0.2350\n",
      "Epoch 27/30\n",
      "11/11 [==============================] - ETA: 0s - loss: 1.2631 - categorical_accuracy: 0.5317 \n",
      "Epoch 00027: saving model to model_init_2021-08-0206_15_42.101939/model-00027-1.26308-0.53167-1.59820-0.25000.h5\n",
      "11/11 [==============================] - 186s 17s/step - loss: 1.2631 - categorical_accuracy: 0.5317 - val_loss: 1.5982 - val_categorical_accuracy: 0.2500\n",
      "Epoch 28/30\n",
      "11/11 [==============================] - ETA: 0s - loss: 1.2603 - categorical_accuracy: 0.5264 \n",
      "Epoch 00028: saving model to model_init_2021-08-0206_15_42.101939/model-00028-1.26033-0.52640-1.63927-0.24000.h5\n",
      "11/11 [==============================] - 178s 16s/step - loss: 1.2603 - categorical_accuracy: 0.5264 - val_loss: 1.6393 - val_categorical_accuracy: 0.2400\n",
      "Epoch 29/30\n",
      "11/11 [==============================] - ETA: 0s - loss: 1.2556 - categorical_accuracy: 0.5415 \n",
      "Epoch 00029: saving model to model_init_2021-08-0206_15_42.101939/model-00029-1.25560-0.54148-1.58874-0.28500.h5\n",
      "11/11 [==============================] - 187s 17s/step - loss: 1.2556 - categorical_accuracy: 0.5415 - val_loss: 1.5887 - val_categorical_accuracy: 0.2850\n",
      "Epoch 30/30\n",
      "11/11 [==============================] - ETA: 0s - loss: 1.2407 - categorical_accuracy: 0.5543 \n",
      "Epoch 00030: saving model to model_init_2021-08-0206_15_42.101939/model-00030-1.24067-0.55430-1.59149-0.27500.h5\n",
      "11/11 [==============================] - 173s 16s/step - loss: 1.2407 - categorical_accuracy: 0.5543 - val_loss: 1.5915 - val_categorical_accuracy: 0.2750\n"
     ]
    }
   ],
   "source": [
    "model_history = model.fit_generator(train_generator, steps_per_epoch=steps_per_epoch, epochs=num_epochs, verbose=1,\n",
    "                    callbacks=callbacks_list, validation_data=val_generator, \n",
    "                    validation_steps=validation_steps, class_weight=None, workers=1, initial_epoch=0)"
   ]
  },
  {
   "cell_type": "code",
   "execution_count": 42,
   "metadata": {},
   "outputs": [
    {
     "data": {
      "image/png": "[encoded data removed]",
      "text/plain": [
       "<Figure size 1080x288 with 2 Axes>"
      ]
     },
     "metadata": {
      "needs_background": "light"
     },
     "output_type": "display_data"
    }
   ],
   "source": [
    "#Plot the accuracy of model. \n",
    "plot_accuracy(model_history)"
   ]
  },
  {
   "cell_type": "markdown",
   "metadata": {
    "id": "mCWqtiTR0JTW"
   },
   "source": [
    "## Final Model-12:  Transfer Learning with Mobilenet. \n",
    "### Final Experiment 12: Transfer Learning with MobileNet and LSTM with more augmentation.\n",
    "### Decision:\n",
    "-\tWill use 15 image frames from each video. \n",
    "-\tVideo has total 30 image frames. We will use alternate image from 30 images. \n",
    "-\tWill increase image size to 120x120\n",
    "-\tbatch size will be 64. \n",
    "-\tWe will use LSTM in this model.\n",
    "- We will do more image augmentation in this experiment"
   ]
  },
  {
   "cell_type": "code",
   "execution_count": 11,
   "metadata": {},
   "outputs": [],
   "source": [
    "def generator(source_path, folder_list, batch_size):\n",
    "    print('# Source path = ', source_path)\n",
    "    print('# batch size =', batch_size)\n",
    "    print('# Augmentation =', augment)\n",
    "    while True:\n",
    "        t = np.random.permutation(folder_list)\n",
    "        num_batches = int(len(t)//batch_size)\n",
    "        for batch in range(num_batches):\n",
    "    \n",
    "            batch_data = np.zeros((batch_size,len(img_idx),y,z,3)) \n",
    "            batch_labels = np.zeros((batch_size,5)) \n",
    "\n",
    "            if (augment): batch_data_aug = np.zeros((batch_size,len(img_idx),y,z,3))\n",
    "\n",
    "            for folder in range(batch_size): \n",
    "                imgs = os.listdir(source_path+'/'+ t[folder + (batch*batch_size)].split(';')[0]) \n",
    "                for idx,item in enumerate(img_idx):\n",
    "                    #performing image reading and resizing\n",
    "                    image = imageio.imread(source_path+'/'+ t[folder + (batch*batch_size)].strip().split(';')[0]+'/'+imgs[item]).astype(np.float32)\n",
    "                    image_resized = resize(image,(y,z,3))\n",
    "                    if (augment):\n",
    "                        #normalizing the images\n",
    "                        batch_data[folder,idx,:,:,0] = (image_resized[:,:,0])/255\n",
    "                        batch_data[folder,idx,:,:,1] = (image_resized[:,:,1])/255\n",
    "                        batch_data[folder,idx,:,:,2] = (image_resized[:,:,2])/255\n",
    "                        \n",
    "                        shifted = cv2.warpAffine(image, \n",
    "                                                 np.float32([[1, 0, np.random.randint(-30,30)],[0, 1, np.random.randint(-30,30)]]), \n",
    "                                                (image.shape[1], image.shape[0]))\n",
    "\n",
    "                        gray = cv2.cvtColor(shifted,cv2.COLOR_BGR2GRAY)\n",
    "\n",
    "                        x0, y0 = np.argwhere(gray > 0).min(axis=0)\n",
    "                        x1, y1 = np.argwhere(gray > 0).max(axis=0) \n",
    "                        # cropping the images to have the targeted gestures and remove the noise from the images.\n",
    "                        cropped=shifted[x0:x1,y0:y1,:]\n",
    "\n",
    "                        image_resized=resize(cropped,(y,z,3))\n",
    "                        M = cv2.getRotationMatrix2D((z//2,y//2), np.random.randint(-10,10), 1.0)\n",
    "                        rotated = cv2.warpAffine(image_resized, M, (y, z))\n",
    "\n",
    "                        batch_data_aug[folder,idx,:,:,0] = (rotated[:,:,0])/255\n",
    "                        batch_data_aug[folder,idx,:,:,1] = (rotated[:,:,1])/255\n",
    "                        batch_data_aug[folder,idx,:,:,2] = (rotated[:,:,2])/255\n",
    "                        \n",
    "                    else:\n",
    "                        if (image.shape[0] == 120 and image.shape[1] == 160):\n",
    "                            image_resized = resize(image[:,20:140,:],(y,z,3))\n",
    "                        else:\n",
    "                            image_resized = resize(image,(y,z,3))\n",
    "                        #normalizing the images\n",
    "                        batch_data[folder,idx,:,:,0] = (image_resized[:,:,0])/255\n",
    "                        batch_data[folder,idx,:,:,1] = (image_resized[:,:,1])/255\n",
    "                        batch_data[folder,idx,:,:,2] = (image_resized[:,:,2])/255\n",
    "\n",
    "\n",
    "                batch_labels[folder, int(t[folder + (batch*batch_size)].strip().split(';')[2])] = 1\n",
    "            if (augment):\n",
    "                    batch_data=np.concatenate([batch_data,batch_data_aug])\n",
    "                    batch_labels=np.concatenate([batch_labels,batch_labels])\n",
    "\n",
    "            yield batch_data,batch_labels\n",
    "        \n",
    "        remaining_seq=len(t)%batch_size\n",
    "        if (remaining_seq != 0):\n",
    "            seq_len = remaining_seq if remaining_seq else batch_size\n",
    "            batch_data = np.zeros((seq_len,len(img_idx),y,z,3)) \n",
    "            batch_labels = np.zeros((seq_len,5)) \n",
    "            if (augment): batch_data_aug = np.zeros((seq_len,len(img_idx),y,z,3))\n",
    "            for folder in range(seq_len):\n",
    "                imgs = os.listdir(source_path+'/'+ t[folder + (batch*batch_size)].split(';')[0])\n",
    "                for idx,item in enumerate(img_idx):\n",
    "                    #performing image reading and resizing\n",
    "                    image = imageio.imread(source_path+'/'+ t[folder + (batch*batch_size)].strip().split(';')[0]+'/'+imgs[item]).astype(np.float32)\n",
    "                    image_resized = resize(image,(y,z,3))\n",
    "                    if (augment):\n",
    "                        #normalizing the images\n",
    "                        batch_data[folder,idx,:,:,0] = (image_resized[:,:,0])/255\n",
    "                        batch_data[folder,idx,:,:,1] = (image_resized[:,:,1])/255\n",
    "                        batch_data[folder,idx,:,:,2] = (image_resized[:,:,2])/255\n",
    "                        \n",
    "                        shifted = cv2.warpAffine(image, \n",
    "                                                 np.float32([[1, 0, np.random.randint(-30,30)],[0, 1, np.random.randint(-30,30)]]), \n",
    "                                                (image.shape[1], image.shape[0]))\n",
    "\n",
    "                        gray = cv2.cvtColor(shifted,cv2.COLOR_BGR2GRAY)\n",
    "\n",
    "                        x0, y0 = np.argwhere(gray > 0).min(axis=0)\n",
    "                        x1, y1 = np.argwhere(gray > 0).max(axis=0) \n",
    "                        # cropping the images to have the targeted gestures and remove the noise from the images.\n",
    "                        cropped=shifted[x0:x1,y0:y1,:]\n",
    "\n",
    "                        image_resized=resize(cropped,(y,z,3))\n",
    "                        M = cv2.getRotationMatrix2D((z//2,y//2), np.random.randint(-10,10), 1.0)\n",
    "                        rotated = cv2.warpAffine(image_resized, M, (y, z))\n",
    "\n",
    "                        batch_data_aug[folder,idx,:,:,0] = (rotated[:,:,0])/255\n",
    "                        batch_data_aug[folder,idx,:,:,1] = (rotated[:,:,1])/255\n",
    "                        batch_data_aug[folder,idx,:,:,2] = (rotated[:,:,2])/255\n",
    "                \n",
    "                    else:\n",
    "                        if (image.shape[0] == 120 and image.shape[1] == 160):\n",
    "                            image_resized = resize(image[:,20:140,:],(y,z,3))\n",
    "                        else:\n",
    "                            image_resized = resize(image,(y,z,3))\n",
    "                        #normalizing the images\n",
    "                        batch_data[folder,idx,:,:,0] = (image_resized[:,:,0])/255\n",
    "                        batch_data[folder,idx,:,:,1] = (image_resized[:,:,1])/255\n",
    "                        batch_data[folder,idx,:,:,2] = (image_resized[:,:,2])/255\n",
    "                            \n",
    "                batch_labels[folder, int(t[folder + (batch*batch_size)].strip().split(';')[2])] = 1\n",
    "            if (augment):\n",
    "                batch_data=np.concatenate([batch_data,batch_data_aug])\n",
    "                batch_labels=np.concatenate([batch_labels,batch_labels])\n",
    "            yield batch_data,batch_labels                        "
   ]
  },
  {
   "cell_type": "code",
   "execution_count": 12,
   "metadata": {},
   "outputs": [
    {
     "name": "stdout",
     "output_type": "stream",
     "text": [
      "# Time = 2021-08-02 08:55:39.587373\n",
      "# training sequences = 663\n",
      "# validation sequences = 100\n",
      "# epochs = 20\n",
      "# Image Index  =  [0, 2, 4, 6, 8, 10, 12, 14, 16, 18, 20, 22, 24, 26, 28]\n",
      "# Number of Video Frames =  15\n",
      "# Image Size =  (120, 120)\n",
      "# batch size = 64\n",
      "# Augmentation = True\n"
     ]
    }
   ],
   "source": [
    "#Set the global parameters\n",
    "#!rm -rf model*\n",
    "curr_dt_time = datetime.datetime.now()\n",
    "num_train_sequences = len(train_doc)\n",
    "num_val_sequences = len(val_doc)\n",
    "num_epochs = 20 # only two in crease for final run\n",
    "batch_size = 64\n",
    "img_idx = [0,2,4,6,8,10,12,14,16,18,20,22,24,26,28] # reducing thsi also to speed it up\n",
    "x = len(img_idx) # Number of video frames needs to be used\n",
    "y = 120 # size of the input image frames of the videos(heigh)\n",
    "z = 120 # size of the input image frames of the videos(width)\n",
    "augment = True #Enable True if want to do image augmentation\n",
    "print_input_summary()"
   ]
  },
  {
   "cell_type": "code",
   "execution_count": 13,
   "metadata": {},
   "outputs": [
    {
     "name": "stdout",
     "output_type": "stream",
     "text": [
      "WARNING:tensorflow:`input_shape` is undefined or non-square, or `rows` is not in [128, 160, 192, 224]. Weights for input shape (224, 224) will be loaded as the default.\n"
     ]
    }
   ],
   "source": [
    "# Define some more local variables\n",
    "lstm_cells=64\n",
    "dense_neurons=64\n",
    "dropout=0.25\n",
    "\n",
    "mobilenet_transfer = mobilenet.MobileNet(include_top=False, weights='imagenet', input_shape=(y, z, 3), alpha=1.0, depth_multiplier=1)\n",
    "\n",
    "model = Sequential()\n",
    "model.add(TimeDistributed(mobilenet_transfer,input_shape=(x,y,z,3)))\n",
    "\n",
    "for layer in model.layers:\n",
    "    layer.trainable = False\n",
    "    \n",
    "model.add(TimeDistributed(BatchNormalization()))\n",
    "model.add(TimeDistributed(MaxPooling2D((2, 2))))\n",
    "model.add(TimeDistributed(Flatten()))\n",
    "\n",
    "model.add(LSTM(lstm_cells))\n",
    "model.add(Dropout(dropout))\n",
    "        \n",
    "model.add(Dense(dense_neurons,activation='relu'))\n",
    "model.add(Dropout(dropout))\n",
    "        \n",
    "model.add(Dense(5, activation='softmax'))"
   ]
  },
  {
   "cell_type": "code",
   "execution_count": 14,
   "metadata": {},
   "outputs": [
    {
     "name": "stdout",
     "output_type": "stream",
     "text": [
      "Model: \"sequential\"\n",
      "_________________________________________________________________\n",
      "Layer (type)                 Output Shape              Param #   \n",
      "=================================================================\n",
      "time_distributed (TimeDistri (None, 15, 3, 3, 1024)    3228864   \n",
      "_________________________________________________________________\n",
      "time_distributed_1 (TimeDist (None, 15, 3, 3, 1024)    4096      \n",
      "_________________________________________________________________\n",
      "time_distributed_2 (TimeDist (None, 15, 1, 1, 1024)    0         \n",
      "_________________________________________________________________\n",
      "time_distributed_3 (TimeDist (None, 15, 1024)          0         \n",
      "_________________________________________________________________\n",
      "lstm (LSTM)                  (None, 64)                278784    \n",
      "_________________________________________________________________\n",
      "dropout (Dropout)            (None, 64)                0         \n",
      "_________________________________________________________________\n",
      "dense (Dense)                (None, 64)                4160      \n",
      "_________________________________________________________________\n",
      "dropout_1 (Dropout)          (None, 64)                0         \n",
      "_________________________________________________________________\n",
      "dense_1 (Dense)              (None, 5)                 325       \n",
      "=================================================================\n",
      "Total params: 3,516,229\n",
      "Trainable params: 285,317\n",
      "Non-trainable params: 3,230,912\n",
      "_________________________________________________________________\n",
      "None\n"
     ]
    }
   ],
   "source": [
    "optimiser = optimizers.Adam(lr=0.001)\n",
    "model.compile(optimizer=optimiser, loss='categorical_crossentropy', metrics=['categorical_accuracy'])\n",
    "print (model.summary())"
   ]
  },
  {
   "cell_type": "code",
   "execution_count": 15,
   "metadata": {},
   "outputs": [],
   "source": [
    "train_generator = generator(train_path, train_doc, batch_size)\n",
    "val_generator = generator(val_path, val_doc, batch_size)"
   ]
  },
  {
   "cell_type": "code",
   "execution_count": 16,
   "metadata": {},
   "outputs": [],
   "source": [
    "model_name = 'model_init' + '_' + str(curr_dt_time).replace(' ','').replace(':','_') + '/'\n",
    "    \n",
    "if not os.path.exists(model_name):\n",
    "    os.mkdir(model_name)\n",
    "        \n",
    "filepath = model_name + 'model-{epoch:05d}-{loss:.5f}-{categorical_accuracy:.5f}-{val_loss:.5f}-{val_categorical_accuracy:.5f}.h5'\n",
    "\n",
    "checkpoint = ModelCheckpoint(filepath, monitor='val_loss', verbose=1, save_best_only=False, save_weights_only=False, mode='auto', save_freq='epoch')\n",
    "\n",
    "LR = ReduceLROnPlateau(monitor='val_loss', factor=0.5, patience=2, verbose=1, mode='min', min_delta=0.0001, cooldown=0, min_lr=0.00001)\n",
    "callbacks_list = [checkpoint, LR]"
   ]
  },
  {
   "cell_type": "code",
   "execution_count": 17,
   "metadata": {},
   "outputs": [],
   "source": [
    "if (num_train_sequences%batch_size) == 0:\n",
    "    steps_per_epoch = int(num_train_sequences/batch_size)\n",
    "else:\n",
    "    steps_per_epoch = (num_train_sequences//batch_size) + 1\n",
    "\n",
    "if (num_val_sequences%batch_size) == 0:\n",
    "    validation_steps = int(num_val_sequences/batch_size)\n",
    "else:\n",
    "    validation_steps = (num_val_sequences//batch_size) + 1"
   ]
  },
  {
   "cell_type": "code",
   "execution_count": 18,
   "metadata": {},
   "outputs": [
    {
     "name": "stdout",
     "output_type": "stream",
     "text": [
      "WARNING:tensorflow:From <ipython-input-18-09d6bf762e4d>:3: Model.fit_generator (from tensorflow.python.keras.engine.training) is deprecated and will be removed in a future version.\n",
      "Instructions for updating:\n",
      "Please use Model.fit, which supports generators.\n",
      "# Source path =  datasets/Project_data/train\n",
      "# batch size = 64\n",
      "# Augmentation = True\n",
      "Epoch 1/20\n",
      "11/11 [==============================] - ETA: 0s - loss: 1.5305 - categorical_accuracy: 0.3311 # Source path =  datasets/Project_data/val\n",
      "# batch size = 64\n",
      "# Augmentation = True\n",
      "\n",
      "Epoch 00001: saving model to model_init_2021-08-0208_55_39.587373/model-00001-1.53046-0.33107-1.34320-0.51500.h5\n",
      "11/11 [==============================] - 212s 19s/step - loss: 1.5305 - categorical_accuracy: 0.3311 - val_loss: 1.3432 - val_categorical_accuracy: 0.5150\n",
      "Epoch 2/20\n",
      "11/11 [==============================] - ETA: 0s - loss: 1.1493 - categorical_accuracy: 0.6026 \n",
      "Epoch 00002: saving model to model_init_2021-08-0208_55_39.587373/model-00002-1.14934-0.60256-1.00466-0.61000.h5\n",
      "11/11 [==============================] - 194s 18s/step - loss: 1.1493 - categorical_accuracy: 0.6026 - val_loss: 1.0047 - val_categorical_accuracy: 0.6100\n",
      "Epoch 3/20\n",
      "11/11 [==============================] - ETA: 0s - loss: 0.8154 - categorical_accuracy: 0.7398 \n",
      "Epoch 00003: saving model to model_init_2021-08-0208_55_39.587373/model-00003-0.81538-0.73982-0.85252-0.68000.h5\n",
      "11/11 [==============================] - 209s 19s/step - loss: 0.8154 - categorical_accuracy: 0.7398 - val_loss: 0.8525 - val_categorical_accuracy: 0.6800\n",
      "Epoch 4/20\n",
      "11/11 [==============================] - ETA: 0s - loss: 0.6088 - categorical_accuracy: 0.7986 \n",
      "Epoch 00004: saving model to model_init_2021-08-0208_55_39.587373/model-00004-0.60882-0.79864-0.68259-0.77000.h5\n",
      "11/11 [==============================] - 192s 17s/step - loss: 0.6088 - categorical_accuracy: 0.7986 - val_loss: 0.6826 - val_categorical_accuracy: 0.7700\n",
      "Epoch 5/20\n",
      "11/11 [==============================] - ETA: 0s - loss: 0.4475 - categorical_accuracy: 0.8462 \n",
      "Epoch 00005: saving model to model_init_2021-08-0208_55_39.587373/model-00005-0.44755-0.84615-0.59508-0.75000.h5\n",
      "11/11 [==============================] - 199s 18s/step - loss: 0.4475 - categorical_accuracy: 0.8462 - val_loss: 0.5951 - val_categorical_accuracy: 0.7500\n",
      "Epoch 6/20\n",
      "11/11 [==============================] - ETA: 0s - loss: 0.3360 - categorical_accuracy: 0.9012 \n",
      "Epoch 00006: saving model to model_init_2021-08-0208_55_39.587373/model-00006-0.33598-0.90121-0.59905-0.78500.h5\n",
      "11/11 [==============================] - 200s 18s/step - loss: 0.3360 - categorical_accuracy: 0.9012 - val_loss: 0.5990 - val_categorical_accuracy: 0.7850\n",
      "Epoch 7/20\n",
      "11/11 [==============================] - ETA: 0s - loss: 0.2359 - categorical_accuracy: 0.9404 \n",
      "Epoch 00007: saving model to model_init_2021-08-0208_55_39.587373/model-00007-0.23588-0.94042-0.54681-0.81000.h5\n",
      "11/11 [==============================] - 211s 19s/step - loss: 0.2359 - categorical_accuracy: 0.9404 - val_loss: 0.5468 - val_categorical_accuracy: 0.8100\n",
      "Epoch 8/20\n",
      "11/11 [==============================] - ETA: 0s - loss: 0.2122 - categorical_accuracy: 0.9329 \n",
      "Epoch 00008: saving model to model_init_2021-08-0208_55_39.587373/model-00008-0.21222-0.93288-0.79176-0.72500.h5\n",
      "11/11 [==============================] - 206s 19s/step - loss: 0.2122 - categorical_accuracy: 0.9329 - val_loss: 0.7918 - val_categorical_accuracy: 0.7250\n",
      "Epoch 9/20\n",
      "11/11 [==============================] - ETA: 0s - loss: 0.1905 - categorical_accuracy: 0.9510 \n",
      "Epoch 00009: saving model to model_init_2021-08-0208_55_39.587373/model-00009-0.19050-0.95098-0.81936-0.70500.h5\n",
      "\n",
      "Epoch 00009: ReduceLROnPlateau reducing learning rate to 0.0005000000237487257.\n",
      "11/11 [==============================] - 213s 19s/step - loss: 0.1905 - categorical_accuracy: 0.9510 - val_loss: 0.8194 - val_categorical_accuracy: 0.7050\n",
      "Epoch 10/20\n",
      "11/11 [==============================] - ETA: 0s - loss: 0.1436 - categorical_accuracy: 0.9600 \n",
      "Epoch 00010: saving model to model_init_2021-08-0208_55_39.587373/model-00010-0.14365-0.96003-0.57785-0.76500.h5\n",
      "11/11 [==============================] - 196s 18s/step - loss: 0.1436 - categorical_accuracy: 0.9600 - val_loss: 0.5779 - val_categorical_accuracy: 0.7650\n",
      "Epoch 11/20\n",
      "11/11 [==============================] - ETA: 0s - loss: 0.1158 - categorical_accuracy: 0.9736 \n",
      "Epoch 00011: saving model to model_init_2021-08-0208_55_39.587373/model-00011-0.11582-0.97360-0.57986-0.79000.h5\n",
      "\n",
      "Epoch 00011: ReduceLROnPlateau reducing learning rate to 0.0002500000118743628.\n",
      "11/11 [==============================] - 201s 18s/step - loss: 0.1158 - categorical_accuracy: 0.9736 - val_loss: 0.5799 - val_categorical_accuracy: 0.7900\n",
      "Epoch 12/20\n",
      "11/11 [==============================] - ETA: 0s - loss: 0.0905 - categorical_accuracy: 0.9804 \n",
      "Epoch 00012: saving model to model_init_2021-08-0208_55_39.587373/model-00012-0.09047-0.98039-0.69717-0.72500.h5\n",
      "11/11 [==============================] - 196s 18s/step - loss: 0.0905 - categorical_accuracy: 0.9804 - val_loss: 0.6972 - val_categorical_accuracy: 0.7250\n",
      "Epoch 13/20\n",
      "11/11 [==============================] - ETA: 0s - loss: 0.0993 - categorical_accuracy: 0.9759 \n",
      "Epoch 00013: saving model to model_init_2021-08-0208_55_39.587373/model-00013-0.09934-0.97587-0.45308-0.81500.h5\n",
      "11/11 [==============================] - 206s 19s/step - loss: 0.0993 - categorical_accuracy: 0.9759 - val_loss: 0.4531 - val_categorical_accuracy: 0.8150\n",
      "Epoch 14/20\n",
      "11/11 [==============================] - ETA: 0s - loss: 0.0780 - categorical_accuracy: 0.9857 \n",
      "Epoch 00014: saving model to model_init_2021-08-0208_55_39.587373/model-00014-0.07795-0.98567-0.57530-0.78000.h5\n",
      "11/11 [==============================] - 200s 18s/step - loss: 0.0780 - categorical_accuracy: 0.9857 - val_loss: 0.5753 - val_categorical_accuracy: 0.7800\n",
      "Epoch 15/20\n",
      "11/11 [==============================] - ETA: 0s - loss: 0.0792 - categorical_accuracy: 0.9804 \n",
      "Epoch 00015: saving model to model_init_2021-08-0208_55_39.587373/model-00015-0.07917-0.98039-0.63430-0.76000.h5\n",
      "\n",
      "Epoch 00015: ReduceLROnPlateau reducing learning rate to 0.0001250000059371814.\n",
      "11/11 [==============================] - 202s 18s/step - loss: 0.0792 - categorical_accuracy: 0.9804 - val_loss: 0.6343 - val_categorical_accuracy: 0.7600\n",
      "Epoch 16/20\n",
      "11/11 [==============================] - ETA: 0s - loss: 0.0704 - categorical_accuracy: 0.9879 \n",
      "Epoch 00016: saving model to model_init_2021-08-0208_55_39.587373/model-00016-0.07041-0.98793-0.61206-0.76000.h5\n",
      "11/11 [==============================] - 192s 17s/step - loss: 0.0704 - categorical_accuracy: 0.9879 - val_loss: 0.6121 - val_categorical_accuracy: 0.7600\n",
      "Epoch 17/20\n",
      "11/11 [==============================] - ETA: 0s - loss: 0.0765 - categorical_accuracy: 0.9819 \n",
      "Epoch 00017: saving model to model_init_2021-08-0208_55_39.587373/model-00017-0.07653-0.98190-0.59168-0.77500.h5\n",
      "\n",
      "Epoch 00017: ReduceLROnPlateau reducing learning rate to 6.25000029685907e-05.\n",
      "11/11 [==============================] - 199s 18s/step - loss: 0.0765 - categorical_accuracy: 0.9819 - val_loss: 0.5917 - val_categorical_accuracy: 0.7750\n",
      "Epoch 18/20\n",
      "11/11 [==============================] - ETA: 0s - loss: 0.0676 - categorical_accuracy: 0.9857 \n",
      "Epoch 00018: saving model to model_init_2021-08-0208_55_39.587373/model-00018-0.06756-0.98567-0.58879-0.76500.h5\n",
      "11/11 [==============================] - 189s 17s/step - loss: 0.0676 - categorical_accuracy: 0.9857 - val_loss: 0.5888 - val_categorical_accuracy: 0.7650\n",
      "Epoch 19/20\n",
      "11/11 [==============================] - ETA: 0s - loss: 0.0604 - categorical_accuracy: 0.9902 \n",
      "Epoch 00019: saving model to model_init_2021-08-0208_55_39.587373/model-00019-0.06037-0.99020-0.61528-0.77000.h5\n",
      "\n",
      "Epoch 00019: ReduceLROnPlateau reducing learning rate to 3.125000148429535e-05.\n",
      "11/11 [==============================] - 197s 18s/step - loss: 0.0604 - categorical_accuracy: 0.9902 - val_loss: 0.6153 - val_categorical_accuracy: 0.7700\n",
      "Epoch 20/20\n",
      "11/11 [==============================] - ETA: 0s - loss: 0.0652 - categorical_accuracy: 0.9872 \n",
      "Epoch 00020: saving model to model_init_2021-08-0208_55_39.587373/model-00020-0.06519-0.98718-0.50440-0.80500.h5\n",
      "11/11 [==============================] - 188s 17s/step - loss: 0.0652 - categorical_accuracy: 0.9872 - val_loss: 0.5044 - val_categorical_accuracy: 0.8050\n"
     ]
    }
   ],
   "source": [
    "model_history = model.fit_generator(train_generator, steps_per_epoch=steps_per_epoch, epochs=num_epochs, verbose=1,\n",
    "                    callbacks=callbacks_list, validation_data=val_generator, \n",
    "                    validation_steps=validation_steps, class_weight=None, workers=1, initial_epoch=0)"
   ]
  },
  {
   "cell_type": "code",
   "execution_count": 19,
   "metadata": {},
   "outputs": [
    {
     "data": {
      "image/png": "[encoded data removed]",
      "text/plain": [
       "<Figure size 1080x288 with 2 Axes>"
      ]
     },
     "metadata": {
      "needs_background": "light"
     },
     "output_type": "display_data"
    }
   ],
   "source": [
    "#Plot the accuracy of model. \n",
    "plot_accuracy(model_history)"
   ]
  }
 ],
 "metadata": {
  "accelerator": "GPU",
  "colab": {
   "collapsed_sections": [],
   "machine_shape": "hm",
   "name": "Gesture_Recognition_Case_Study.ipynb",
   "provenance": []
  },
  "hide_input": false,
  "kernelspec": {
   "display_name": "Python 3 (ipykernel)",
   "language": "python",
   "name": "python3"
  },
  "language_info": {
   "codemirror_mode": {
    "name": "ipython",
    "version": 3
   },
   "file_extension": ".py",
   "mimetype": "text/x-python",
   "name": "python",
   "nbconvert_exporter": "python",
   "pygments_lexer": "ipython3",
   "version": "3.7.1"
  },
  "toc": {
   "base_numbering": 1,
   "nav_menu": {},
   "number_sections": true,
   "sideBar": true,
   "skip_h1_title": false,
   "title_cell": "Table of Contents",
   "title_sidebar": "Contents",
   "toc_cell": false,
   "toc_position": {},
   "toc_section_display": true,
   "toc_window_display": false
  },
  "varInspector": {
   "cols": {
    "lenName": 16,
    "lenType": 16,
    "lenVar": 40
   },
   "kernels_config": {
    "python": {
     "delete_cmd_postfix": "",
     "delete_cmd_prefix": "del ",
     "library": "var_list.py",
     "varRefreshCmd": "print(var_dic_list())"
    },
    "r": {
     "delete_cmd_postfix": ") ",
     "delete_cmd_prefix": "rm(",
     "library": "var_list.r",
     "varRefreshCmd": "cat(var_dic_list()) "
    }
   },
   "types_to_exclude": [
    "module",
    "function",
    "builtin_function_or_method",
    "instance",
    "_Feature"
   ],
   "window_display": false
  }
 },
 "nbformat": 4,
 "nbformat_minor": 4
}
